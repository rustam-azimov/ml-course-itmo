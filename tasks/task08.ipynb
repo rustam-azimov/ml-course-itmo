{
 "cells": [
  {
   "cell_type": "markdown",
   "id": "b771b5bd-1b67-418b-b7b4-8175339d6d17",
   "metadata": {},
   "source": [
    "# Лабораторная работа 8\n",
    "- **Дедлайн**: 11.06.2023, 23:59\n",
    "- **Максимум баллов**: 10\n",
    "\n",
    "В первой главе данного курса вам было предложено с помощью фреймворка sklearn обучить модель машинного обучения для задачи бинарной классификации на наборе данных Titanic. Давайте попробуем выполнить ту же самую задачу с помощью фреймворка глубокого обучения TensorFlow."
   ]
  },
  {
   "cell_type": "markdown",
   "id": "5497cd50-6330-4112-b0ca-601a460ac85c",
   "metadata": {},
   "source": [
    "Давайте убедимся, что необходимые нам для этой работы библиотеки уже установлены."
   ]
  },
  {
   "cell_type": "code",
   "execution_count": 1,
   "id": "34f49680-bb94-4eae-a006-e69e3ea31ce5",
   "metadata": {
    "tags": []
   },
   "outputs": [
    {
     "name": "stdout",
     "output_type": "stream",
     "text": [
      "Requirement already satisfied: numpy in c:\\users\\kell\\.conda\\envs\\ds\\lib\\site-packages (1.20.1)\n",
      "Requirement already satisfied: tensorflow_datasets in c:\\users\\kell\\.conda\\envs\\ds\\lib\\site-packages (4.4.0)\n",
      "Requirement already satisfied: tensorflow in c:\\users\\kell\\.conda\\envs\\ds\\lib\\site-packages (2.5.0)\n",
      "Requirement already satisfied: tensorboard~=2.5 in c:\\users\\kell\\.conda\\envs\\ds\\lib\\site-packages (from tensorflow) (2.5.0)\n",
      "Requirement already satisfied: protobuf>=3.9.2 in c:\\users\\kell\\.conda\\envs\\ds\\lib\\site-packages (from tensorflow) (3.14.0)\n",
      "Requirement already satisfied: google-pasta~=0.2 in c:\\users\\kell\\.conda\\envs\\ds\\lib\\site-packages (from tensorflow) (0.2.0)\n",
      "Requirement already satisfied: gast==0.4.0 in c:\\users\\kell\\.conda\\envs\\ds\\lib\\site-packages (from tensorflow) (0.4.0)\n",
      "Requirement already satisfied: termcolor>=1.1.0 in c:\\users\\kell\\.conda\\envs\\ds\\lib\\site-packages (from tensorflow) (1.1.0)\n",
      "Requirement already satisfied: wheel>=0.35 in c:\\users\\kell\\.conda\\envs\\ds\\lib\\site-packages (from tensorflow) (0.35.1)\n",
      "Requirement already satisfied: keras>=2.4.0 in c:\\users\\kell\\.conda\\envs\\ds\\lib\\site-packages (from tensorflow) (2.6.0)\n",
      "Requirement already satisfied: wrapt>=1.11.2 in c:\\users\\kell\\.conda\\envs\\ds\\lib\\site-packages (from tensorflow) (1.12.1)\n",
      "Requirement already satisfied: six>=1.15.0 in c:\\users\\kell\\.conda\\envs\\ds\\lib\\site-packages (from tensorflow) (1.15.0)\n",
      "Requirement already satisfied: tensorflow-estimator<2.6.0,>=2.5.0rc0 in c:\\users\\kell\\.conda\\envs\\ds\\lib\\site-packages (from tensorflow) (2.5.0)\n",
      "Requirement already satisfied: h5py>=3.1.0 in c:\\users\\kell\\.conda\\envs\\ds\\lib\\site-packages (from tensorflow) (3.2.1)\n",
      "Requirement already satisfied: opt-einsum~=3.3.0 in c:\\users\\kell\\.conda\\envs\\ds\\lib\\site-packages (from tensorflow) (3.3.0)\n",
      "Requirement already satisfied: typing-extensions>=3.7.4 in c:\\users\\kell\\.conda\\envs\\ds\\lib\\site-packages (from tensorflow) (3.7.4.3)\n",
      "Requirement already satisfied: absl-py~=0.10 in c:\\users\\kell\\.conda\\envs\\ds\\lib\\site-packages (from tensorflow) (0.12.0)\n",
      "Requirement already satisfied: grpcio~=1.34.0 in c:\\users\\kell\\.conda\\envs\\ds\\lib\\site-packages (from tensorflow) (1.34.1)\n",
      "Requirement already satisfied: astunparse~=1.6.3 in c:\\users\\kell\\.conda\\envs\\ds\\lib\\site-packages (from tensorflow) (1.6.3)\n",
      "Requirement already satisfied: flatbuffers~=1.12 in c:\\users\\kell\\.conda\\envs\\ds\\lib\\site-packages (from tensorflow) (1.12)\n",
      "Requirement already satisfied: keras-preprocessing>=1.1.2 in c:\\users\\kell\\.conda\\envs\\ds\\lib\\site-packages (from tensorflow) (1.1.2)\n",
      "Requirement already satisfied: tensorboard-data-server<0.7.0,>=0.6.0 in c:\\users\\kell\\.conda\\envs\\ds\\lib\\site-packages (from tensorboard~=2.5->tensorflow) (0.6.1)\n",
      "Requirement already satisfied: werkzeug>=0.11.15 in c:\\users\\kell\\.conda\\envs\\ds\\lib\\site-packages (from tensorboard~=2.5->tensorflow) (1.0.1)\n",
      "Requirement already satisfied: tensorboard-plugin-wit>=1.6.0 in c:\\users\\kell\\.conda\\envs\\ds\\lib\\site-packages (from tensorboard~=2.5->tensorflow) (1.6.0)\n",
      "Requirement already satisfied: requests<3,>=2.21.0 in c:\\users\\kell\\.conda\\envs\\ds\\lib\\site-packages (from tensorboard~=2.5->tensorflow) (2.25.1)\n",
      "Requirement already satisfied: google-auth<2,>=1.6.3 in c:\\users\\kell\\.conda\\envs\\ds\\lib\\site-packages (from tensorboard~=2.5->tensorflow) (1.21.3)\n",
      "Requirement already satisfied: setuptools>=41.0.0 in c:\\users\\kell\\.conda\\envs\\ds\\lib\\site-packages (from tensorboard~=2.5->tensorflow) (52.0.0.post20210125)\n",
      "Requirement already satisfied: google-auth-oauthlib<0.5,>=0.4.1 in c:\\users\\kell\\.conda\\envs\\ds\\lib\\site-packages (from tensorboard~=2.5->tensorflow) (0.4.1)\n",
      "Requirement already satisfied: markdown>=2.6.8 in c:\\users\\kell\\.conda\\envs\\ds\\lib\\site-packages (from tensorboard~=2.5->tensorflow) (3.3.4)\n",
      "Requirement already satisfied: cachetools<5.0,>=2.0.0 in c:\\users\\kell\\.conda\\envs\\ds\\lib\\site-packages (from google-auth<2,>=1.6.3->tensorboard~=2.5->tensorflow) (4.2.2)\n",
      "Requirement already satisfied: rsa<5,>=3.1.4 in c:\\users\\kell\\.conda\\envs\\ds\\lib\\site-packages (from google-auth<2,>=1.6.3->tensorboard~=2.5->tensorflow) (4.7.2)\n",
      "Requirement already satisfied: pyasn1-modules>=0.2.1 in c:\\users\\kell\\.conda\\envs\\ds\\lib\\site-packages (from google-auth<2,>=1.6.3->tensorboard~=2.5->tensorflow) (0.2.8)\n",
      "Requirement already satisfied: requests-oauthlib>=0.7.0 in c:\\users\\kell\\.conda\\envs\\ds\\lib\\site-packages (from google-auth-oauthlib<0.5,>=0.4.1->tensorboard~=2.5->tensorflow) (1.3.0)\n",
      "Requirement already satisfied: pyasn1<0.5.0,>=0.4.6 in c:\\users\\kell\\.conda\\envs\\ds\\lib\\site-packages (from pyasn1-modules>=0.2.1->google-auth<2,>=1.6.3->tensorboard~=2.5->tensorflow) (0.4.8)\n",
      "Requirement already satisfied: idna<3,>=2.5 in c:\\users\\kell\\.conda\\envs\\ds\\lib\\site-packages (from requests<3,>=2.21.0->tensorboard~=2.5->tensorflow) (2.10)\n",
      "Requirement already satisfied: urllib3<1.27,>=1.21.1 in c:\\users\\kell\\.conda\\envs\\ds\\lib\\site-packages (from requests<3,>=2.21.0->tensorboard~=2.5->tensorflow) (1.26.6)\n",
      "Requirement already satisfied: chardet<5,>=3.0.2 in c:\\users\\kell\\.conda\\envs\\ds\\lib\\site-packages (from requests<3,>=2.21.0->tensorboard~=2.5->tensorflow) (4.0.0)\n",
      "Requirement already satisfied: certifi>=2017.4.17 in c:\\users\\kell\\.conda\\envs\\ds\\lib\\site-packages (from requests<3,>=2.21.0->tensorboard~=2.5->tensorflow) (2021.10.8)\n",
      "Requirement already satisfied: oauthlib>=3.0.0 in c:\\users\\kell\\.conda\\envs\\ds\\lib\\site-packages (from requests-oauthlib>=0.7.0->google-auth-oauthlib<0.5,>=0.4.1->tensorboard~=2.5->tensorflow) (3.1.1)\n",
      "Requirement already satisfied: tqdm in c:\\users\\kell\\.conda\\envs\\ds\\lib\\site-packages (from tensorflow_datasets) (4.62.1)\n",
      "Requirement already satisfied: promise in c:\\users\\kell\\.conda\\envs\\ds\\lib\\site-packages (from tensorflow_datasets) (2.3)\n",
      "Requirement already satisfied: attrs>=18.1.0 in c:\\users\\kell\\.conda\\envs\\ds\\lib\\site-packages (from tensorflow_datasets) (21.2.0)\n",
      "Requirement already satisfied: dill in c:\\users\\kell\\.conda\\envs\\ds\\lib\\site-packages (from tensorflow_datasets) (0.3.4)\n",
      "Requirement already satisfied: future in c:\\users\\kell\\.conda\\envs\\ds\\lib\\site-packages (from tensorflow_datasets) (0.18.2)\n",
      "Requirement already satisfied: tensorflow-metadata in c:\\users\\kell\\.conda\\envs\\ds\\lib\\site-packages (from tensorflow_datasets) (1.2.0)\n",
      "Requirement already satisfied: googleapis-common-protos<2,>=1.52.0 in c:\\users\\kell\\.conda\\envs\\ds\\lib\\site-packages (from tensorflow-metadata->tensorflow_datasets) (1.53.0)\n",
      "Requirement already satisfied: colorama in c:\\users\\kell\\.conda\\envs\\ds\\lib\\site-packages (from tqdm->tensorflow_datasets) (0.4.4)\n"
     ]
    }
   ],
   "source": [
    "!pip install numpy tensorflow_datasets tensorflow"
   ]
  },
  {
   "cell_type": "markdown",
   "id": "f9f0f099-9236-41e6-a985-69758dbae2dd",
   "metadata": {},
   "source": [
    "# Описание набора данных\n",
    "В данной работе целью исследования будет набор данных Titanic. Данный набор содержит информацию о различных пассажирах корабля \"Титаник\", затонувшего в ночь на 15-е апреля 1912 года. Некоторое количество пассажиров спаслось, чему способствовало множество различных факторов, включая их пол, возраст, на какой палубе находилась их кабина, социальный статус, и т.д. Мы предлагаем вам натренировать нейронную сеть для бинарной классификации, способную предсказывать вероятность спасения человека на основе его данных.  \n",
    "\n",
    "Набор данных состоит из различных признаков, описывающих информацию о пассажирах. Каждая строка таблицы - отдельный пассажир, вся информация о нем содержится в его строке. В столбце survived находится бинарная метка (0 или 1), означающая, спасся ли человек с корабля (1) или нет (0). Вашей задачей является изучить набор данных, корректно определить решаемую задачу, а затем построить модель, которая будет способна предсказывать вероятность спасения и посчитать F1-метрику на тестовом наборе данных."
   ]
  },
  {
   "cell_type": "markdown",
   "id": "361dfa0d-46c0-4abb-bcad-0e301290bc34",
   "metadata": {},
   "source": [
    "Для загрузки набора данных мы снова будем использовать библиотеку tensorflow_datasets. \n",
    "\n",
    "Импортируем данную библиотеку, а затем с помощью нее загрузим набор данных \"titanic\". В процессе загрузки сразу разделим его на тренировочную, валидационную и тестовую выборку."
   ]
  },
  {
   "cell_type": "code",
   "execution_count": 2,
   "id": "0e1a6d18-31e6-41f0-9e12-019c41fe828c",
   "metadata": {},
   "outputs": [],
   "source": [
    "import tensorflow_datasets as tfds\n",
    "ds_train_tf, ds_validation_tf, ds_test_tf = tfds.load(\n",
    "    name='titanic',\n",
    "    split=['train[:80%]', 'train[80%:90%]', 'train[90%:]'],\n",
    "    as_supervised=True\n",
    ")"
   ]
  },
  {
   "cell_type": "markdown",
   "id": "0ff561ff-9506-41c1-bf34-159eb302d97e",
   "metadata": {},
   "source": [
    "По умолчанию библиотека загружает данные в формате TensorFlow Dataset. Этот формат позволяет оперировать данными на жестком диске без предварительной загрузки их в память, что позволят обучать модели на данных, превышающих размер оперативной памяти вашего устройства.\n",
    "\n",
    "Набор данных Titanic является достаточно небольшим набором и мы уверены, что оперативной памяти вашего устройства хватит для хранения его целиком, поэтому это в данный момент не играет решающей роли. Однако, вам будет полезно научиться работать с ним.\n",
    "\n",
    "Примеры использования и различных функций этого формата данных вы можете найти в документации или Jupyter Notebook'е данного курса, описывающем работу с библиотекой Keras."
   ]
  },
  {
   "cell_type": "markdown",
   "id": "710905d4-a25f-42d4-94a2-6d75369ad559",
   "metadata": {},
   "source": [
    "Давайте выведем первую строку тренировочного набора данных для ознакомления."
   ]
  },
  {
   "cell_type": "code",
   "execution_count": 3,
   "id": "88731941-8e7f-421f-a2bc-4c12fba81f51",
   "metadata": {},
   "outputs": [
    {
     "name": "stdout",
     "output_type": "stream",
     "text": [
      "x={'age': <tf.Tensor: shape=(), dtype=float32, numpy=30.0>, 'boat': <tf.Tensor: shape=(), dtype=string, numpy=b'Unknown'>, 'body': <tf.Tensor: shape=(), dtype=int32, numpy=-1>, 'cabin': <tf.Tensor: shape=(), dtype=string, numpy=b'Unknown'>, 'embarked': <tf.Tensor: shape=(), dtype=int64, numpy=2>, 'fare': <tf.Tensor: shape=(), dtype=float32, numpy=13.0>, 'home.dest': <tf.Tensor: shape=(), dtype=string, numpy=b'Sarnia, ON'>, 'name': <tf.Tensor: shape=(), dtype=string, numpy=b'McCrie, Mr. James Matthew'>, 'parch': <tf.Tensor: shape=(), dtype=int32, numpy=0>, 'pclass': <tf.Tensor: shape=(), dtype=int64, numpy=1>, 'sex': <tf.Tensor: shape=(), dtype=int64, numpy=0>, 'sibsp': <tf.Tensor: shape=(), dtype=int32, numpy=0>, 'ticket': <tf.Tensor: shape=(), dtype=string, numpy=b'233478'>}\n",
      "y=<tf.Tensor: shape=(), dtype=int64, numpy=0>\n"
     ]
    }
   ],
   "source": [
    "for x, y in ds_train_tf.take(1):\n",
    "    print(f\"{x=}\")\n",
    "    print(f\"{y=}\")"
   ]
  },
  {
   "cell_type": "markdown",
   "id": "4895b942-7e3a-49db-bc31-9b4d75312103",
   "metadata": {},
   "source": [
    "Как можно заметить, формат текущего датасета представляет собой кортеж из двух элементов - признаков и метки класса. Признаки организованы как словарь с ключами (названиями признаков) и значениями признаков. Данный формат можно использовать напрямую для метода model.fit, однако признаки, несомненно, требуют предобработки."
   ]
  },
  {
   "cell_type": "markdown",
   "id": "73348261-bfdd-4a04-8372-7906d79600a9",
   "metadata": {},
   "source": [
    "Итак, к настоящему моменту мы загрузили набор данных, разделили его на тренировочную, валидационную и тестовую выборку и готовы приступить к решению задачи. Вашим финальным заданием является получение максимального значения F1-метрики на тестовом наборе данных, используя все возможности по изучению и визуализации данных, предобработке данных, а также нейронную сеть, выполненную с помощью фреймворка TensorFlow (и его части - Keras).  \n",
    "\n",
    "Для того, чтобы напомнить процесс подготовки данных и обучения модели, мы поместили несколько ячеек с комментариями ниже в предполагаемом порядке. Однако, вы можете использовать любой удобный вам процесс.  \n",
    "\n",
    "В процессе исследования и тренировки запрещено использовать данных из ds_test кроме как для финальной оценки F1 метрики. Данная лабораторная работа служит не для проверки ваших навыков, а для того, чтобы помочь вам вспомнить основы машинного обучения и работы с соответствующими библиотеками. Мы просим вас попытаться решить задачу самостоятельно, не используя доступную информацию из ds_test набора и не пытаясь подогнать модель под идеальную работу с конкретно данным набором, а также просим не использовать внешние источники данных и информацию из соответствующих соревнований на платформе Kaggle."
   ]
  },
  {
   "cell_type": "markdown",
   "id": "8e2f6838-33d5-42ee-b661-d9dfcb992eee",
   "metadata": {},
   "source": [
    "Вы можете найти для себя полезным пройти снова ноутбук с описанием работы фреймворка Keras и информацией о том, как его использовать. Также по данному фреймворку доступны многочисленные туториалы и примеры на его сайте. Напомним вам, что задача представляет собой бинарную классификацию, поэтому вам необходимо выбрать правильное количество нейронов для последнего слоя и функцию активации.\n",
    "\n",
    "Успехов!"
   ]
  },
  {
   "cell_type": "code",
   "execution_count": 4,
   "id": "b1a4bca2-ccb8-45d0-8a7a-66c176793a81",
   "metadata": {},
   "outputs": [],
   "source": [
    "# Предобработка данных"
   ]
  },
  {
   "cell_type": "code",
   "execution_count": 5,
   "id": "e11c68fd-3d42-4979-b426-4756476510c3",
   "metadata": {},
   "outputs": [],
   "source": [
    "# 1. Предобработка данных: заполнение пропущенных мест, приведение столбцов к единому виду, удаление nan/infinity значений"
   ]
  },
  {
   "cell_type": "code",
   "execution_count": 6,
   "id": "954259b0-8f7c-4849-81ef-ce84108a4e13",
   "metadata": {},
   "outputs": [],
   "source": [
    "# 2. Инженерия признаков: генерация или выделение наиболее интересных признаков, удаление ненужных"
   ]
  },
  {
   "cell_type": "code",
   "execution_count": 7,
   "id": "dd8e19f5-a319-413f-b28c-304cd08ae8fc",
   "metadata": {},
   "outputs": [],
   "source": [
    "# 3. Нормализация данных относительно среднего и медианы"
   ]
  },
  {
   "cell_type": "code",
   "execution_count": 8,
   "id": "f7a88f0e-6af5-47f9-92de-abce2cfc3912",
   "metadata": {},
   "outputs": [],
   "source": [
    "# Обучение модели"
   ]
  },
  {
   "cell_type": "code",
   "execution_count": 9,
   "id": "90e961da-8c26-435c-a56a-c241f9ed2917",
   "metadata": {},
   "outputs": [],
   "source": [
    "# 1. Выбор модели или ансамбля моделей"
   ]
  },
  {
   "cell_type": "code",
   "execution_count": 10,
   "id": "d4f2a113-f0f0-44d4-a155-424161391af6",
   "metadata": {},
   "outputs": [],
   "source": [
    "# 2. Поиск оптимальных гиперпараметров на validation наборе данных"
   ]
  },
  {
   "cell_type": "code",
   "execution_count": 11,
   "id": "7a04dd35-2cfa-44be-9ab3-edb32c176159",
   "metadata": {},
   "outputs": [],
   "source": [
    "# Оценка модели"
   ]
  },
  {
   "cell_type": "code",
   "execution_count": 12,
   "id": "39c4e590-18a4-45f3-a38f-bcc38e6ef7e7",
   "metadata": {},
   "outputs": [],
   "source": [
    "# 1. Получение F1-метрики на тестовом наборе данных"
   ]
  },
  {
   "cell_type": "code",
   "execution_count": null,
   "id": "dc197c6a-18ac-4b35-9b48-0707e0ccff57",
   "metadata": {},
   "outputs": [],
   "source": []
  }
 ],
 "metadata": {
  "kernelspec": {
   "display_name": "Python 3 (ipykernel)",
   "language": "python",
   "name": "python3"
  },
  "language_info": {
   "codemirror_mode": {
    "name": "ipython",
    "version": 3
   },
   "file_extension": ".py",
   "mimetype": "text/x-python",
   "name": "python",
   "nbconvert_exporter": "python",
   "pygments_lexer": "ipython3",
   "version": "3.8.10"
  }
 },
 "nbformat": 4,
 "nbformat_minor": 5
}
