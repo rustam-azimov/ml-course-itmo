{
  "nbformat": 4,
  "nbformat_minor": 0,
  "metadata": {
    "colab": {
      "name": "Untitled14.ipynb",
      "provenance": []
    },
    "kernelspec": {
      "name": "python3",
      "display_name": "Python 3"
    },
    "language_info": {
      "name": "python"
    }
  },
  "cells": [
    {
      "cell_type": "code",
      "metadata": {
        "id": "YPvsWzQmdypa"
      },
      "source": [
        "import numpy as np\n",
        "from keras.models import Sequential\n",
        "from keras.layers import Input, Dense, Activation"
      ],
      "execution_count": 1,
      "outputs": []
    },
    {
      "cell_type": "code",
      "metadata": {
        "id": "kyH7TlkUgDrF"
      },
      "source": [
        "log_regression = Sequential()\n",
        "log_regression.add(Dense(1, input_dim = 2, activation = 'sigmoid'))\n",
        "log_regression.compile(loss = 'binary_crossentropy', optimizer = 'sgd', metrics = ['accuracy'])"
      ],
      "execution_count": 2,
      "outputs": []
    },
    {
      "cell_type": "code",
      "metadata": {
        "id": "BUGN-F_uheXE"
      },
      "source": [
        "def sampler(n, x, y):\n",
        "  return np.random.normal(size = [n, 2]) + [x, y]"
      ],
      "execution_count": 3,
      "outputs": []
    },
    {
      "cell_type": "code",
      "metadata": {
        "id": "LQzmuuwyh1ma"
      },
      "source": [
        "def sample_data(n = 1000, p0 = (-1., -1.), p1 = (1., 1.)):\n",
        "  zeros, ones = np.zeros((n, 1)), np.ones((n, 1))\n",
        "  labels = np.vstack([zeros, ones])\n",
        "  z_sample = sampler(n, x = p0[0], y = p0[1])\n",
        "  o_sample = sampler(n, x = p1[0], y = p1[1])\n",
        "  return np.vstack([z_sample, o_sample]), labels"
      ],
      "execution_count": 13,
      "outputs": []
    },
    {
      "cell_type": "code",
      "metadata": {
        "id": "HCGuvArTiKd3"
      },
      "source": [
        "X_train, Y_train = sample_data()\n",
        "X_test, Y_test = sample_data(100)"
      ],
      "execution_count": 14,
      "outputs": []
    },
    {
      "cell_type": "code",
      "metadata": {
        "colab": {
          "base_uri": "https://localhost:8080/"
        },
        "id": "QUsE3RCsiNKk",
        "outputId": "fc845d0d-87b6-4643-ba44-f09e53673f2c"
      },
      "source": [
        "log_regression.fit(X_train, Y_train, batch_size = 16, epochs = 100, verbose = 1, validation_data = (X_test, Y_test))"
      ],
      "execution_count": 16,
      "outputs": [
        {
          "output_type": "stream",
          "name": "stdout",
          "text": [
            "Epoch 1/100\n",
            "125/125 [==============================] - 1s 4ms/step - loss: 0.5772 - accuracy: 0.7150 - val_loss: 0.4893 - val_accuracy: 0.7500\n",
            "Epoch 2/100\n",
            "125/125 [==============================] - 0s 2ms/step - loss: 0.4049 - accuracy: 0.8120 - val_loss: 0.3768 - val_accuracy: 0.8150\n",
            "Epoch 3/100\n",
            "125/125 [==============================] - 0s 2ms/step - loss: 0.3310 - accuracy: 0.8645 - val_loss: 0.3186 - val_accuracy: 0.8350\n",
            "Epoch 4/100\n",
            "125/125 [==============================] - 0s 2ms/step - loss: 0.2924 - accuracy: 0.8825 - val_loss: 0.2838 - val_accuracy: 0.8550\n",
            "Epoch 5/100\n",
            "125/125 [==============================] - 0s 2ms/step - loss: 0.2692 - accuracy: 0.8950 - val_loss: 0.2612 - val_accuracy: 0.8850\n",
            "Epoch 6/100\n",
            "125/125 [==============================] - 0s 2ms/step - loss: 0.2541 - accuracy: 0.8990 - val_loss: 0.2457 - val_accuracy: 0.8950\n",
            "Epoch 7/100\n",
            "125/125 [==============================] - 0s 2ms/step - loss: 0.2436 - accuracy: 0.9000 - val_loss: 0.2344 - val_accuracy: 0.9100\n",
            "Epoch 8/100\n",
            "125/125 [==============================] - 0s 2ms/step - loss: 0.2361 - accuracy: 0.9045 - val_loss: 0.2260 - val_accuracy: 0.9100\n",
            "Epoch 9/100\n",
            "125/125 [==============================] - 0s 2ms/step - loss: 0.2305 - accuracy: 0.9065 - val_loss: 0.2195 - val_accuracy: 0.9100\n",
            "Epoch 10/100\n",
            "125/125 [==============================] - 0s 2ms/step - loss: 0.2262 - accuracy: 0.9060 - val_loss: 0.2144 - val_accuracy: 0.9150\n",
            "Epoch 11/100\n",
            "125/125 [==============================] - 0s 2ms/step - loss: 0.2229 - accuracy: 0.9075 - val_loss: 0.2103 - val_accuracy: 0.9150\n",
            "Epoch 12/100\n",
            "125/125 [==============================] - 0s 2ms/step - loss: 0.2203 - accuracy: 0.9105 - val_loss: 0.2071 - val_accuracy: 0.9150\n",
            "Epoch 13/100\n",
            "125/125 [==============================] - 0s 2ms/step - loss: 0.2182 - accuracy: 0.9125 - val_loss: 0.2043 - val_accuracy: 0.9150\n",
            "Epoch 14/100\n",
            "125/125 [==============================] - 0s 2ms/step - loss: 0.2165 - accuracy: 0.9130 - val_loss: 0.2021 - val_accuracy: 0.9150\n",
            "Epoch 15/100\n",
            "125/125 [==============================] - 0s 3ms/step - loss: 0.2150 - accuracy: 0.9135 - val_loss: 0.2001 - val_accuracy: 0.9200\n",
            "Epoch 16/100\n",
            "125/125 [==============================] - 0s 2ms/step - loss: 0.2139 - accuracy: 0.9125 - val_loss: 0.1985 - val_accuracy: 0.9250\n",
            "Epoch 17/100\n",
            "125/125 [==============================] - 0s 3ms/step - loss: 0.2129 - accuracy: 0.9130 - val_loss: 0.1971 - val_accuracy: 0.9250\n",
            "Epoch 18/100\n",
            "125/125 [==============================] - 0s 2ms/step - loss: 0.2121 - accuracy: 0.9130 - val_loss: 0.1959 - val_accuracy: 0.9250\n",
            "Epoch 19/100\n",
            "125/125 [==============================] - 0s 2ms/step - loss: 0.2114 - accuracy: 0.9125 - val_loss: 0.1949 - val_accuracy: 0.9250\n",
            "Epoch 20/100\n",
            "125/125 [==============================] - 0s 2ms/step - loss: 0.2108 - accuracy: 0.9125 - val_loss: 0.1940 - val_accuracy: 0.9250\n",
            "Epoch 21/100\n",
            "125/125 [==============================] - 0s 2ms/step - loss: 0.2103 - accuracy: 0.9130 - val_loss: 0.1932 - val_accuracy: 0.9250\n",
            "Epoch 22/100\n",
            "125/125 [==============================] - 0s 2ms/step - loss: 0.2098 - accuracy: 0.9135 - val_loss: 0.1925 - val_accuracy: 0.9250\n",
            "Epoch 23/100\n",
            "125/125 [==============================] - 0s 2ms/step - loss: 0.2095 - accuracy: 0.9135 - val_loss: 0.1918 - val_accuracy: 0.9250\n",
            "Epoch 24/100\n",
            "125/125 [==============================] - 0s 2ms/step - loss: 0.2091 - accuracy: 0.9135 - val_loss: 0.1912 - val_accuracy: 0.9250\n",
            "Epoch 25/100\n",
            "125/125 [==============================] - 0s 2ms/step - loss: 0.2089 - accuracy: 0.9140 - val_loss: 0.1907 - val_accuracy: 0.9250\n",
            "Epoch 26/100\n",
            "125/125 [==============================] - 0s 2ms/step - loss: 0.2086 - accuracy: 0.9140 - val_loss: 0.1903 - val_accuracy: 0.9250\n",
            "Epoch 27/100\n",
            "125/125 [==============================] - 0s 2ms/step - loss: 0.2084 - accuracy: 0.9140 - val_loss: 0.1898 - val_accuracy: 0.9250\n",
            "Epoch 28/100\n",
            "125/125 [==============================] - 0s 2ms/step - loss: 0.2082 - accuracy: 0.9135 - val_loss: 0.1895 - val_accuracy: 0.9250\n",
            "Epoch 29/100\n",
            "125/125 [==============================] - 0s 2ms/step - loss: 0.2080 - accuracy: 0.9135 - val_loss: 0.1891 - val_accuracy: 0.9250\n",
            "Epoch 30/100\n",
            "125/125 [==============================] - 0s 2ms/step - loss: 0.2079 - accuracy: 0.9135 - val_loss: 0.1888 - val_accuracy: 0.9250\n",
            "Epoch 31/100\n",
            "125/125 [==============================] - 0s 2ms/step - loss: 0.2078 - accuracy: 0.9135 - val_loss: 0.1885 - val_accuracy: 0.9250\n",
            "Epoch 32/100\n",
            "125/125 [==============================] - 0s 2ms/step - loss: 0.2076 - accuracy: 0.9135 - val_loss: 0.1882 - val_accuracy: 0.9250\n",
            "Epoch 33/100\n",
            "125/125 [==============================] - 0s 2ms/step - loss: 0.2075 - accuracy: 0.9135 - val_loss: 0.1880 - val_accuracy: 0.9250\n",
            "Epoch 34/100\n",
            "125/125 [==============================] - 0s 2ms/step - loss: 0.2074 - accuracy: 0.9135 - val_loss: 0.1878 - val_accuracy: 0.9250\n",
            "Epoch 35/100\n",
            "125/125 [==============================] - 0s 2ms/step - loss: 0.2074 - accuracy: 0.9135 - val_loss: 0.1875 - val_accuracy: 0.9250\n",
            "Epoch 36/100\n",
            "125/125 [==============================] - 0s 2ms/step - loss: 0.2073 - accuracy: 0.9135 - val_loss: 0.1873 - val_accuracy: 0.9250\n",
            "Epoch 37/100\n",
            "125/125 [==============================] - 0s 1ms/step - loss: 0.2072 - accuracy: 0.9140 - val_loss: 0.1871 - val_accuracy: 0.9250\n",
            "Epoch 38/100\n",
            "125/125 [==============================] - 0s 2ms/step - loss: 0.2072 - accuracy: 0.9140 - val_loss: 0.1870 - val_accuracy: 0.9250\n",
            "Epoch 39/100\n",
            "125/125 [==============================] - 0s 2ms/step - loss: 0.2071 - accuracy: 0.9145 - val_loss: 0.1868 - val_accuracy: 0.9250\n",
            "Epoch 40/100\n",
            "125/125 [==============================] - 0s 2ms/step - loss: 0.2071 - accuracy: 0.9145 - val_loss: 0.1866 - val_accuracy: 0.9250\n",
            "Epoch 41/100\n",
            "125/125 [==============================] - 0s 2ms/step - loss: 0.2070 - accuracy: 0.9145 - val_loss: 0.1865 - val_accuracy: 0.9250\n",
            "Epoch 42/100\n",
            "125/125 [==============================] - 0s 2ms/step - loss: 0.2070 - accuracy: 0.9150 - val_loss: 0.1864 - val_accuracy: 0.9250\n",
            "Epoch 43/100\n",
            "125/125 [==============================] - 0s 2ms/step - loss: 0.2069 - accuracy: 0.9145 - val_loss: 0.1862 - val_accuracy: 0.9250\n",
            "Epoch 44/100\n",
            "125/125 [==============================] - 0s 2ms/step - loss: 0.2069 - accuracy: 0.9150 - val_loss: 0.1861 - val_accuracy: 0.9250\n",
            "Epoch 45/100\n",
            "125/125 [==============================] - 0s 2ms/step - loss: 0.2069 - accuracy: 0.9150 - val_loss: 0.1860 - val_accuracy: 0.9250\n",
            "Epoch 46/100\n",
            "125/125 [==============================] - 0s 2ms/step - loss: 0.2068 - accuracy: 0.9150 - val_loss: 0.1859 - val_accuracy: 0.9250\n",
            "Epoch 47/100\n",
            "125/125 [==============================] - 0s 2ms/step - loss: 0.2068 - accuracy: 0.9155 - val_loss: 0.1858 - val_accuracy: 0.9250\n",
            "Epoch 48/100\n",
            "125/125 [==============================] - 0s 2ms/step - loss: 0.2068 - accuracy: 0.9155 - val_loss: 0.1857 - val_accuracy: 0.9250\n",
            "Epoch 49/100\n",
            "125/125 [==============================] - 0s 2ms/step - loss: 0.2068 - accuracy: 0.9160 - val_loss: 0.1856 - val_accuracy: 0.9250\n",
            "Epoch 50/100\n",
            "125/125 [==============================] - 0s 2ms/step - loss: 0.2067 - accuracy: 0.9160 - val_loss: 0.1855 - val_accuracy: 0.9250\n",
            "Epoch 51/100\n",
            "125/125 [==============================] - 0s 2ms/step - loss: 0.2067 - accuracy: 0.9160 - val_loss: 0.1855 - val_accuracy: 0.9250\n",
            "Epoch 52/100\n",
            "125/125 [==============================] - 0s 2ms/step - loss: 0.2067 - accuracy: 0.9160 - val_loss: 0.1854 - val_accuracy: 0.9250\n",
            "Epoch 53/100\n",
            "125/125 [==============================] - 0s 2ms/step - loss: 0.2067 - accuracy: 0.9155 - val_loss: 0.1853 - val_accuracy: 0.9250\n",
            "Epoch 54/100\n",
            "125/125 [==============================] - 0s 2ms/step - loss: 0.2067 - accuracy: 0.9160 - val_loss: 0.1852 - val_accuracy: 0.9250\n",
            "Epoch 55/100\n",
            "125/125 [==============================] - 0s 2ms/step - loss: 0.2067 - accuracy: 0.9160 - val_loss: 0.1852 - val_accuracy: 0.9250\n",
            "Epoch 56/100\n",
            "125/125 [==============================] - 0s 2ms/step - loss: 0.2067 - accuracy: 0.9160 - val_loss: 0.1851 - val_accuracy: 0.9250\n",
            "Epoch 57/100\n",
            "125/125 [==============================] - 0s 2ms/step - loss: 0.2066 - accuracy: 0.9160 - val_loss: 0.1850 - val_accuracy: 0.9250\n",
            "Epoch 58/100\n",
            "125/125 [==============================] - 0s 2ms/step - loss: 0.2066 - accuracy: 0.9160 - val_loss: 0.1850 - val_accuracy: 0.9250\n",
            "Epoch 59/100\n",
            "125/125 [==============================] - 0s 1ms/step - loss: 0.2066 - accuracy: 0.9160 - val_loss: 0.1849 - val_accuracy: 0.9250\n",
            "Epoch 60/100\n",
            "125/125 [==============================] - 0s 2ms/step - loss: 0.2066 - accuracy: 0.9160 - val_loss: 0.1849 - val_accuracy: 0.9250\n",
            "Epoch 61/100\n",
            "125/125 [==============================] - 0s 2ms/step - loss: 0.2066 - accuracy: 0.9160 - val_loss: 0.1848 - val_accuracy: 0.9250\n",
            "Epoch 62/100\n",
            "125/125 [==============================] - 0s 2ms/step - loss: 0.2066 - accuracy: 0.9160 - val_loss: 0.1848 - val_accuracy: 0.9250\n",
            "Epoch 63/100\n",
            "125/125 [==============================] - 0s 2ms/step - loss: 0.2066 - accuracy: 0.9160 - val_loss: 0.1847 - val_accuracy: 0.9250\n",
            "Epoch 64/100\n",
            "125/125 [==============================] - 0s 2ms/step - loss: 0.2066 - accuracy: 0.9160 - val_loss: 0.1847 - val_accuracy: 0.9250\n",
            "Epoch 65/100\n",
            "125/125 [==============================] - 0s 2ms/step - loss: 0.2066 - accuracy: 0.9160 - val_loss: 0.1847 - val_accuracy: 0.9250\n",
            "Epoch 66/100\n",
            "125/125 [==============================] - 0s 2ms/step - loss: 0.2066 - accuracy: 0.9160 - val_loss: 0.1846 - val_accuracy: 0.9250\n",
            "Epoch 67/100\n",
            "125/125 [==============================] - 0s 2ms/step - loss: 0.2066 - accuracy: 0.9160 - val_loss: 0.1846 - val_accuracy: 0.9250\n",
            "Epoch 68/100\n",
            "125/125 [==============================] - 0s 2ms/step - loss: 0.2066 - accuracy: 0.9160 - val_loss: 0.1846 - val_accuracy: 0.9250\n",
            "Epoch 69/100\n",
            "125/125 [==============================] - 0s 2ms/step - loss: 0.2066 - accuracy: 0.9160 - val_loss: 0.1845 - val_accuracy: 0.9250\n",
            "Epoch 70/100\n",
            "125/125 [==============================] - 0s 2ms/step - loss: 0.2066 - accuracy: 0.9160 - val_loss: 0.1845 - val_accuracy: 0.9250\n",
            "Epoch 71/100\n",
            "125/125 [==============================] - 0s 2ms/step - loss: 0.2066 - accuracy: 0.9160 - val_loss: 0.1845 - val_accuracy: 0.9250\n",
            "Epoch 72/100\n",
            "125/125 [==============================] - 0s 2ms/step - loss: 0.2066 - accuracy: 0.9160 - val_loss: 0.1844 - val_accuracy: 0.9250\n",
            "Epoch 73/100\n",
            "125/125 [==============================] - 0s 2ms/step - loss: 0.2066 - accuracy: 0.9160 - val_loss: 0.1844 - val_accuracy: 0.9250\n",
            "Epoch 74/100\n",
            "125/125 [==============================] - 0s 2ms/step - loss: 0.2066 - accuracy: 0.9160 - val_loss: 0.1844 - val_accuracy: 0.9250\n",
            "Epoch 75/100\n",
            "125/125 [==============================] - 0s 2ms/step - loss: 0.2066 - accuracy: 0.9160 - val_loss: 0.1844 - val_accuracy: 0.9250\n",
            "Epoch 76/100\n",
            "125/125 [==============================] - 0s 2ms/step - loss: 0.2066 - accuracy: 0.9160 - val_loss: 0.1843 - val_accuracy: 0.9250\n",
            "Epoch 77/100\n",
            "125/125 [==============================] - 0s 2ms/step - loss: 0.2066 - accuracy: 0.9160 - val_loss: 0.1843 - val_accuracy: 0.9250\n",
            "Epoch 78/100\n",
            "125/125 [==============================] - 0s 2ms/step - loss: 0.2066 - accuracy: 0.9155 - val_loss: 0.1843 - val_accuracy: 0.9250\n",
            "Epoch 79/100\n",
            "125/125 [==============================] - 0s 2ms/step - loss: 0.2066 - accuracy: 0.9160 - val_loss: 0.1843 - val_accuracy: 0.9250\n",
            "Epoch 80/100\n",
            "125/125 [==============================] - 0s 2ms/step - loss: 0.2066 - accuracy: 0.9160 - val_loss: 0.1842 - val_accuracy: 0.9250\n",
            "Epoch 81/100\n",
            "125/125 [==============================] - 0s 2ms/step - loss: 0.2066 - accuracy: 0.9160 - val_loss: 0.1842 - val_accuracy: 0.9250\n",
            "Epoch 82/100\n",
            "125/125 [==============================] - 0s 2ms/step - loss: 0.2066 - accuracy: 0.9160 - val_loss: 0.1842 - val_accuracy: 0.9250\n",
            "Epoch 83/100\n",
            "125/125 [==============================] - 0s 2ms/step - loss: 0.2065 - accuracy: 0.9160 - val_loss: 0.1842 - val_accuracy: 0.9250\n",
            "Epoch 84/100\n",
            "125/125 [==============================] - 0s 2ms/step - loss: 0.2065 - accuracy: 0.9160 - val_loss: 0.1842 - val_accuracy: 0.9250\n",
            "Epoch 85/100\n",
            "125/125 [==============================] - 0s 2ms/step - loss: 0.2065 - accuracy: 0.9160 - val_loss: 0.1841 - val_accuracy: 0.9250\n",
            "Epoch 86/100\n",
            "125/125 [==============================] - 0s 2ms/step - loss: 0.2065 - accuracy: 0.9155 - val_loss: 0.1841 - val_accuracy: 0.9250\n",
            "Epoch 87/100\n",
            "125/125 [==============================] - 0s 2ms/step - loss: 0.2065 - accuracy: 0.9155 - val_loss: 0.1841 - val_accuracy: 0.9250\n",
            "Epoch 88/100\n",
            "125/125 [==============================] - 0s 3ms/step - loss: 0.2065 - accuracy: 0.9155 - val_loss: 0.1841 - val_accuracy: 0.9250\n",
            "Epoch 89/100\n",
            "125/125 [==============================] - 0s 2ms/step - loss: 0.2065 - accuracy: 0.9160 - val_loss: 0.1841 - val_accuracy: 0.9250\n",
            "Epoch 90/100\n",
            "125/125 [==============================] - 0s 3ms/step - loss: 0.2065 - accuracy: 0.9160 - val_loss: 0.1841 - val_accuracy: 0.9250\n",
            "Epoch 91/100\n",
            "125/125 [==============================] - 0s 2ms/step - loss: 0.2065 - accuracy: 0.9160 - val_loss: 0.1841 - val_accuracy: 0.9250\n",
            "Epoch 92/100\n",
            "125/125 [==============================] - 0s 2ms/step - loss: 0.2065 - accuracy: 0.9160 - val_loss: 0.1840 - val_accuracy: 0.9250\n",
            "Epoch 93/100\n",
            "125/125 [==============================] - 0s 2ms/step - loss: 0.2065 - accuracy: 0.9160 - val_loss: 0.1840 - val_accuracy: 0.9250\n",
            "Epoch 94/100\n",
            "125/125 [==============================] - 0s 2ms/step - loss: 0.2065 - accuracy: 0.9160 - val_loss: 0.1840 - val_accuracy: 0.9250\n",
            "Epoch 95/100\n",
            "125/125 [==============================] - 0s 2ms/step - loss: 0.2065 - accuracy: 0.9160 - val_loss: 0.1840 - val_accuracy: 0.9250\n",
            "Epoch 96/100\n",
            "125/125 [==============================] - 0s 2ms/step - loss: 0.2065 - accuracy: 0.9160 - val_loss: 0.1840 - val_accuracy: 0.9250\n",
            "Epoch 97/100\n",
            "125/125 [==============================] - 0s 2ms/step - loss: 0.2065 - accuracy: 0.9160 - val_loss: 0.1840 - val_accuracy: 0.9250\n",
            "Epoch 98/100\n",
            "125/125 [==============================] - 0s 2ms/step - loss: 0.2065 - accuracy: 0.9160 - val_loss: 0.1840 - val_accuracy: 0.9250\n",
            "Epoch 99/100\n",
            "125/125 [==============================] - 0s 2ms/step - loss: 0.2065 - accuracy: 0.9155 - val_loss: 0.1840 - val_accuracy: 0.9250\n",
            "Epoch 100/100\n",
            "125/125 [==============================] - 0s 2ms/step - loss: 0.2065 - accuracy: 0.9160 - val_loss: 0.1840 - val_accuracy: 0.9250\n"
          ]
        },
        {
          "output_type": "execute_result",
          "data": {
            "text/plain": [
              "<keras.callbacks.History at 0x7f37833c34d0>"
            ]
          },
          "metadata": {},
          "execution_count": 16
        }
      ]
    }
  ]
}