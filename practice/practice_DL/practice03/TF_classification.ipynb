{
  "nbformat": 4,
  "nbformat_minor": 0,
  "metadata": {
    "colab": {
      "name": "TF_classification.ipynb",
      "provenance": []
    },
    "kernelspec": {
      "name": "python3",
      "display_name": "Python 3"
    },
    "language_info": {
      "name": "python"
    }
  },
  "cells": [
    {
      "cell_type": "markdown",
      "source": [
        "Импортируем необходимые библиотеки"
      ],
      "metadata": {
        "id": "2EA-1NNmiqdW"
      }
    },
    {
      "cell_type": "code",
      "metadata": {
        "id": "glWbSV3Qmb-d"
      },
      "source": [
        "from tensorflow.keras.datasets import mnist\n",
        "import tensorflow as tf"
      ],
      "execution_count": 1,
      "outputs": []
    },
    {
      "cell_type": "markdown",
      "source": [
        "Загрузим данные"
      ],
      "metadata": {
        "id": "5tgro4LMivWI"
      }
    },
    {
      "cell_type": "code",
      "metadata": {
        "id": "E4Z-R6mfo-OM"
      },
      "source": [
        "(x_train, y_train), (x_test, y_test) = mnist.load_data()"
      ],
      "execution_count": 2,
      "outputs": []
    },
    {
      "cell_type": "markdown",
      "source": [
        "Посмотрим на объемы загруженных данных"
      ],
      "metadata": {
        "id": "dXhOJFHciwyo"
      }
    },
    {
      "cell_type": "code",
      "source": [
        "print('Training data size : ', x_train.shape)\n",
        "print('Test data size: ', x_test.shape) "
      ],
      "metadata": {
        "colab": {
          "base_uri": "https://localhost:8080/"
        },
        "id": "FfUUfxt0R10L",
        "outputId": "9ef005a3-45fd-4e51-c089-d448ae780179"
      },
      "execution_count": 3,
      "outputs": [
        {
          "output_type": "stream",
          "name": "stdout",
          "text": [
            "Training data size :  (60000, 28, 28)\n",
            "Test data size:  (10000, 28, 28)\n"
          ]
        }
      ]
    },
    {
      "cell_type": "code",
      "source": [
        "import numpy as np\n",
        "import matplotlib.pyplot as plt"
      ],
      "metadata": {
        "id": "CifEbryQDDMS"
      },
      "execution_count": 4,
      "outputs": []
    },
    {
      "cell_type": "markdown",
      "source": [
        "Выведем какое-нибудь изображение"
      ],
      "metadata": {
        "id": "TX3sh7dZi3Mn"
      }
    },
    {
      "cell_type": "code",
      "source": [
        "plt.imshow(x_train[0], cmap='gray')\n",
        "plt.show()"
      ],
      "metadata": {
        "colab": {
          "base_uri": "https://localhost:8080/",
          "height": 265
        },
        "id": "cPu33F7jC-cD",
        "outputId": "e40e34d1-ae4d-4fb9-fc3c-987681007972"
      },
      "execution_count": 5,
      "outputs": [
        {
          "output_type": "display_data",
          "data": {
            "image/png": "[encoded data removed]",
            "text/plain": [
              "<Figure size 432x288 with 1 Axes>"
            ]
          },
          "metadata": {
            "needs_background": "light"
          }
        }
      ]
    },
    {
      "cell_type": "markdown",
      "source": [
        "Сформируем данные-строки для подачи на вход нейронной сети, нормируем данные"
      ],
      "metadata": {
        "id": "Mp-FfCw2i61O"
      }
    },
    {
      "cell_type": "code",
      "source": [
        "X_train = np.reshape(x_train, [-1, 28*28])\n",
        "X_train = X_train.astype('float32') / 255\n",
        "X_train"
      ],
      "metadata": {
        "colab": {
          "base_uri": "https://localhost:8080/"
        },
        "id": "J4O3xStTT5-9",
        "outputId": "c0919172-d6d2-4968-b4f2-dfcba9219c3f"
      },
      "execution_count": 6,
      "outputs": [
        {
          "output_type": "execute_result",
          "data": {
            "text/plain": [
              "array([[0., 0., 0., ..., 0., 0., 0.],\n",
              "       [0., 0., 0., ..., 0., 0., 0.],\n",
              "       [0., 0., 0., ..., 0., 0., 0.],\n",
              "       ...,\n",
              "       [0., 0., 0., ..., 0., 0., 0.],\n",
              "       [0., 0., 0., ..., 0., 0., 0.],\n",
              "       [0., 0., 0., ..., 0., 0., 0.]], dtype=float32)"
            ]
          },
          "metadata": {},
          "execution_count": 6
        }
      ]
    },
    {
      "cell_type": "markdown",
      "source": [
        "Укажем, что лейблы — целые"
      ],
      "metadata": {
        "id": "dGTCi2mWjO4T"
      }
    },
    {
      "cell_type": "code",
      "source": [
        "y_train = y_train.astype('int64')\n",
        "y_train"
      ],
      "metadata": {
        "colab": {
          "base_uri": "https://localhost:8080/"
        },
        "id": "wrMEbduuhokB",
        "outputId": "20e4f5e0-a9ff-4971-d918-d293d5d570c0"
      },
      "execution_count": 7,
      "outputs": [
        {
          "output_type": "execute_result",
          "data": {
            "text/plain": [
              "array([5, 0, 4, ..., 5, 6, 8])"
            ]
          },
          "metadata": {},
          "execution_count": 7
        }
      ]
    },
    {
      "cell_type": "markdown",
      "source": [
        "То же самое проделаем с тестовыми данными"
      ],
      "metadata": {
        "id": "Iyt6S34AjdWF"
      }
    },
    {
      "cell_type": "code",
      "source": [
        "X_test = np.reshape(x_test, [-1, 28 * 28])\n",
        "X_test = X_test.astype('float32') / 255\n",
        "y_test = y_test.astype('int64')"
      ],
      "metadata": {
        "id": "Lu_F6O55jW6R"
      },
      "execution_count": 8,
      "outputs": []
    },
    {
      "cell_type": "code",
      "metadata": {
        "id": "reVQjG2GpKvK"
      },
      "source": [
        "batch_size = 100 # размер батча для обучения\n",
        "num_input = 784  # количество входных нейронов (28 * 28)\n",
        "num_hidden1 = 100 # количество нейронов первого скрытого слоя\n",
        "num_hidden2 = 100 # количество нейронов второго скрытого слоя\n",
        "num_hidden3 = 100 # количество нейронов третьего скрытого слоя\n",
        "num_output = 10 # количество выходов (такое же, как количество классов)"
      ],
      "execution_count": 9,
      "outputs": []
    },
    {
      "cell_type": "markdown",
      "source": [
        "Создадим архитектуру сети"
      ],
      "metadata": {
        "id": "H0eRFTQOoIau"
      }
    },
    {
      "cell_type": "code",
      "metadata": {
        "id": "yzwXvWULpYky"
      },
      "source": [
        "def multi_layer_perceptron_mnist(x, weights, biases):\n",
        "  hidden_layer1 = tf.add(tf.matmul(x, weights['w_h1']), biases['b_h1'])\n",
        "  hidden_layer1 = tf.nn.relu(hidden_layer1)\n",
        "  hidden_layer2 = tf.add(tf.matmul(hidden_layer1, weights['w_h2']), biases['b_h2'])\n",
        "  hidden_layer2 = tf.nn.relu(hidden_layer2)\n",
        "  hidden_drop = tf.nn.dropout(hidden_layer2, 0.1)\n",
        "  hidden_layer3 = tf.add(tf.matmul(hidden_drop, weights['w_h3']), biases['b_h3'])\n",
        "  hidden_layer3 = tf.nn.relu(hidden_layer3)\n",
        "\n",
        "  out_layer = tf.add(tf.matmul(hidden_layer3, weights['w_out']), biases['b_out'])\n",
        " \n",
        "  return out_layer"
      ],
      "execution_count": 10,
      "outputs": []
    },
    {
      "cell_type": "code",
      "metadata": {
        "id": "QWFQETo_peiZ"
      },
      "source": [
        "weights = {\n",
        " 'w_h1' : tf.Variable(tf.random.normal([num_input, num_hidden1])),\n",
        " 'w_h2' : tf.Variable(tf.random.normal([num_hidden1, num_hidden2])),\n",
        " 'w_h3' : tf.Variable(tf.random.normal([num_hidden2, num_hidden3])),\n",
        " 'w_out': tf.Variable(tf.random.normal([num_hidden3, num_output]))\n",
        "}\n",
        "biases = {\n",
        " 'b_h1' : tf.Variable(tf.random.normal([num_hidden1])),\n",
        " 'b_h2' : tf.Variable(tf.random.normal([num_hidden2])),\n",
        " 'b_h3' : tf.Variable(tf.random.normal([num_hidden3])),\n",
        " 'b_out': tf.Variable(tf.random.normal([num_output]))\n",
        "} "
      ],
      "execution_count": 11,
      "outputs": []
    },
    {
      "cell_type": "code",
      "source": [
        "learning_rate = 0.01\n",
        "num_iter = 600\n",
        "batch_size = 100\n",
        "display_step = 10 "
      ],
      "metadata": {
        "id": "blbX_fq_SOEp"
      },
      "execution_count": 12,
      "outputs": []
    },
    {
      "cell_type": "markdown",
      "source": [
        "Зададим начальный батч"
      ],
      "metadata": {
        "id": "oqioHTsOsug7"
      }
    },
    {
      "cell_type": "code",
      "source": [
        "indices = tf.constant(np.random.choice(X_train.shape[0], batch_size), shape = (batch_size, 1))\n",
        "X_batch, y_batch = tf.gather_nd(X_train, indices), tf.gather_nd(y_train, indices)\n",
        "X_batch.shape"
      ],
      "metadata": {
        "colab": {
          "base_uri": "https://localhost:8080/"
        },
        "id": "UanayDqUSnmY",
        "outputId": "70ce2ef6-e78d-4ad8-c09f-abc2eb1a4531"
      },
      "execution_count": 13,
      "outputs": [
        {
          "output_type": "execute_result",
          "data": {
            "text/plain": [
              "TensorShape([100, 784])"
            ]
          },
          "metadata": {},
          "execution_count": 13
        }
      ]
    },
    {
      "cell_type": "markdown",
      "source": [
        "Определим модель: саму модуль и функцию потерь"
      ],
      "metadata": {
        "id": "62AU9p4ksxY0"
      }
    },
    {
      "cell_type": "code",
      "source": [
        "@tf.function\n",
        "def model(X_batch):\n",
        "  return multi_layer_perceptron_mnist(X_batch, weights, biases)"
      ],
      "metadata": {
        "id": "rfjugl5ymZeJ"
      },
      "execution_count": 14,
      "outputs": []
    },
    {
      "cell_type": "code",
      "source": [
        "@tf.function\n",
        "def loss():\n",
        "  return tf.reduce_mean(tf.nn.sparse_softmax_cross_entropy_with_logits(logits = model(X_batch), labels = y_batch))"
      ],
      "metadata": {
        "id": "yGyzMkwUk7kJ"
      },
      "execution_count": 15,
      "outputs": []
    },
    {
      "cell_type": "markdown",
      "source": [
        "Зададим оптимизатор (пока что наугад)"
      ],
      "metadata": {
        "id": "-GyBcXfAs1NZ"
      }
    },
    {
      "cell_type": "code",
      "metadata": {
        "id": "llejgMlav5sY"
      },
      "source": [
        "optimizer = tf.optimizers.Adam(learning_rate)"
      ],
      "execution_count": 16,
      "outputs": []
    },
    {
      "cell_type": "markdown",
      "source": [
        "Поехали обучаться"
      ],
      "metadata": {
        "id": "0y-XJ7K_s3d_"
      }
    },
    {
      "cell_type": "code",
      "metadata": {
        "id": "C4lCZC3_wW3N"
      },
      "source": [
        "for i in range(num_iter):\n",
        "  indices = tf.constant(np.random.choice(X_train.shape[0], batch_size), shape = (batch_size, 1))\n",
        "  X_batch, y_batch = tf.gather_nd(X_train, indices), tf.gather_nd(y_train, indices)\n",
        "  optimizer.minimize(loss, [weights, biases])"
      ],
      "execution_count": 17,
      "outputs": []
    },
    {
      "cell_type": "markdown",
      "source": [
        "Теперь посмотрим на софтмакс"
      ],
      "metadata": {
        "id": "O9Tih2gPs5s-"
      }
    },
    {
      "cell_type": "code",
      "source": [
        "results = tf.nn.softmax(model(X_test))"
      ],
      "metadata": {
        "id": "aRlElSlNnbzB"
      },
      "execution_count": 18,
      "outputs": []
    },
    {
      "cell_type": "code",
      "source": [
        "results[0]"
      ],
      "metadata": {
        "colab": {
          "base_uri": "https://localhost:8080/"
        },
        "id": "fFMTMuQTsSSR",
        "outputId": "cb9fb4f5-4c29-4ce1-a03c-80b27fa4d87d"
      },
      "execution_count": 19,
      "outputs": [
        {
          "output_type": "execute_result",
          "data": {
            "text/plain": [
              "<tf.Tensor: shape=(10,), dtype=float32, numpy=array([0., 0., 0., 0., 0., 0., 0., 1., 0., 0.], dtype=float32)>"
            ]
          },
          "metadata": {},
          "execution_count": 19
        }
      ]
    },
    {
      "cell_type": "code",
      "source": [
        "image = np.reshape(X_test[0], [-1, 28])"
      ],
      "metadata": {
        "id": "eEx3ABLHrcT8"
      },
      "execution_count": 20,
      "outputs": []
    },
    {
      "cell_type": "code",
      "source": [
        "plt.imshow(image, cmap='gray')\n",
        "plt.show()"
      ],
      "metadata": {
        "colab": {
          "base_uri": "https://localhost:8080/",
          "height": 265
        },
        "id": "pSRmu_uWrWy_",
        "outputId": "708fa2b3-0559-40ed-acf9-a81ede84276a"
      },
      "execution_count": 21,
      "outputs": [
        {
          "output_type": "display_data",
          "data": {
            "image/png": "[encoded data removed]",
            "text/plain": [
              "<Figure size 432x288 with 1 Axes>"
            ]
          },
          "metadata": {
            "needs_background": "light"
          }
        }
      ]
    },
    {
      "cell_type": "markdown",
      "source": [
        "Давайте поймем, как там с Accuracy"
      ],
      "metadata": {
        "id": "pz9oHJFjs8nO"
      }
    },
    {
      "cell_type": "code",
      "source": [
        "y_test"
      ],
      "metadata": {
        "colab": {
          "base_uri": "https://localhost:8080/"
        },
        "id": "h5O7F33Ntf5T",
        "outputId": "951fc3c0-cdc6-4d51-d005-3247196511af"
      },
      "execution_count": 22,
      "outputs": [
        {
          "output_type": "execute_result",
          "data": {
            "text/plain": [
              "array([7, 2, 1, ..., 4, 5, 6])"
            ]
          },
          "metadata": {},
          "execution_count": 22
        }
      ]
    },
    {
      "cell_type": "code",
      "source": [
        "results.shape"
      ],
      "metadata": {
        "colab": {
          "base_uri": "https://localhost:8080/"
        },
        "id": "fsmQbX_4t8ti",
        "outputId": "16e7a903-6d00-49af-e8dd-d3c3667e5e35"
      },
      "execution_count": 23,
      "outputs": [
        {
          "output_type": "execute_result",
          "data": {
            "text/plain": [
              "TensorShape([10000, 10])"
            ]
          },
          "metadata": {},
          "execution_count": 23
        }
      ]
    },
    {
      "cell_type": "code",
      "source": [
        "y_test = tf.constant(y_test)\n",
        "y_test.shape"
      ],
      "metadata": {
        "colab": {
          "base_uri": "https://localhost:8080/"
        },
        "id": "K3I39sRKuF93",
        "outputId": "b7b244ec-f585-494b-dc7e-777cc20454da"
      },
      "execution_count": 24,
      "outputs": [
        {
          "output_type": "execute_result",
          "data": {
            "text/plain": [
              "TensorShape([10000])"
            ]
          },
          "metadata": {},
          "execution_count": 24
        }
      ]
    },
    {
      "cell_type": "code",
      "source": [
        "correct_predictions = tf.equal(tf.argmax(results, 1), y_test)\n",
        "correct_predictions"
      ],
      "metadata": {
        "colab": {
          "base_uri": "https://localhost:8080/"
        },
        "id": "DJA_Xs-Ms_QR",
        "outputId": "09807d9f-c79f-4070-af5d-588920c392be"
      },
      "execution_count": 25,
      "outputs": [
        {
          "output_type": "execute_result",
          "data": {
            "text/plain": [
              "<tf.Tensor: shape=(10000,), dtype=bool, numpy=array([ True, False,  True, ...,  True,  True,  True])>"
            ]
          },
          "metadata": {},
          "execution_count": 25
        }
      ]
    },
    {
      "cell_type": "code",
      "source": [
        "Accuracy = tf.reduce_mean(tf.cast(correct_predictions, tf.float32))\n",
        "Accuracy"
      ],
      "metadata": {
        "colab": {
          "base_uri": "https://localhost:8080/"
        },
        "id": "-FKHTDN4uzkL",
        "outputId": "9101c308-496c-4696-c504-3ea3e9904933"
      },
      "execution_count": 26,
      "outputs": [
        {
          "output_type": "execute_result",
          "data": {
            "text/plain": [
              "<tf.Tensor: shape=(), dtype=float32, numpy=0.5377>"
            ]
          },
          "metadata": {},
          "execution_count": 26
        }
      ]
    }
  ]
}