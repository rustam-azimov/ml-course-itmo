{
  "nbformat": 4,
  "nbformat_minor": 5,
  "metadata": {
    "kernelspec": {
      "display_name": "Python 3",
      "language": "python",
      "name": "python3"
    },
    "language_info": {
      "codemirror_mode": {
        "name": "ipython",
        "version": 3
      },
      "file_extension": ".py",
      "mimetype": "text/x-python",
      "name": "python",
      "nbconvert_exporter": "python",
      "pygments_lexer": "ipython3",
      "version": "3.9.4"
    },
    "colab": {
      "name": "Hyperparams.ipynb",
      "provenance": []
    },
    "widgets": {
      "application/vnd.jupyter.widget-state+json": {
        "f36605bf061d47fbb4377d80e2375832": {
          "model_module": "@jupyter-widgets/controls",
          "model_name": "HBoxModel",
          "model_module_version": "1.5.0",
          "state": {
            "_view_name": "HBoxView",
            "_dom_classes": [],
            "_model_name": "HBoxModel",
            "_view_module": "@jupyter-widgets/controls",
            "_model_module_version": "1.5.0",
            "_view_count": null,
            "_view_module_version": "1.5.0",
            "box_style": "",
            "layout": "IPY_MODEL_9cf01cc9d79047a78ab41c876eb8e488",
            "_model_module": "@jupyter-widgets/controls",
            "children": [
              "IPY_MODEL_5ead3a68629544618b2a289be7f496ef",
              "IPY_MODEL_c575c2180c7946b3b1dd35678b8ff8f2",
              "IPY_MODEL_ccf9678ca8d14c1282b77913f7c9aa5d"
            ]
          }
        },
        "9cf01cc9d79047a78ab41c876eb8e488": {
          "model_module": "@jupyter-widgets/base",
          "model_name": "LayoutModel",
          "model_module_version": "1.2.0",
          "state": {
            "_view_name": "LayoutView",
            "grid_template_rows": null,
            "right": null,
            "justify_content": null,
            "_view_module": "@jupyter-widgets/base",
            "overflow": null,
            "_model_module_version": "1.2.0",
            "_view_count": null,
            "flex_flow": null,
            "width": null,
            "min_width": null,
            "border": null,
            "align_items": null,
            "bottom": null,
            "_model_module": "@jupyter-widgets/base",
            "top": null,
            "grid_column": null,
            "overflow_y": null,
            "overflow_x": null,
            "grid_auto_flow": null,
            "grid_area": null,
            "grid_template_columns": null,
            "flex": null,
            "_model_name": "LayoutModel",
            "justify_items": null,
            "grid_row": null,
            "max_height": null,
            "align_content": null,
            "visibility": null,
            "align_self": null,
            "height": null,
            "min_height": null,
            "padding": null,
            "grid_auto_rows": null,
            "grid_gap": null,
            "max_width": null,
            "order": null,
            "_view_module_version": "1.2.0",
            "grid_template_areas": null,
            "object_position": null,
            "object_fit": null,
            "grid_auto_columns": null,
            "margin": null,
            "display": null,
            "left": null
          }
        },
        "5ead3a68629544618b2a289be7f496ef": {
          "model_module": "@jupyter-widgets/controls",
          "model_name": "HTMLModel",
          "model_module_version": "1.5.0",
          "state": {
            "_view_name": "HTMLView",
            "style": "IPY_MODEL_2f933546b2ea4c459ab4fde55a35c38e",
            "_dom_classes": [],
            "description": "",
            "_model_name": "HTMLModel",
            "placeholder": "​",
            "_view_module": "@jupyter-widgets/controls",
            "_model_module_version": "1.5.0",
            "value": "Dl Completed...: 100%",
            "_view_count": null,
            "_view_module_version": "1.5.0",
            "description_tooltip": null,
            "_model_module": "@jupyter-widgets/controls",
            "layout": "IPY_MODEL_bfa0ccee5ea74b3ead8d250e47dbb029"
          }
        },
        "c575c2180c7946b3b1dd35678b8ff8f2": {
          "model_module": "@jupyter-widgets/controls",
          "model_name": "FloatProgressModel",
          "model_module_version": "1.5.0",
          "state": {
            "_view_name": "ProgressView",
            "style": "IPY_MODEL_40624de7350643ed984f0461e2e05e10",
            "_dom_classes": [],
            "description": "",
            "_model_name": "FloatProgressModel",
            "bar_style": "success",
            "max": 1,
            "_view_module": "@jupyter-widgets/controls",
            "_model_module_version": "1.5.0",
            "value": 1,
            "_view_count": null,
            "_view_module_version": "1.5.0",
            "orientation": "horizontal",
            "min": 0,
            "description_tooltip": null,
            "_model_module": "@jupyter-widgets/controls",
            "layout": "IPY_MODEL_465efd870fbf4f85bfcf56681504bf06"
          }
        },
        "ccf9678ca8d14c1282b77913f7c9aa5d": {
          "model_module": "@jupyter-widgets/controls",
          "model_name": "HTMLModel",
          "model_module_version": "1.5.0",
          "state": {
            "_view_name": "HTMLView",
            "style": "IPY_MODEL_a5c2d192975645f18f9e97d5bc932a76",
            "_dom_classes": [],
            "description": "",
            "_model_name": "HTMLModel",
            "placeholder": "​",
            "_view_module": "@jupyter-widgets/controls",
            "_model_module_version": "1.5.0",
            "value": " 1/1 [00:00&lt;00:00,  2.28 url/s]",
            "_view_count": null,
            "_view_module_version": "1.5.0",
            "description_tooltip": null,
            "_model_module": "@jupyter-widgets/controls",
            "layout": "IPY_MODEL_b3cb130c19194c23a8bde07f00996ab8"
          }
        },
        "2f933546b2ea4c459ab4fde55a35c38e": {
          "model_module": "@jupyter-widgets/controls",
          "model_name": "DescriptionStyleModel",
          "model_module_version": "1.5.0",
          "state": {
            "_view_name": "StyleView",
            "_model_name": "DescriptionStyleModel",
            "description_width": "",
            "_view_module": "@jupyter-widgets/base",
            "_model_module_version": "1.5.0",
            "_view_count": null,
            "_view_module_version": "1.2.0",
            "_model_module": "@jupyter-widgets/controls"
          }
        },
        "bfa0ccee5ea74b3ead8d250e47dbb029": {
          "model_module": "@jupyter-widgets/base",
          "model_name": "LayoutModel",
          "model_module_version": "1.2.0",
          "state": {
            "_view_name": "LayoutView",
            "grid_template_rows": null,
            "right": null,
            "justify_content": null,
            "_view_module": "@jupyter-widgets/base",
            "overflow": null,
            "_model_module_version": "1.2.0",
            "_view_count": null,
            "flex_flow": null,
            "width": null,
            "min_width": null,
            "border": null,
            "align_items": null,
            "bottom": null,
            "_model_module": "@jupyter-widgets/base",
            "top": null,
            "grid_column": null,
            "overflow_y": null,
            "overflow_x": null,
            "grid_auto_flow": null,
            "grid_area": null,
            "grid_template_columns": null,
            "flex": null,
            "_model_name": "LayoutModel",
            "justify_items": null,
            "grid_row": null,
            "max_height": null,
            "align_content": null,
            "visibility": null,
            "align_self": null,
            "height": null,
            "min_height": null,
            "padding": null,
            "grid_auto_rows": null,
            "grid_gap": null,
            "max_width": null,
            "order": null,
            "_view_module_version": "1.2.0",
            "grid_template_areas": null,
            "object_position": null,
            "object_fit": null,
            "grid_auto_columns": null,
            "margin": null,
            "display": null,
            "left": null
          }
        },
        "40624de7350643ed984f0461e2e05e10": {
          "model_module": "@jupyter-widgets/controls",
          "model_name": "ProgressStyleModel",
          "model_module_version": "1.5.0",
          "state": {
            "_view_name": "StyleView",
            "_model_name": "ProgressStyleModel",
            "description_width": "",
            "_view_module": "@jupyter-widgets/base",
            "_model_module_version": "1.5.0",
            "_view_count": null,
            "_view_module_version": "1.2.0",
            "bar_color": null,
            "_model_module": "@jupyter-widgets/controls"
          }
        },
        "465efd870fbf4f85bfcf56681504bf06": {
          "model_module": "@jupyter-widgets/base",
          "model_name": "LayoutModel",
          "model_module_version": "1.2.0",
          "state": {
            "_view_name": "LayoutView",
            "grid_template_rows": null,
            "right": null,
            "justify_content": null,
            "_view_module": "@jupyter-widgets/base",
            "overflow": null,
            "_model_module_version": "1.2.0",
            "_view_count": null,
            "flex_flow": null,
            "width": "20px",
            "min_width": null,
            "border": null,
            "align_items": null,
            "bottom": null,
            "_model_module": "@jupyter-widgets/base",
            "top": null,
            "grid_column": null,
            "overflow_y": null,
            "overflow_x": null,
            "grid_auto_flow": null,
            "grid_area": null,
            "grid_template_columns": null,
            "flex": null,
            "_model_name": "LayoutModel",
            "justify_items": null,
            "grid_row": null,
            "max_height": null,
            "align_content": null,
            "visibility": null,
            "align_self": null,
            "height": null,
            "min_height": null,
            "padding": null,
            "grid_auto_rows": null,
            "grid_gap": null,
            "max_width": null,
            "order": null,
            "_view_module_version": "1.2.0",
            "grid_template_areas": null,
            "object_position": null,
            "object_fit": null,
            "grid_auto_columns": null,
            "margin": null,
            "display": null,
            "left": null
          }
        },
        "a5c2d192975645f18f9e97d5bc932a76": {
          "model_module": "@jupyter-widgets/controls",
          "model_name": "DescriptionStyleModel",
          "model_module_version": "1.5.0",
          "state": {
            "_view_name": "StyleView",
            "_model_name": "DescriptionStyleModel",
            "description_width": "",
            "_view_module": "@jupyter-widgets/base",
            "_model_module_version": "1.5.0",
            "_view_count": null,
            "_view_module_version": "1.2.0",
            "_model_module": "@jupyter-widgets/controls"
          }
        },
        "b3cb130c19194c23a8bde07f00996ab8": {
          "model_module": "@jupyter-widgets/base",
          "model_name": "LayoutModel",
          "model_module_version": "1.2.0",
          "state": {
            "_view_name": "LayoutView",
            "grid_template_rows": null,
            "right": null,
            "justify_content": null,
            "_view_module": "@jupyter-widgets/base",
            "overflow": null,
            "_model_module_version": "1.2.0",
            "_view_count": null,
            "flex_flow": null,
            "width": null,
            "min_width": null,
            "border": null,
            "align_items": null,
            "bottom": null,
            "_model_module": "@jupyter-widgets/base",
            "top": null,
            "grid_column": null,
            "overflow_y": null,
            "overflow_x": null,
            "grid_auto_flow": null,
            "grid_area": null,
            "grid_template_columns": null,
            "flex": null,
            "_model_name": "LayoutModel",
            "justify_items": null,
            "grid_row": null,
            "max_height": null,
            "align_content": null,
            "visibility": null,
            "align_self": null,
            "height": null,
            "min_height": null,
            "padding": null,
            "grid_auto_rows": null,
            "grid_gap": null,
            "max_width": null,
            "order": null,
            "_view_module_version": "1.2.0",
            "grid_template_areas": null,
            "object_position": null,
            "object_fit": null,
            "grid_auto_columns": null,
            "margin": null,
            "display": null,
            "left": null
          }
        },
        "efdf8695d8e14017a7b60d7bd2f17cc4": {
          "model_module": "@jupyter-widgets/controls",
          "model_name": "HBoxModel",
          "model_module_version": "1.5.0",
          "state": {
            "_view_name": "HBoxView",
            "_dom_classes": [],
            "_model_name": "HBoxModel",
            "_view_module": "@jupyter-widgets/controls",
            "_model_module_version": "1.5.0",
            "_view_count": null,
            "_view_module_version": "1.5.0",
            "box_style": "",
            "layout": "IPY_MODEL_89618c76606d4a07b9df1e1eca410bab",
            "_model_module": "@jupyter-widgets/controls",
            "children": [
              "IPY_MODEL_fdef2b3102d243978249cf39c6e44f44",
              "IPY_MODEL_f0b23131f4f44f8caf4a955d2b260577",
              "IPY_MODEL_bb8550e218ee45339ea89baf9f0bb0b8"
            ]
          }
        },
        "89618c76606d4a07b9df1e1eca410bab": {
          "model_module": "@jupyter-widgets/base",
          "model_name": "LayoutModel",
          "model_module_version": "1.2.0",
          "state": {
            "_view_name": "LayoutView",
            "grid_template_rows": null,
            "right": null,
            "justify_content": null,
            "_view_module": "@jupyter-widgets/base",
            "overflow": null,
            "_model_module_version": "1.2.0",
            "_view_count": null,
            "flex_flow": null,
            "width": null,
            "min_width": null,
            "border": null,
            "align_items": null,
            "bottom": null,
            "_model_module": "@jupyter-widgets/base",
            "top": null,
            "grid_column": null,
            "overflow_y": null,
            "overflow_x": null,
            "grid_auto_flow": null,
            "grid_area": null,
            "grid_template_columns": null,
            "flex": null,
            "_model_name": "LayoutModel",
            "justify_items": null,
            "grid_row": null,
            "max_height": null,
            "align_content": null,
            "visibility": null,
            "align_self": null,
            "height": null,
            "min_height": null,
            "padding": null,
            "grid_auto_rows": null,
            "grid_gap": null,
            "max_width": null,
            "order": null,
            "_view_module_version": "1.2.0",
            "grid_template_areas": null,
            "object_position": null,
            "object_fit": null,
            "grid_auto_columns": null,
            "margin": null,
            "display": null,
            "left": null
          }
        },
        "fdef2b3102d243978249cf39c6e44f44": {
          "model_module": "@jupyter-widgets/controls",
          "model_name": "HTMLModel",
          "model_module_version": "1.5.0",
          "state": {
            "_view_name": "HTMLView",
            "style": "IPY_MODEL_98839abdccd442b1b5041ac28d562569",
            "_dom_classes": [],
            "description": "",
            "_model_name": "HTMLModel",
            "placeholder": "​",
            "_view_module": "@jupyter-widgets/controls",
            "_model_module_version": "1.5.0",
            "value": "Dl Size...: ",
            "_view_count": null,
            "_view_module_version": "1.5.0",
            "description_tooltip": null,
            "_model_module": "@jupyter-widgets/controls",
            "layout": "IPY_MODEL_614d6c39924a4fa09bc7bc627994fe8a"
          }
        },
        "f0b23131f4f44f8caf4a955d2b260577": {
          "model_module": "@jupyter-widgets/controls",
          "model_name": "FloatProgressModel",
          "model_module_version": "1.5.0",
          "state": {
            "_view_name": "ProgressView",
            "style": "IPY_MODEL_c0b95141a43543a687d417e9f2e95668",
            "_dom_classes": [],
            "description": "",
            "_model_name": "FloatProgressModel",
            "bar_style": "success",
            "max": 1,
            "_view_module": "@jupyter-widgets/controls",
            "_model_module_version": "1.5.0",
            "value": 0,
            "_view_count": null,
            "_view_module_version": "1.5.0",
            "orientation": "horizontal",
            "min": 0,
            "description_tooltip": null,
            "_model_module": "@jupyter-widgets/controls",
            "layout": "IPY_MODEL_1f50ab00383a4027af426adfc916290a"
          }
        },
        "bb8550e218ee45339ea89baf9f0bb0b8": {
          "model_module": "@jupyter-widgets/controls",
          "model_name": "HTMLModel",
          "model_module_version": "1.5.0",
          "state": {
            "_view_name": "HTMLView",
            "style": "IPY_MODEL_c09167760f604afbaa0f845859d432dc",
            "_dom_classes": [],
            "description": "",
            "_model_name": "HTMLModel",
            "placeholder": "​",
            "_view_module": "@jupyter-widgets/controls",
            "_model_module_version": "1.5.0",
            "value": " 0/0 [00:00&lt;?, ? MiB/s]",
            "_view_count": null,
            "_view_module_version": "1.5.0",
            "description_tooltip": null,
            "_model_module": "@jupyter-widgets/controls",
            "layout": "IPY_MODEL_c7b4e53a92484950b5e8695b09ea5868"
          }
        },
        "98839abdccd442b1b5041ac28d562569": {
          "model_module": "@jupyter-widgets/controls",
          "model_name": "DescriptionStyleModel",
          "model_module_version": "1.5.0",
          "state": {
            "_view_name": "StyleView",
            "_model_name": "DescriptionStyleModel",
            "description_width": "",
            "_view_module": "@jupyter-widgets/base",
            "_model_module_version": "1.5.0",
            "_view_count": null,
            "_view_module_version": "1.2.0",
            "_model_module": "@jupyter-widgets/controls"
          }
        },
        "614d6c39924a4fa09bc7bc627994fe8a": {
          "model_module": "@jupyter-widgets/base",
          "model_name": "LayoutModel",
          "model_module_version": "1.2.0",
          "state": {
            "_view_name": "LayoutView",
            "grid_template_rows": null,
            "right": null,
            "justify_content": null,
            "_view_module": "@jupyter-widgets/base",
            "overflow": null,
            "_model_module_version": "1.2.0",
            "_view_count": null,
            "flex_flow": null,
            "width": null,
            "min_width": null,
            "border": null,
            "align_items": null,
            "bottom": null,
            "_model_module": "@jupyter-widgets/base",
            "top": null,
            "grid_column": null,
            "overflow_y": null,
            "overflow_x": null,
            "grid_auto_flow": null,
            "grid_area": null,
            "grid_template_columns": null,
            "flex": null,
            "_model_name": "LayoutModel",
            "justify_items": null,
            "grid_row": null,
            "max_height": null,
            "align_content": null,
            "visibility": null,
            "align_self": null,
            "height": null,
            "min_height": null,
            "padding": null,
            "grid_auto_rows": null,
            "grid_gap": null,
            "max_width": null,
            "order": null,
            "_view_module_version": "1.2.0",
            "grid_template_areas": null,
            "object_position": null,
            "object_fit": null,
            "grid_auto_columns": null,
            "margin": null,
            "display": null,
            "left": null
          }
        },
        "c0b95141a43543a687d417e9f2e95668": {
          "model_module": "@jupyter-widgets/controls",
          "model_name": "ProgressStyleModel",
          "model_module_version": "1.5.0",
          "state": {
            "_view_name": "StyleView",
            "_model_name": "ProgressStyleModel",
            "description_width": "",
            "_view_module": "@jupyter-widgets/base",
            "_model_module_version": "1.5.0",
            "_view_count": null,
            "_view_module_version": "1.2.0",
            "bar_color": null,
            "_model_module": "@jupyter-widgets/controls"
          }
        },
        "1f50ab00383a4027af426adfc916290a": {
          "model_module": "@jupyter-widgets/base",
          "model_name": "LayoutModel",
          "model_module_version": "1.2.0",
          "state": {
            "_view_name": "LayoutView",
            "grid_template_rows": null,
            "right": null,
            "justify_content": null,
            "_view_module": "@jupyter-widgets/base",
            "overflow": null,
            "_model_module_version": "1.2.0",
            "_view_count": null,
            "flex_flow": null,
            "width": "20px",
            "min_width": null,
            "border": null,
            "align_items": null,
            "bottom": null,
            "_model_module": "@jupyter-widgets/base",
            "top": null,
            "grid_column": null,
            "overflow_y": null,
            "overflow_x": null,
            "grid_auto_flow": null,
            "grid_area": null,
            "grid_template_columns": null,
            "flex": null,
            "_model_name": "LayoutModel",
            "justify_items": null,
            "grid_row": null,
            "max_height": null,
            "align_content": null,
            "visibility": null,
            "align_self": null,
            "height": null,
            "min_height": null,
            "padding": null,
            "grid_auto_rows": null,
            "grid_gap": null,
            "max_width": null,
            "order": null,
            "_view_module_version": "1.2.0",
            "grid_template_areas": null,
            "object_position": null,
            "object_fit": null,
            "grid_auto_columns": null,
            "margin": null,
            "display": null,
            "left": null
          }
        },
        "c09167760f604afbaa0f845859d432dc": {
          "model_module": "@jupyter-widgets/controls",
          "model_name": "DescriptionStyleModel",
          "model_module_version": "1.5.0",
          "state": {
            "_view_name": "StyleView",
            "_model_name": "DescriptionStyleModel",
            "description_width": "",
            "_view_module": "@jupyter-widgets/base",
            "_model_module_version": "1.5.0",
            "_view_count": null,
            "_view_module_version": "1.2.0",
            "_model_module": "@jupyter-widgets/controls"
          }
        },
        "c7b4e53a92484950b5e8695b09ea5868": {
          "model_module": "@jupyter-widgets/base",
          "model_name": "LayoutModel",
          "model_module_version": "1.2.0",
          "state": {
            "_view_name": "LayoutView",
            "grid_template_rows": null,
            "right": null,
            "justify_content": null,
            "_view_module": "@jupyter-widgets/base",
            "overflow": null,
            "_model_module_version": "1.2.0",
            "_view_count": null,
            "flex_flow": null,
            "width": null,
            "min_width": null,
            "border": null,
            "align_items": null,
            "bottom": null,
            "_model_module": "@jupyter-widgets/base",
            "top": null,
            "grid_column": null,
            "overflow_y": null,
            "overflow_x": null,
            "grid_auto_flow": null,
            "grid_area": null,
            "grid_template_columns": null,
            "flex": null,
            "_model_name": "LayoutModel",
            "justify_items": null,
            "grid_row": null,
            "max_height": null,
            "align_content": null,
            "visibility": null,
            "align_self": null,
            "height": null,
            "min_height": null,
            "padding": null,
            "grid_auto_rows": null,
            "grid_gap": null,
            "max_width": null,
            "order": null,
            "_view_module_version": "1.2.0",
            "grid_template_areas": null,
            "object_position": null,
            "object_fit": null,
            "grid_auto_columns": null,
            "margin": null,
            "display": null,
            "left": null
          }
        },
        "f38fa6e3025c451e9b564d68ad2c49ab": {
          "model_module": "@jupyter-widgets/controls",
          "model_name": "HBoxModel",
          "model_module_version": "1.5.0",
          "state": {
            "_view_name": "HBoxView",
            "_dom_classes": [],
            "_model_name": "HBoxModel",
            "_view_module": "@jupyter-widgets/controls",
            "_model_module_version": "1.5.0",
            "_view_count": null,
            "_view_module_version": "1.5.0",
            "box_style": "",
            "layout": "IPY_MODEL_d35ce86ad5854b159e9a01678073d5bf",
            "_model_module": "@jupyter-widgets/controls",
            "children": [
              "IPY_MODEL_0992e9ee67c5404fba4809d83e60dc30",
              "IPY_MODEL_8c529d2484a64357bc8c95fc11868c3b",
              "IPY_MODEL_ef9c51ebd87d41fb802940c73303d8ed"
            ]
          }
        },
        "d35ce86ad5854b159e9a01678073d5bf": {
          "model_module": "@jupyter-widgets/base",
          "model_name": "LayoutModel",
          "model_module_version": "1.2.0",
          "state": {
            "_view_name": "LayoutView",
            "grid_template_rows": null,
            "right": null,
            "justify_content": null,
            "_view_module": "@jupyter-widgets/base",
            "overflow": null,
            "_model_module_version": "1.2.0",
            "_view_count": null,
            "flex_flow": null,
            "width": null,
            "min_width": null,
            "border": null,
            "align_items": null,
            "bottom": null,
            "_model_module": "@jupyter-widgets/base",
            "top": null,
            "grid_column": null,
            "overflow_y": null,
            "overflow_x": null,
            "grid_auto_flow": null,
            "grid_area": null,
            "grid_template_columns": null,
            "flex": null,
            "_model_name": "LayoutModel",
            "justify_items": null,
            "grid_row": null,
            "max_height": null,
            "align_content": null,
            "visibility": null,
            "align_self": null,
            "height": null,
            "min_height": null,
            "padding": null,
            "grid_auto_rows": null,
            "grid_gap": null,
            "max_width": null,
            "order": null,
            "_view_module_version": "1.2.0",
            "grid_template_areas": null,
            "object_position": null,
            "object_fit": null,
            "grid_auto_columns": null,
            "margin": null,
            "display": null,
            "left": null
          }
        },
        "0992e9ee67c5404fba4809d83e60dc30": {
          "model_module": "@jupyter-widgets/controls",
          "model_name": "HTMLModel",
          "model_module_version": "1.5.0",
          "state": {
            "_view_name": "HTMLView",
            "style": "IPY_MODEL_a68dad423ed74fcba065545314d108c8",
            "_dom_classes": [],
            "description": "",
            "_model_name": "HTMLModel",
            "placeholder": "​",
            "_view_module": "@jupyter-widgets/controls",
            "_model_module_version": "1.5.0",
            "value": "",
            "_view_count": null,
            "_view_module_version": "1.5.0",
            "description_tooltip": null,
            "_model_module": "@jupyter-widgets/controls",
            "layout": "IPY_MODEL_9f4de698c9b041968ff895c4a67477dd"
          }
        },
        "8c529d2484a64357bc8c95fc11868c3b": {
          "model_module": "@jupyter-widgets/controls",
          "model_name": "FloatProgressModel",
          "model_module_version": "1.5.0",
          "state": {
            "_view_name": "ProgressView",
            "style": "IPY_MODEL_76cc83f00d89423c9b7b8a337cc37a38",
            "_dom_classes": [],
            "description": "",
            "_model_name": "FloatProgressModel",
            "bar_style": "info",
            "max": 1,
            "_view_module": "@jupyter-widgets/controls",
            "_model_module_version": "1.5.0",
            "value": 1,
            "_view_count": null,
            "_view_module_version": "1.5.0",
            "orientation": "horizontal",
            "min": 0,
            "description_tooltip": null,
            "_model_module": "@jupyter-widgets/controls",
            "layout": "IPY_MODEL_da77d320bfdf40b491c8578ff157419e"
          }
        },
        "ef9c51ebd87d41fb802940c73303d8ed": {
          "model_module": "@jupyter-widgets/controls",
          "model_name": "HTMLModel",
          "model_module_version": "1.5.0",
          "state": {
            "_view_name": "HTMLView",
            "style": "IPY_MODEL_12954e5013114f42a340689cc1f766e4",
            "_dom_classes": [],
            "description": "",
            "_model_name": "HTMLModel",
            "placeholder": "​",
            "_view_module": "@jupyter-widgets/controls",
            "_model_module_version": "1.5.0",
            "value": " 0/0 [00:00&lt;?, ? examples/s]",
            "_view_count": null,
            "_view_module_version": "1.5.0",
            "description_tooltip": null,
            "_model_module": "@jupyter-widgets/controls",
            "layout": "IPY_MODEL_abb8cf1849ad4958a3066f646c389d52"
          }
        },
        "a68dad423ed74fcba065545314d108c8": {
          "model_module": "@jupyter-widgets/controls",
          "model_name": "DescriptionStyleModel",
          "model_module_version": "1.5.0",
          "state": {
            "_view_name": "StyleView",
            "_model_name": "DescriptionStyleModel",
            "description_width": "",
            "_view_module": "@jupyter-widgets/base",
            "_model_module_version": "1.5.0",
            "_view_count": null,
            "_view_module_version": "1.2.0",
            "_model_module": "@jupyter-widgets/controls"
          }
        },
        "9f4de698c9b041968ff895c4a67477dd": {
          "model_module": "@jupyter-widgets/base",
          "model_name": "LayoutModel",
          "model_module_version": "1.2.0",
          "state": {
            "_view_name": "LayoutView",
            "grid_template_rows": null,
            "right": null,
            "justify_content": null,
            "_view_module": "@jupyter-widgets/base",
            "overflow": null,
            "_model_module_version": "1.2.0",
            "_view_count": null,
            "flex_flow": null,
            "width": null,
            "min_width": null,
            "border": null,
            "align_items": null,
            "bottom": null,
            "_model_module": "@jupyter-widgets/base",
            "top": null,
            "grid_column": null,
            "overflow_y": null,
            "overflow_x": null,
            "grid_auto_flow": null,
            "grid_area": null,
            "grid_template_columns": null,
            "flex": null,
            "_model_name": "LayoutModel",
            "justify_items": null,
            "grid_row": null,
            "max_height": null,
            "align_content": null,
            "visibility": null,
            "align_self": null,
            "height": null,
            "min_height": null,
            "padding": null,
            "grid_auto_rows": null,
            "grid_gap": null,
            "max_width": null,
            "order": null,
            "_view_module_version": "1.2.0",
            "grid_template_areas": null,
            "object_position": null,
            "object_fit": null,
            "grid_auto_columns": null,
            "margin": null,
            "display": null,
            "left": null
          }
        },
        "76cc83f00d89423c9b7b8a337cc37a38": {
          "model_module": "@jupyter-widgets/controls",
          "model_name": "ProgressStyleModel",
          "model_module_version": "1.5.0",
          "state": {
            "_view_name": "StyleView",
            "_model_name": "ProgressStyleModel",
            "description_width": "",
            "_view_module": "@jupyter-widgets/base",
            "_model_module_version": "1.5.0",
            "_view_count": null,
            "_view_module_version": "1.2.0",
            "bar_color": null,
            "_model_module": "@jupyter-widgets/controls"
          }
        },
        "da77d320bfdf40b491c8578ff157419e": {
          "model_module": "@jupyter-widgets/base",
          "model_name": "LayoutModel",
          "model_module_version": "1.2.0",
          "state": {
            "_view_name": "LayoutView",
            "grid_template_rows": null,
            "right": null,
            "justify_content": null,
            "_view_module": "@jupyter-widgets/base",
            "overflow": null,
            "_model_module_version": "1.2.0",
            "_view_count": null,
            "flex_flow": null,
            "width": "20px",
            "min_width": null,
            "border": null,
            "align_items": null,
            "bottom": null,
            "_model_module": "@jupyter-widgets/base",
            "top": null,
            "grid_column": null,
            "overflow_y": null,
            "overflow_x": null,
            "grid_auto_flow": null,
            "grid_area": null,
            "grid_template_columns": null,
            "flex": null,
            "_model_name": "LayoutModel",
            "justify_items": null,
            "grid_row": null,
            "max_height": null,
            "align_content": null,
            "visibility": null,
            "align_self": null,
            "height": null,
            "min_height": null,
            "padding": null,
            "grid_auto_rows": null,
            "grid_gap": null,
            "max_width": null,
            "order": null,
            "_view_module_version": "1.2.0",
            "grid_template_areas": null,
            "object_position": null,
            "object_fit": null,
            "grid_auto_columns": null,
            "margin": null,
            "display": null,
            "left": null
          }
        },
        "12954e5013114f42a340689cc1f766e4": {
          "model_module": "@jupyter-widgets/controls",
          "model_name": "DescriptionStyleModel",
          "model_module_version": "1.5.0",
          "state": {
            "_view_name": "StyleView",
            "_model_name": "DescriptionStyleModel",
            "description_width": "",
            "_view_module": "@jupyter-widgets/base",
            "_model_module_version": "1.5.0",
            "_view_count": null,
            "_view_module_version": "1.2.0",
            "_model_module": "@jupyter-widgets/controls"
          }
        },
        "abb8cf1849ad4958a3066f646c389d52": {
          "model_module": "@jupyter-widgets/base",
          "model_name": "LayoutModel",
          "model_module_version": "1.2.0",
          "state": {
            "_view_name": "LayoutView",
            "grid_template_rows": null,
            "right": null,
            "justify_content": null,
            "_view_module": "@jupyter-widgets/base",
            "overflow": null,
            "_model_module_version": "1.2.0",
            "_view_count": null,
            "flex_flow": null,
            "width": null,
            "min_width": null,
            "border": null,
            "align_items": null,
            "bottom": null,
            "_model_module": "@jupyter-widgets/base",
            "top": null,
            "grid_column": null,
            "overflow_y": null,
            "overflow_x": null,
            "grid_auto_flow": null,
            "grid_area": null,
            "grid_template_columns": null,
            "flex": null,
            "_model_name": "LayoutModel",
            "justify_items": null,
            "grid_row": null,
            "max_height": null,
            "align_content": null,
            "visibility": null,
            "align_self": null,
            "height": null,
            "min_height": null,
            "padding": null,
            "grid_auto_rows": null,
            "grid_gap": null,
            "max_width": null,
            "order": null,
            "_view_module_version": "1.2.0",
            "grid_template_areas": null,
            "object_position": null,
            "object_fit": null,
            "grid_auto_columns": null,
            "margin": null,
            "display": null,
            "left": null
          }
        },
        "2b4835984c0f4c04a6275fb49fa36d27": {
          "model_module": "@jupyter-widgets/controls",
          "model_name": "HBoxModel",
          "model_module_version": "1.5.0",
          "state": {
            "_view_name": "HBoxView",
            "_dom_classes": [],
            "_model_name": "HBoxModel",
            "_view_module": "@jupyter-widgets/controls",
            "_model_module_version": "1.5.0",
            "_view_count": null,
            "_view_module_version": "1.5.0",
            "box_style": "",
            "layout": "IPY_MODEL_1a85d3dc2cc94e23a42f113e9f86b28c",
            "_model_module": "@jupyter-widgets/controls",
            "children": [
              "IPY_MODEL_5d884158bf9748d6a89b02bf3aa8b8de",
              "IPY_MODEL_6f53db5b798e43d8a229c0dfda82d749",
              "IPY_MODEL_1910eba834d74061a8c1df412d4c5fa8"
            ]
          }
        },
        "1a85d3dc2cc94e23a42f113e9f86b28c": {
          "model_module": "@jupyter-widgets/base",
          "model_name": "LayoutModel",
          "model_module_version": "1.2.0",
          "state": {
            "_view_name": "LayoutView",
            "grid_template_rows": null,
            "right": null,
            "justify_content": null,
            "_view_module": "@jupyter-widgets/base",
            "overflow": null,
            "_model_module_version": "1.2.0",
            "_view_count": null,
            "flex_flow": null,
            "width": null,
            "min_width": null,
            "border": null,
            "align_items": null,
            "bottom": null,
            "_model_module": "@jupyter-widgets/base",
            "top": null,
            "grid_column": null,
            "overflow_y": null,
            "overflow_x": null,
            "grid_auto_flow": null,
            "grid_area": null,
            "grid_template_columns": null,
            "flex": null,
            "_model_name": "LayoutModel",
            "justify_items": null,
            "grid_row": null,
            "max_height": null,
            "align_content": null,
            "visibility": null,
            "align_self": null,
            "height": null,
            "min_height": null,
            "padding": null,
            "grid_auto_rows": null,
            "grid_gap": null,
            "max_width": null,
            "order": null,
            "_view_module_version": "1.2.0",
            "grid_template_areas": null,
            "object_position": null,
            "object_fit": null,
            "grid_auto_columns": null,
            "margin": null,
            "display": null,
            "left": null
          }
        },
        "5d884158bf9748d6a89b02bf3aa8b8de": {
          "model_module": "@jupyter-widgets/controls",
          "model_name": "HTMLModel",
          "model_module_version": "1.5.0",
          "state": {
            "_view_name": "HTMLView",
            "style": "IPY_MODEL_09aaa53cd1d24420bee982d055afbed3",
            "_dom_classes": [],
            "description": "",
            "_model_name": "HTMLModel",
            "placeholder": "​",
            "_view_module": "@jupyter-widgets/controls",
            "_model_module_version": "1.5.0",
            "value": " 99%",
            "_view_count": null,
            "_view_module_version": "1.5.0",
            "description_tooltip": null,
            "_model_module": "@jupyter-widgets/controls",
            "layout": "IPY_MODEL_021724da957248fc81cba220500d46e7"
          }
        },
        "6f53db5b798e43d8a229c0dfda82d749": {
          "model_module": "@jupyter-widgets/controls",
          "model_name": "FloatProgressModel",
          "model_module_version": "1.5.0",
          "state": {
            "_view_name": "ProgressView",
            "style": "IPY_MODEL_2681a584987040f1b0f3b55978f66c2d",
            "_dom_classes": [],
            "description": "",
            "_model_name": "FloatProgressModel",
            "bar_style": "danger",
            "max": 150,
            "_view_module": "@jupyter-widgets/controls",
            "_model_module_version": "1.5.0",
            "value": 149,
            "_view_count": null,
            "_view_module_version": "1.5.0",
            "orientation": "horizontal",
            "min": 0,
            "description_tooltip": null,
            "_model_module": "@jupyter-widgets/controls",
            "layout": "IPY_MODEL_87e18a40456f4076a38c7f8561088a3b"
          }
        },
        "1910eba834d74061a8c1df412d4c5fa8": {
          "model_module": "@jupyter-widgets/controls",
          "model_name": "HTMLModel",
          "model_module_version": "1.5.0",
          "state": {
            "_view_name": "HTMLView",
            "style": "IPY_MODEL_a2caa632b1074e62a774b81cff555192",
            "_dom_classes": [],
            "description": "",
            "_model_name": "HTMLModel",
            "placeholder": "​",
            "_view_module": "@jupyter-widgets/controls",
            "_model_module_version": "1.5.0",
            "value": " 149/150 [00:00&lt;00:00, 3202.37 examples/s]",
            "_view_count": null,
            "_view_module_version": "1.5.0",
            "description_tooltip": null,
            "_model_module": "@jupyter-widgets/controls",
            "layout": "IPY_MODEL_8c1f653e12134bde83d02b56004ea1e5"
          }
        },
        "09aaa53cd1d24420bee982d055afbed3": {
          "model_module": "@jupyter-widgets/controls",
          "model_name": "DescriptionStyleModel",
          "model_module_version": "1.5.0",
          "state": {
            "_view_name": "StyleView",
            "_model_name": "DescriptionStyleModel",
            "description_width": "",
            "_view_module": "@jupyter-widgets/base",
            "_model_module_version": "1.5.0",
            "_view_count": null,
            "_view_module_version": "1.2.0",
            "_model_module": "@jupyter-widgets/controls"
          }
        },
        "021724da957248fc81cba220500d46e7": {
          "model_module": "@jupyter-widgets/base",
          "model_name": "LayoutModel",
          "model_module_version": "1.2.0",
          "state": {
            "_view_name": "LayoutView",
            "grid_template_rows": null,
            "right": null,
            "justify_content": null,
            "_view_module": "@jupyter-widgets/base",
            "overflow": null,
            "_model_module_version": "1.2.0",
            "_view_count": null,
            "flex_flow": null,
            "width": null,
            "min_width": null,
            "border": null,
            "align_items": null,
            "bottom": null,
            "_model_module": "@jupyter-widgets/base",
            "top": null,
            "grid_column": null,
            "overflow_y": null,
            "overflow_x": null,
            "grid_auto_flow": null,
            "grid_area": null,
            "grid_template_columns": null,
            "flex": null,
            "_model_name": "LayoutModel",
            "justify_items": null,
            "grid_row": null,
            "max_height": null,
            "align_content": null,
            "visibility": null,
            "align_self": null,
            "height": null,
            "min_height": null,
            "padding": null,
            "grid_auto_rows": null,
            "grid_gap": null,
            "max_width": null,
            "order": null,
            "_view_module_version": "1.2.0",
            "grid_template_areas": null,
            "object_position": null,
            "object_fit": null,
            "grid_auto_columns": null,
            "margin": null,
            "display": null,
            "left": null
          }
        },
        "2681a584987040f1b0f3b55978f66c2d": {
          "model_module": "@jupyter-widgets/controls",
          "model_name": "ProgressStyleModel",
          "model_module_version": "1.5.0",
          "state": {
            "_view_name": "StyleView",
            "_model_name": "ProgressStyleModel",
            "description_width": "",
            "_view_module": "@jupyter-widgets/base",
            "_model_module_version": "1.5.0",
            "_view_count": null,
            "_view_module_version": "1.2.0",
            "bar_color": null,
            "_model_module": "@jupyter-widgets/controls"
          }
        },
        "87e18a40456f4076a38c7f8561088a3b": {
          "model_module": "@jupyter-widgets/base",
          "model_name": "LayoutModel",
          "model_module_version": "1.2.0",
          "state": {
            "_view_name": "LayoutView",
            "grid_template_rows": null,
            "right": null,
            "justify_content": null,
            "_view_module": "@jupyter-widgets/base",
            "overflow": null,
            "_model_module_version": "1.2.0",
            "_view_count": null,
            "flex_flow": null,
            "width": null,
            "min_width": null,
            "border": null,
            "align_items": null,
            "bottom": null,
            "_model_module": "@jupyter-widgets/base",
            "top": null,
            "grid_column": null,
            "overflow_y": null,
            "overflow_x": null,
            "grid_auto_flow": null,
            "grid_area": null,
            "grid_template_columns": null,
            "flex": null,
            "_model_name": "LayoutModel",
            "justify_items": null,
            "grid_row": null,
            "max_height": null,
            "align_content": null,
            "visibility": null,
            "align_self": null,
            "height": null,
            "min_height": null,
            "padding": null,
            "grid_auto_rows": null,
            "grid_gap": null,
            "max_width": null,
            "order": null,
            "_view_module_version": "1.2.0",
            "grid_template_areas": null,
            "object_position": null,
            "object_fit": null,
            "grid_auto_columns": null,
            "margin": null,
            "display": null,
            "left": null
          }
        },
        "a2caa632b1074e62a774b81cff555192": {
          "model_module": "@jupyter-widgets/controls",
          "model_name": "DescriptionStyleModel",
          "model_module_version": "1.5.0",
          "state": {
            "_view_name": "StyleView",
            "_model_name": "DescriptionStyleModel",
            "description_width": "",
            "_view_module": "@jupyter-widgets/base",
            "_model_module_version": "1.5.0",
            "_view_count": null,
            "_view_module_version": "1.2.0",
            "_model_module": "@jupyter-widgets/controls"
          }
        },
        "8c1f653e12134bde83d02b56004ea1e5": {
          "model_module": "@jupyter-widgets/base",
          "model_name": "LayoutModel",
          "model_module_version": "1.2.0",
          "state": {
            "_view_name": "LayoutView",
            "grid_template_rows": null,
            "right": null,
            "justify_content": null,
            "_view_module": "@jupyter-widgets/base",
            "overflow": null,
            "_model_module_version": "1.2.0",
            "_view_count": null,
            "flex_flow": null,
            "width": null,
            "min_width": null,
            "border": null,
            "align_items": null,
            "bottom": null,
            "_model_module": "@jupyter-widgets/base",
            "top": null,
            "grid_column": null,
            "overflow_y": null,
            "overflow_x": null,
            "grid_auto_flow": null,
            "grid_area": null,
            "grid_template_columns": null,
            "flex": null,
            "_model_name": "LayoutModel",
            "justify_items": null,
            "grid_row": null,
            "max_height": null,
            "align_content": null,
            "visibility": null,
            "align_self": null,
            "height": null,
            "min_height": null,
            "padding": null,
            "grid_auto_rows": null,
            "grid_gap": null,
            "max_width": null,
            "order": null,
            "_view_module_version": "1.2.0",
            "grid_template_areas": null,
            "object_position": null,
            "object_fit": null,
            "grid_auto_columns": null,
            "margin": null,
            "display": null,
            "left": null
          }
        }
      }
    }
  },
  "cells": [
    {
      "cell_type": "markdown",
      "metadata": {
        "id": "81ee79f3-bea7-4543-97f2-57f6e8e5ab71"
      },
      "source": [
        "Несмотря на автоматизацию области, очень многие решения в процессе решения задачи принимает data scientist. Некоторые из них автоматизировать достаточно сложно — такие, как выбор правильной метрики, однако есть и такие, которые можно принимать автоматизированно. Многие алгоритмы, как нейронные сети, так и классические алгоритмы обучения, оперируют понятием <<гиперпараметры>> — параметры, которые не учатся в процессе анализа данных, а которые необходимо задать перед началом обучения инженеру самостоятельно. К примеру, в решающих деревьях, такими параметрами являются максимальная глубина дерева и минимальное количество экзмепляров данных в листе. В процессе построения нейросети также есть множество гиперпараметров, которые устанавливает инженер и об их автоматическом выборе мы сегодня поговорим.\n",
        "\n",
        "Как мы уже сказали, гиперпараметры — это параметры, которые не учатся автоматически, а задаются самостоятельно. В приложении к нейронным сетям такими гиперпараметрами будут:\n",
        "* Архитектура сети, т.е. выбранные слои и их связность\n",
        "* Гиперпараметры каждого слоя отдельно, такие как количество нейронов, функции активации, и т.д.\n",
        "* Параметры оптимизатора — коэффициент скорости обучения и т.д.\n",
        "* Параметры обучения\n",
        "* И т.д.\n",
        "\n",
        "Некоторые из этих гиперпараметров выбираются инженером из его опыта или общепринятых практик — например, архитектура сети. Однако, такие гиперпараметры, как количество нейронов в слое или функция активации, сложно угадать — в разных задачах наиболее оптимальным выбором будут разные варианты и их выбор неочевиден. Данные параметры можно попробовать подобрать автоматически — натренировать несколько моделей с разными комбинациями параметров и выбрать из них лучшую.  \n",
        "\n",
        "Есть несколько подходов к подбору гиперпараметров. Классически используемый подход — это т.н. GridSearch. GridSearch — это подход, в котором для каждого параметра указывается весь список значений, который нужно проверить. При N параметров получается N-мерное поле, все точки которого необходимо посетить и посчитать качество модели в этой точке, после чего выбрать наиболее оптимальную. Главным недостатком данного подхода является огромная вычислительная сложность - алгоритм будет честно проверять все возможные комбинации параметров и искать среди них оптимальную.\n",
        "\n",
        "Альтернативным подходом является байесовская оптимизация. Представим некую функцию $G(x_1, x_2, ..., x_i)$, где $x_i$ — это гиперпараметр, а результат этой функции — качество модели. Байесовская оптимизация опирается на предположение, что данная функция является непрерывной, т.е. малые изменения аргументов приведут к малым изменениям значения функции. Учитывая это предположение, алгоритмы байесовской оптимизации стараются найти области наиболее высоких значений параметров, а потом найти оптимальную точку уже в заданной области.\n",
        "\n",
        "В рамках данной лекции мы с вами возьмем один из самых популярных пакетов для байесовской оптимизации — Optuna — и используем его для поиска гиперпараметров для нашей сети.\n",
        "\n",
        "Давайте установим пакет и проверим, что фреймворк TensorFlow и пакет TensorFlow_Dataset тоже установлены."
      ],
      "id": "81ee79f3-bea7-4543-97f2-57f6e8e5ab71"
    },
    {
      "cell_type": "code",
      "metadata": {
        "tags": [],
        "colab": {
          "base_uri": "https://localhost:8080/"
        },
        "id": "bcd53b56-3adb-4184-8bb9-09d17b41780c",
        "outputId": "c7a92e6f-d272-4cbf-9ee2-486612054648"
      },
      "source": [
        "!pip install optuna\n",
        "!pip install numpy tensorflow tensorflow_datasets"
      ],
      "id": "bcd53b56-3adb-4184-8bb9-09d17b41780c",
      "execution_count": 1,
      "outputs": [
        {
          "output_type": "stream",
          "name": "stdout",
          "text": [
            "Collecting optuna\n",
            "  Downloading optuna-2.10.0-py3-none-any.whl (308 kB)\n",
            "\u001b[K     |████████████████████████████████| 308 kB 4.7 MB/s \n",
            "\u001b[?25hCollecting cliff\n",
            "  Downloading cliff-3.9.0-py3-none-any.whl (80 kB)\n",
            "\u001b[K     |████████████████████████████████| 80 kB 4.9 MB/s \n",
            "\u001b[?25hRequirement already satisfied: packaging>=20.0 in /usr/local/lib/python3.7/dist-packages (from optuna) (21.2)\n",
            "Requirement already satisfied: numpy in /usr/local/lib/python3.7/dist-packages (from optuna) (1.19.5)\n",
            "Collecting cmaes>=0.8.2\n",
            "  Downloading cmaes-0.8.2-py3-none-any.whl (15 kB)\n",
            "Requirement already satisfied: tqdm in /usr/local/lib/python3.7/dist-packages (from optuna) (4.62.3)\n",
            "Requirement already satisfied: scipy!=1.4.0 in /usr/local/lib/python3.7/dist-packages (from optuna) (1.4.1)\n",
            "Requirement already satisfied: PyYAML in /usr/local/lib/python3.7/dist-packages (from optuna) (3.13)\n",
            "Requirement already satisfied: sqlalchemy>=1.1.0 in /usr/local/lib/python3.7/dist-packages (from optuna) (1.4.26)\n",
            "Collecting colorlog\n",
            "  Downloading colorlog-6.6.0-py2.py3-none-any.whl (11 kB)\n",
            "Collecting alembic\n",
            "  Downloading alembic-1.7.5-py3-none-any.whl (209 kB)\n",
            "\u001b[K     |████████████████████████████████| 209 kB 42.8 MB/s \n",
            "\u001b[?25hRequirement already satisfied: pyparsing<3,>=2.0.2 in /usr/local/lib/python3.7/dist-packages (from packaging>=20.0->optuna) (2.4.7)\n",
            "Requirement already satisfied: greenlet!=0.4.17 in /usr/local/lib/python3.7/dist-packages (from sqlalchemy>=1.1.0->optuna) (1.1.2)\n",
            "Requirement already satisfied: importlib-metadata in /usr/local/lib/python3.7/dist-packages (from sqlalchemy>=1.1.0->optuna) (4.8.2)\n",
            "Requirement already satisfied: importlib-resources in /usr/local/lib/python3.7/dist-packages (from alembic->optuna) (5.4.0)\n",
            "Collecting Mako\n",
            "  Downloading Mako-1.1.5-py2.py3-none-any.whl (75 kB)\n",
            "\u001b[K     |████████████████████████████████| 75 kB 2.7 MB/s \n",
            "\u001b[?25hCollecting pbr!=2.1.0,>=2.0.0\n",
            "  Downloading pbr-5.7.0-py2.py3-none-any.whl (112 kB)\n",
            "\u001b[K     |████████████████████████████████| 112 kB 36.6 MB/s \n",
            "\u001b[?25hRequirement already satisfied: PrettyTable>=0.7.2 in /usr/local/lib/python3.7/dist-packages (from cliff->optuna) (2.4.0)\n",
            "Collecting autopage>=0.4.0\n",
            "  Downloading autopage-0.4.0-py3-none-any.whl (20 kB)\n",
            "Collecting cmd2>=1.0.0\n",
            "  Downloading cmd2-2.2.0-py3-none-any.whl (144 kB)\n",
            "\u001b[K     |████████████████████████████████| 144 kB 47.3 MB/s \n",
            "\u001b[?25hCollecting stevedore>=2.0.1\n",
            "  Downloading stevedore-3.5.0-py3-none-any.whl (49 kB)\n",
            "\u001b[K     |████████████████████████████████| 49 kB 3.6 MB/s \n",
            "\u001b[?25hRequirement already satisfied: attrs>=16.3.0 in /usr/local/lib/python3.7/dist-packages (from cmd2>=1.0.0->cliff->optuna) (21.2.0)\n",
            "Collecting colorama>=0.3.7\n",
            "  Downloading colorama-0.4.4-py2.py3-none-any.whl (16 kB)\n",
            "Requirement already satisfied: wcwidth>=0.1.7 in /usr/local/lib/python3.7/dist-packages (from cmd2>=1.0.0->cliff->optuna) (0.2.5)\n",
            "Collecting pyperclip>=1.6\n",
            "  Downloading pyperclip-1.8.2.tar.gz (20 kB)\n",
            "Requirement already satisfied: typing-extensions in /usr/local/lib/python3.7/dist-packages (from cmd2>=1.0.0->cliff->optuna) (3.10.0.2)\n",
            "Requirement already satisfied: zipp>=0.5 in /usr/local/lib/python3.7/dist-packages (from importlib-metadata->sqlalchemy>=1.1.0->optuna) (3.6.0)\n",
            "Requirement already satisfied: MarkupSafe>=0.9.2 in /usr/local/lib/python3.7/dist-packages (from Mako->alembic->optuna) (2.0.1)\n",
            "Building wheels for collected packages: pyperclip\n",
            "  Building wheel for pyperclip (setup.py) ... \u001b[?25l\u001b[?25hdone\n",
            "  Created wheel for pyperclip: filename=pyperclip-1.8.2-py3-none-any.whl size=11136 sha256=faae74d9874701419da84746bf761cb599a3680762cbdf1f1ec9fd6b4d8458a4\n",
            "  Stored in directory: /root/.cache/pip/wheels/9f/18/84/8f69f8b08169c7bae2dde6bd7daf0c19fca8c8e500ee620a28\n",
            "Successfully built pyperclip\n",
            "Installing collected packages: pyperclip, pbr, colorama, stevedore, Mako, cmd2, autopage, colorlog, cmaes, cliff, alembic, optuna\n",
            "Successfully installed Mako-1.1.5 alembic-1.7.5 autopage-0.4.0 cliff-3.9.0 cmaes-0.8.2 cmd2-2.2.0 colorama-0.4.4 colorlog-6.6.0 optuna-2.10.0 pbr-5.7.0 pyperclip-1.8.2 stevedore-3.5.0\n",
            "Requirement already satisfied: numpy in /usr/local/lib/python3.7/dist-packages (1.19.5)\n",
            "Requirement already satisfied: tensorflow in /usr/local/lib/python3.7/dist-packages (2.7.0)\n",
            "Requirement already satisfied: tensorflow_datasets in /usr/local/lib/python3.7/dist-packages (4.0.1)\n",
            "Requirement already satisfied: typing-extensions>=3.6.6 in /usr/local/lib/python3.7/dist-packages (from tensorflow) (3.10.0.2)\n",
            "Requirement already satisfied: absl-py>=0.4.0 in /usr/local/lib/python3.7/dist-packages (from tensorflow) (0.12.0)\n",
            "Requirement already satisfied: protobuf>=3.9.2 in /usr/local/lib/python3.7/dist-packages (from tensorflow) (3.17.3)\n",
            "Requirement already satisfied: tensorflow-io-gcs-filesystem>=0.21.0 in /usr/local/lib/python3.7/dist-packages (from tensorflow) (0.21.0)\n",
            "Requirement already satisfied: grpcio<2.0,>=1.24.3 in /usr/local/lib/python3.7/dist-packages (from tensorflow) (1.41.1)\n",
            "Requirement already satisfied: astunparse>=1.6.0 in /usr/local/lib/python3.7/dist-packages (from tensorflow) (1.6.3)\n",
            "Requirement already satisfied: google-pasta>=0.1.1 in /usr/local/lib/python3.7/dist-packages (from tensorflow) (0.2.0)\n",
            "Requirement already satisfied: wrapt>=1.11.0 in /usr/local/lib/python3.7/dist-packages (from tensorflow) (1.13.3)\n",
            "Requirement already satisfied: keras<2.8,>=2.7.0rc0 in /usr/local/lib/python3.7/dist-packages (from tensorflow) (2.7.0)\n",
            "Requirement already satisfied: flatbuffers<3.0,>=1.12 in /usr/local/lib/python3.7/dist-packages (from tensorflow) (2.0)\n",
            "Requirement already satisfied: libclang>=9.0.1 in /usr/local/lib/python3.7/dist-packages (from tensorflow) (12.0.0)\n",
            "Requirement already satisfied: termcolor>=1.1.0 in /usr/local/lib/python3.7/dist-packages (from tensorflow) (1.1.0)\n",
            "Requirement already satisfied: h5py>=2.9.0 in /usr/local/lib/python3.7/dist-packages (from tensorflow) (3.1.0)\n",
            "Requirement already satisfied: keras-preprocessing>=1.1.1 in /usr/local/lib/python3.7/dist-packages (from tensorflow) (1.1.2)\n",
            "Requirement already satisfied: six>=1.12.0 in /usr/local/lib/python3.7/dist-packages (from tensorflow) (1.15.0)\n",
            "Requirement already satisfied: opt-einsum>=2.3.2 in /usr/local/lib/python3.7/dist-packages (from tensorflow) (3.3.0)\n",
            "Requirement already satisfied: tensorboard~=2.6 in /usr/local/lib/python3.7/dist-packages (from tensorflow) (2.7.0)\n",
            "Requirement already satisfied: gast<0.5.0,>=0.2.1 in /usr/local/lib/python3.7/dist-packages (from tensorflow) (0.4.0)\n",
            "Requirement already satisfied: tensorflow-estimator<2.8,~=2.7.0rc0 in /usr/local/lib/python3.7/dist-packages (from tensorflow) (2.7.0)\n",
            "Requirement already satisfied: wheel<1.0,>=0.32.0 in /usr/local/lib/python3.7/dist-packages (from tensorflow) (0.37.0)\n",
            "Requirement already satisfied: cached-property in /usr/local/lib/python3.7/dist-packages (from h5py>=2.9.0->tensorflow) (1.5.2)\n",
            "Requirement already satisfied: google-auth<3,>=1.6.3 in /usr/local/lib/python3.7/dist-packages (from tensorboard~=2.6->tensorflow) (1.35.0)\n",
            "Requirement already satisfied: requests<3,>=2.21.0 in /usr/local/lib/python3.7/dist-packages (from tensorboard~=2.6->tensorflow) (2.23.0)\n",
            "Requirement already satisfied: tensorboard-data-server<0.7.0,>=0.6.0 in /usr/local/lib/python3.7/dist-packages (from tensorboard~=2.6->tensorflow) (0.6.1)\n",
            "Requirement already satisfied: markdown>=2.6.8 in /usr/local/lib/python3.7/dist-packages (from tensorboard~=2.6->tensorflow) (3.3.4)\n",
            "Requirement already satisfied: google-auth-oauthlib<0.5,>=0.4.1 in /usr/local/lib/python3.7/dist-packages (from tensorboard~=2.6->tensorflow) (0.4.6)\n",
            "Requirement already satisfied: setuptools>=41.0.0 in /usr/local/lib/python3.7/dist-packages (from tensorboard~=2.6->tensorflow) (57.4.0)\n",
            "Requirement already satisfied: werkzeug>=0.11.15 in /usr/local/lib/python3.7/dist-packages (from tensorboard~=2.6->tensorflow) (1.0.1)\n",
            "Requirement already satisfied: tensorboard-plugin-wit>=1.6.0 in /usr/local/lib/python3.7/dist-packages (from tensorboard~=2.6->tensorflow) (1.8.0)\n",
            "Requirement already satisfied: rsa<5,>=3.1.4 in /usr/local/lib/python3.7/dist-packages (from google-auth<3,>=1.6.3->tensorboard~=2.6->tensorflow) (4.7.2)\n",
            "Requirement already satisfied: cachetools<5.0,>=2.0.0 in /usr/local/lib/python3.7/dist-packages (from google-auth<3,>=1.6.3->tensorboard~=2.6->tensorflow) (4.2.4)\n",
            "Requirement already satisfied: pyasn1-modules>=0.2.1 in /usr/local/lib/python3.7/dist-packages (from google-auth<3,>=1.6.3->tensorboard~=2.6->tensorflow) (0.2.8)\n",
            "Requirement already satisfied: requests-oauthlib>=0.7.0 in /usr/local/lib/python3.7/dist-packages (from google-auth-oauthlib<0.5,>=0.4.1->tensorboard~=2.6->tensorflow) (1.3.0)\n",
            "Requirement already satisfied: importlib-metadata in /usr/local/lib/python3.7/dist-packages (from markdown>=2.6.8->tensorboard~=2.6->tensorflow) (4.8.2)\n",
            "Requirement already satisfied: pyasn1<0.5.0,>=0.4.6 in /usr/local/lib/python3.7/dist-packages (from pyasn1-modules>=0.2.1->google-auth<3,>=1.6.3->tensorboard~=2.6->tensorflow) (0.4.8)\n",
            "Requirement already satisfied: urllib3!=1.25.0,!=1.25.1,<1.26,>=1.21.1 in /usr/local/lib/python3.7/dist-packages (from requests<3,>=2.21.0->tensorboard~=2.6->tensorflow) (1.24.3)\n",
            "Requirement already satisfied: certifi>=2017.4.17 in /usr/local/lib/python3.7/dist-packages (from requests<3,>=2.21.0->tensorboard~=2.6->tensorflow) (2021.10.8)\n",
            "Requirement already satisfied: chardet<4,>=3.0.2 in /usr/local/lib/python3.7/dist-packages (from requests<3,>=2.21.0->tensorboard~=2.6->tensorflow) (3.0.4)\n",
            "Requirement already satisfied: idna<3,>=2.5 in /usr/local/lib/python3.7/dist-packages (from requests<3,>=2.21.0->tensorboard~=2.6->tensorflow) (2.10)\n",
            "Requirement already satisfied: oauthlib>=3.0.0 in /usr/local/lib/python3.7/dist-packages (from requests-oauthlib>=0.7.0->google-auth-oauthlib<0.5,>=0.4.1->tensorboard~=2.6->tensorflow) (3.1.1)\n",
            "Requirement already satisfied: tensorflow-metadata in /usr/local/lib/python3.7/dist-packages (from tensorflow_datasets) (1.4.0)\n",
            "Requirement already satisfied: dill in /usr/local/lib/python3.7/dist-packages (from tensorflow_datasets) (0.3.4)\n",
            "Requirement already satisfied: promise in /usr/local/lib/python3.7/dist-packages (from tensorflow_datasets) (2.3)\n",
            "Requirement already satisfied: attrs>=18.1.0 in /usr/local/lib/python3.7/dist-packages (from tensorflow_datasets) (21.2.0)\n",
            "Requirement already satisfied: future in /usr/local/lib/python3.7/dist-packages (from tensorflow_datasets) (0.16.0)\n",
            "Requirement already satisfied: dm-tree in /usr/local/lib/python3.7/dist-packages (from tensorflow_datasets) (0.1.6)\n",
            "Requirement already satisfied: tqdm in /usr/local/lib/python3.7/dist-packages (from tensorflow_datasets) (4.62.3)\n",
            "Requirement already satisfied: importlib-resources in /usr/local/lib/python3.7/dist-packages (from tensorflow_datasets) (5.4.0)\n",
            "Requirement already satisfied: zipp>=0.5 in /usr/local/lib/python3.7/dist-packages (from importlib-metadata->markdown>=2.6.8->tensorboard~=2.6->tensorflow) (3.6.0)\n",
            "Requirement already satisfied: googleapis-common-protos<2,>=1.52.0 in /usr/local/lib/python3.7/dist-packages (from tensorflow-metadata->tensorflow_datasets) (1.53.0)\n"
          ]
        }
      ]
    },
    {
      "cell_type": "markdown",
      "metadata": {
        "id": "9d5f428a-3708-4200-a7a6-814d8cd61972"
      },
      "source": [
        "Тестировать пакет Optuna мы будем на том же самом примере, что и ранее — на наборе данных \"Ирисы Фишера\" и нашей маленькой нейронной сети из трех слоев. Давайте импортируем все необходимые пакеты, в т.ч. Optuna."
      ],
      "id": "9d5f428a-3708-4200-a7a6-814d8cd61972"
    },
    {
      "cell_type": "code",
      "metadata": {
        "id": "2eec9f91-9918-4346-945f-44f75800bbc8"
      },
      "source": [
        "import numpy as np\n",
        "import tensorflow as tf\n",
        "from tensorflow import keras\n",
        "from tensorflow.keras import metrics, layers, activations, optimizers, losses\n",
        "import tensorflow_datasets as tfds\n",
        "\n",
        "import optuna"
      ],
      "id": "2eec9f91-9918-4346-945f-44f75800bbc8",
      "execution_count": 2,
      "outputs": []
    },
    {
      "cell_type": "markdown",
      "metadata": {
        "id": "eb241845-661e-4c15-8824-92a30058a306"
      },
      "source": [
        "Как и ранее, разделим набор данных на две части, одна из которых будет использоваться для обучения, а вторая - для валидации модели, и укажем дополнительные параметры. "
      ],
      "id": "eb241845-661e-4c15-8824-92a30058a306"
    },
    {
      "cell_type": "code",
      "metadata": {
        "colab": {
          "base_uri": "https://localhost:8080/",
          "height": 198,
          "referenced_widgets": [
            "f36605bf061d47fbb4377d80e2375832",
            "9cf01cc9d79047a78ab41c876eb8e488",
            "5ead3a68629544618b2a289be7f496ef",
            "c575c2180c7946b3b1dd35678b8ff8f2",
            "ccf9678ca8d14c1282b77913f7c9aa5d",
            "2f933546b2ea4c459ab4fde55a35c38e",
            "bfa0ccee5ea74b3ead8d250e47dbb029",
            "40624de7350643ed984f0461e2e05e10",
            "465efd870fbf4f85bfcf56681504bf06",
            "a5c2d192975645f18f9e97d5bc932a76",
            "b3cb130c19194c23a8bde07f00996ab8",
            "efdf8695d8e14017a7b60d7bd2f17cc4",
            "89618c76606d4a07b9df1e1eca410bab",
            "fdef2b3102d243978249cf39c6e44f44",
            "f0b23131f4f44f8caf4a955d2b260577",
            "bb8550e218ee45339ea89baf9f0bb0b8",
            "98839abdccd442b1b5041ac28d562569",
            "614d6c39924a4fa09bc7bc627994fe8a",
            "c0b95141a43543a687d417e9f2e95668",
            "1f50ab00383a4027af426adfc916290a",
            "c09167760f604afbaa0f845859d432dc",
            "c7b4e53a92484950b5e8695b09ea5868",
            "f38fa6e3025c451e9b564d68ad2c49ab",
            "d35ce86ad5854b159e9a01678073d5bf",
            "0992e9ee67c5404fba4809d83e60dc30",
            "8c529d2484a64357bc8c95fc11868c3b",
            "ef9c51ebd87d41fb802940c73303d8ed",
            "a68dad423ed74fcba065545314d108c8",
            "9f4de698c9b041968ff895c4a67477dd",
            "76cc83f00d89423c9b7b8a337cc37a38",
            "da77d320bfdf40b491c8578ff157419e",
            "12954e5013114f42a340689cc1f766e4",
            "abb8cf1849ad4958a3066f646c389d52",
            "2b4835984c0f4c04a6275fb49fa36d27",
            "1a85d3dc2cc94e23a42f113e9f86b28c",
            "5d884158bf9748d6a89b02bf3aa8b8de",
            "6f53db5b798e43d8a229c0dfda82d749",
            "1910eba834d74061a8c1df412d4c5fa8",
            "09aaa53cd1d24420bee982d055afbed3",
            "021724da957248fc81cba220500d46e7",
            "2681a584987040f1b0f3b55978f66c2d",
            "87e18a40456f4076a38c7f8561088a3b",
            "a2caa632b1074e62a774b81cff555192",
            "8c1f653e12134bde83d02b56004ea1e5"
          ]
        },
        "id": "a08cb719-1dd9-4bb9-95a1-56ed72b3f696",
        "outputId": "87b574ae-aa0b-48b3-c0d3-25e0660c76c2"
      },
      "source": [
        "ds_train, ds_test = tfds.load(\n",
        "    name='iris',\n",
        "    split=['train[:80%]', 'train[80%:]'],\n",
        "    as_supervised=True\n",
        ")\n",
        "\n",
        "input_shape = (4, )  \n",
        "batch_size = 10      \n",
        "amount_of_classes = 3"
      ],
      "id": "a08cb719-1dd9-4bb9-95a1-56ed72b3f696",
      "execution_count": 3,
      "outputs": [
        {
          "output_type": "stream",
          "name": "stdout",
          "text": [
            "\u001b[1mDownloading and preparing dataset iris/2.0.0 (download: 4.44 KiB, generated: Unknown size, total: 4.44 KiB) to /root/tensorflow_datasets/iris/2.0.0...\u001b[0m\n"
          ]
        },
        {
          "output_type": "display_data",
          "data": {
            "application/vnd.jupyter.widget-view+json": {
              "model_id": "f36605bf061d47fbb4377d80e2375832",
              "version_minor": 0,
              "version_major": 2
            },
            "text/plain": [
              "Dl Completed...: 0 url [00:00, ? url/s]"
            ]
          },
          "metadata": {}
        },
        {
          "output_type": "display_data",
          "data": {
            "application/vnd.jupyter.widget-view+json": {
              "model_id": "efdf8695d8e14017a7b60d7bd2f17cc4",
              "version_minor": 0,
              "version_major": 2
            },
            "text/plain": [
              "Dl Size...: 0 MiB [00:00, ? MiB/s]"
            ]
          },
          "metadata": {}
        },
        {
          "output_type": "stream",
          "name": "stdout",
          "text": [
            "\n",
            "\n"
          ]
        },
        {
          "output_type": "display_data",
          "data": {
            "application/vnd.jupyter.widget-view+json": {
              "model_id": "f38fa6e3025c451e9b564d68ad2c49ab",
              "version_minor": 0,
              "version_major": 2
            },
            "text/plain": [
              "0 examples [00:00, ? examples/s]"
            ]
          },
          "metadata": {}
        },
        {
          "output_type": "stream",
          "name": "stdout",
          "text": [
            "Shuffling and writing examples to /root/tensorflow_datasets/iris/2.0.0.incompleteN0L3X2/iris-train.tfrecord\n"
          ]
        },
        {
          "output_type": "display_data",
          "data": {
            "application/vnd.jupyter.widget-view+json": {
              "model_id": "2b4835984c0f4c04a6275fb49fa36d27",
              "version_minor": 0,
              "version_major": 2
            },
            "text/plain": [
              "  0%|          | 0/150 [00:00<?, ? examples/s]"
            ]
          },
          "metadata": {}
        },
        {
          "output_type": "stream",
          "name": "stdout",
          "text": [
            "\u001b[1mDataset iris downloaded and prepared to /root/tensorflow_datasets/iris/2.0.0. Subsequent calls will reuse this data.\u001b[0m\n"
          ]
        }
      ]
    },
    {
      "cell_type": "markdown",
      "metadata": {
        "id": "e0815707-fb75-45a7-8581-9f6163364d92"
      },
      "source": [
        "Аналогичным образом преобразуем набор данных с помощью one-hot encoding, перемешаем и разделим на кусочки одинакового размера."
      ],
      "id": "e0815707-fb75-45a7-8581-9f6163364d92"
    },
    {
      "cell_type": "code",
      "metadata": {
        "id": "14bbff72-17b0-4ff8-89a2-c2db9d213b52"
      },
      "source": [
        "def make_one_hot(x, y):\n",
        "    return x, tf.one_hot(y, depth=amount_of_classes)\n",
        "\n",
        "ds_train = (\n",
        "    ds_train\n",
        "    .map(make_one_hot)\n",
        "    .shuffle(len(ds_train))\n",
        "    .batch(batch_size, drop_remainder=True)\n",
        ")\n",
        "    \n",
        "ds_test = (\n",
        "    ds_test\n",
        "    .map(make_one_hot)\n",
        "    .batch(batch_size, drop_remainder=True)\n",
        ")"
      ],
      "id": "14bbff72-17b0-4ff8-89a2-c2db9d213b52",
      "execution_count": 4,
      "outputs": []
    },
    {
      "cell_type": "markdown",
      "metadata": {
        "id": "d81eabd9-6809-4a66-a848-4fc9bd9052ee"
      },
      "source": [
        "Далее создадим модель, чтобы посмотреть на качество при сдандартных значениях. Используем ту же самую модель, что и в предыдущем примере и обучим на протяжении 10 эпох."
      ],
      "id": "d81eabd9-6809-4a66-a848-4fc9bd9052ee"
    },
    {
      "cell_type": "code",
      "metadata": {
        "tags": [],
        "colab": {
          "base_uri": "https://localhost:8080/"
        },
        "id": "957c190b-0b58-4b3c-8138-ff27bc1081e8",
        "outputId": "e06007b3-a7cc-4454-932f-26a2291fa2c3"
      },
      "source": [
        "model = keras.Sequential()\n",
        "model.add(layers.Dense(32, input_shape=input_shape, activation='sigmoid'))\n",
        "model.add(layers.Dense(16, activation='sigmoid'))\n",
        "model.add(layers.Dense(amount_of_classes, activation=activations.softmax))\n",
        "\n",
        "model.compile(\n",
        "    optimizer=optimizers.Adam(learning_rate=0.003),\n",
        "    loss=losses.CategoricalCrossentropy(),\n",
        "    metrics=[metrics.CategoricalAccuracy()]\n",
        ")\n",
        "\n",
        "history = model.fit(ds_train, epochs=10, validation_data=ds_test, verbose=1)"
      ],
      "id": "957c190b-0b58-4b3c-8138-ff27bc1081e8",
      "execution_count": 5,
      "outputs": [
        {
          "output_type": "stream",
          "name": "stdout",
          "text": [
            "Epoch 1/10\n",
            "12/12 [==============================] - 1s 24ms/step - loss: 1.2824 - categorical_accuracy: 0.3333 - val_loss: 1.1204 - val_categorical_accuracy: 0.3333\n",
            "Epoch 2/10\n",
            "12/12 [==============================] - 0s 9ms/step - loss: 1.1305 - categorical_accuracy: 0.3000 - val_loss: 1.0887 - val_categorical_accuracy: 0.3000\n",
            "Epoch 3/10\n",
            "12/12 [==============================] - 0s 9ms/step - loss: 1.0735 - categorical_accuracy: 0.3667 - val_loss: 1.0549 - val_categorical_accuracy: 0.5333\n",
            "Epoch 4/10\n",
            "12/12 [==============================] - 0s 10ms/step - loss: 1.0315 - categorical_accuracy: 0.6667 - val_loss: 1.0098 - val_categorical_accuracy: 0.6333\n",
            "Epoch 5/10\n",
            "12/12 [==============================] - 0s 9ms/step - loss: 0.9918 - categorical_accuracy: 0.6750 - val_loss: 0.9688 - val_categorical_accuracy: 0.6333\n",
            "Epoch 6/10\n",
            "12/12 [==============================] - 0s 10ms/step - loss: 0.9426 - categorical_accuracy: 0.6750 - val_loss: 0.9190 - val_categorical_accuracy: 0.6333\n",
            "Epoch 7/10\n",
            "12/12 [==============================] - 0s 9ms/step - loss: 0.8872 - categorical_accuracy: 0.6750 - val_loss: 0.8658 - val_categorical_accuracy: 0.6333\n",
            "Epoch 8/10\n",
            "12/12 [==============================] - 0s 10ms/step - loss: 0.8276 - categorical_accuracy: 0.6750 - val_loss: 0.8090 - val_categorical_accuracy: 0.6333\n",
            "Epoch 9/10\n",
            "12/12 [==============================] - 0s 10ms/step - loss: 0.7676 - categorical_accuracy: 0.6750 - val_loss: 0.7514 - val_categorical_accuracy: 0.6333\n",
            "Epoch 10/10\n",
            "12/12 [==============================] - 0s 9ms/step - loss: 0.7093 - categorical_accuracy: 0.7750 - val_loss: 0.6934 - val_categorical_accuracy: 0.8667\n"
          ]
        }
      ]
    },
    {
      "cell_type": "markdown",
      "metadata": {
        "id": "5bafa5bb-a508-4221-9630-3700785ea697"
      },
      "source": [
        "Отметьте, какое значение точности на валидационном наборе данных мы получили. Вследствие того, что веса инициируются случайным образом, процесс обучения достаточно стохастичен и случайно можно получить удачный набор весов, который приведет к очень высокой точности с первого раза. Однако, чаще всего точность после подбора гиперпараметров оказывается выше вследствие нахождения более удачного сочетания. Сравните в конце и отметьте, что получилось в вашем случае."
      ],
      "id": "5bafa5bb-a508-4221-9630-3700785ea697"
    },
    {
      "cell_type": "markdown",
      "metadata": {
        "id": "26fcb00d-495f-419b-8bbe-2bc5d43e8783"
      },
      "source": [
        "Для того, чтобы оптимизировать модель, фреймворку Optuna необходимо создать цель оптимизации - функцию, которую фреймворк будет запускать. Выходом функции должно быть одно число, которое необходимо максимизировать или минимизировать.\n",
        "\n",
        "Функция должна быть полностью самостоятельной, все необходимые инициализации следует совершать в ней. Стоит также учитывать, что фреймворк Optuna можно использовать с использованием внешней базы данных и запуская множество процессов, которые будут совершать оптимизацию параллельно, поэтому не стоит использовать глобальные переменные, если они не являются константами.\n",
        "\n",
        "Функция принимает на вход единственный параметр - объект optuna.trial.Trial, который в дальнейшем в ней используется. Давайте инициализируем новую модель нейронной сети в данной функции и дадим фреймворку Optuna оптимизировать количество нейронов в слоях и используемые функции активации. Для этого вместо указания числа нейронов и функции активации указывается то, как этот параметр можно выбирать - с помощью объекта trial. Optuna позволяет выбирать из нескольких видов распределений и разных типов данных, а также указывать категориальное равномерное распределение с заранее заданными объектами, если вам нужно указать несколько доступных вариантов.\n",
        "\n",
        "Для количество нейронов первого слоя укажем возможность выбора любого целого числа в промежутке от 16 до 64х, а второго слоя - от 4 до 16 нейронов. Функции активации в обоих случаях укажем как одну из двух - либо сигмоиду, либо ReLU.\n",
        "\n",
        "Также зададим коэффициент скорости обучения как гиперпараметр и укажем выбор его из равномерного распределения с границами 0.001 и 0.01.\n",
        "\n",
        "Далее в рамках этой же функции обучим модель и финальным результатом обучения укажем последнюю точность на валидационном наборе данных, которая записана в объекте history."
      ],
      "id": "26fcb00d-495f-419b-8bbe-2bc5d43e8783"
    },
    {
      "cell_type": "code",
      "metadata": {
        "id": "4c6c514c-d831-4b66-ad4a-532e04e6c512"
      },
      "source": [
        "def optuna_objective(trial: optuna.trial.Trial):\n",
        "    model = keras.Sequential(\n",
        "        [\n",
        "            layers.Dense(\n",
        "                units=trial.suggest_int('l1_neurons', 16, 64),\n",
        "                input_shape=input_shape,\n",
        "                activation=trial.suggest_categorical('l1_activation', ['sigmoid', 'relu'])\n",
        "            ),\n",
        "            layers.Dense(\n",
        "                units=trial.suggest_int('l2_neurons', 4, 16),\n",
        "                activation=trial.suggest_categorical('l2_activation', ['sigmoid', 'relu'])\n",
        "            ),\n",
        "            layers.Dense(amount_of_classes, activation=activations.softmax)\n",
        "        ]\n",
        "    )\n",
        "    \n",
        "    model.compile(\n",
        "        optimizer=optimizers.Adam(learning_rate=trial.suggest_uniform('lr', 0.001, 0.01)),\n",
        "        loss=losses.CategoricalCrossentropy(),\n",
        "        metrics=[metrics.CategoricalAccuracy()]\n",
        "    )\n",
        "    \n",
        "    history = model.fit(ds_train, epochs=10, validation_data=ds_test, verbose=0)\n",
        "    accuracy = history.history['val_categorical_accuracy'][-1]\n",
        "    return accuracy"
      ],
      "id": "4c6c514c-d831-4b66-ad4a-532e04e6c512",
      "execution_count": null,
      "outputs": []
    },
    {
      "cell_type": "markdown",
      "metadata": {
        "id": "c6dd48da-4ba0-4d04-afb5-900d9006962c"
      },
      "source": [
        "После определения функции оптимизации необходимо создать исследование - т.е. инициализировать специальный объект. В данном случае мы укажем, что хотим максимизировать выход функции."
      ],
      "id": "c6dd48da-4ba0-4d04-afb5-900d9006962c"
    },
    {
      "cell_type": "code",
      "metadata": {
        "id": "fa417d27-f4a1-45c0-821f-b6e0e98fb782",
        "outputId": "36a0b88b-b0a8-496c-aae3-36e10cb1cb3c"
      },
      "source": [
        "study = optuna.create_study(direction='maximize')"
      ],
      "id": "fa417d27-f4a1-45c0-821f-b6e0e98fb782",
      "execution_count": null,
      "outputs": [
        {
          "name": "stderr",
          "output_type": "stream",
          "text": [
            "\u001b[32m[I 2021-08-25 14:03:52,433]\u001b[0m A new study created in memory with name: no-name-27bde880-f456-4d5b-9bac-abf12bfceab5\u001b[0m\n"
          ]
        }
      ]
    },
    {
      "cell_type": "markdown",
      "metadata": {
        "id": "eb2a9147-4699-4875-a8c6-fe00dd17ad0d"
      },
      "source": [
        "И далее запустим процесс оптимизации, указав функцию для оптимизации и количество попыток."
      ],
      "id": "eb2a9147-4699-4875-a8c6-fe00dd17ad0d"
    },
    {
      "cell_type": "code",
      "metadata": {
        "id": "34ef0983-3e8a-434b-8a0f-ec1cd513ad55",
        "outputId": "24022d88-2062-47d8-d803-916495f141e2"
      },
      "source": [
        "study.optimize(optuna_objective, n_trials=30)"
      ],
      "id": "34ef0983-3e8a-434b-8a0f-ec1cd513ad55",
      "execution_count": null,
      "outputs": [
        {
          "name": "stderr",
          "output_type": "stream",
          "text": [
            "\u001b[32m[I 2021-08-25 14:03:54,865]\u001b[0m Trial 0 finished with value: 0.8999999761581421 and parameters: {'l1_neurons': 34, 'l1_activation': 'sigmoid', 'l2_neurons': 15, 'l2_activation': 'relu', 'lr': 0.009611589181367737}. Best is trial 0 with value: 0.8999999761581421.\u001b[0m\n",
            "\u001b[32m[I 2021-08-25 14:03:57,386]\u001b[0m Trial 1 finished with value: 0.8999999761581421 and parameters: {'l1_neurons': 59, 'l1_activation': 'relu', 'l2_neurons': 16, 'l2_activation': 'relu', 'lr': 0.00499632814924884}. Best is trial 0 with value: 0.8999999761581421.\u001b[0m\n",
            "\u001b[32m[I 2021-08-25 14:03:59,578]\u001b[0m Trial 2 finished with value: 0.9666666388511658 and parameters: {'l1_neurons': 18, 'l1_activation': 'sigmoid', 'l2_neurons': 7, 'l2_activation': 'sigmoid', 'lr': 0.00882599249157668}. Best is trial 2 with value: 0.9666666388511658.\u001b[0m\n",
            "\u001b[32m[I 2021-08-25 14:04:01,859]\u001b[0m Trial 3 finished with value: 0.3333333432674408 and parameters: {'l1_neurons': 42, 'l1_activation': 'sigmoid', 'l2_neurons': 9, 'l2_activation': 'relu', 'lr': 0.0031060334614656992}. Best is trial 2 with value: 0.9666666388511658.\u001b[0m\n",
            "\u001b[32m[I 2021-08-25 14:04:03,984]\u001b[0m Trial 4 finished with value: 0.8333333134651184 and parameters: {'l1_neurons': 25, 'l1_activation': 'relu', 'l2_neurons': 14, 'l2_activation': 'relu', 'lr': 0.006710450719858739}. Best is trial 2 with value: 0.9666666388511658.\u001b[0m\n",
            "\u001b[32m[I 2021-08-25 14:04:06,207]\u001b[0m Trial 5 finished with value: 0.9333333373069763 and parameters: {'l1_neurons': 31, 'l1_activation': 'relu', 'l2_neurons': 13, 'l2_activation': 'sigmoid', 'lr': 0.008565970214481342}. Best is trial 2 with value: 0.9666666388511658.\u001b[0m\n",
            "\u001b[32m[I 2021-08-25 14:04:08,451]\u001b[0m Trial 6 finished with value: 0.8999999761581421 and parameters: {'l1_neurons': 33, 'l1_activation': 'relu', 'l2_neurons': 14, 'l2_activation': 'sigmoid', 'lr': 0.0027377143858675597}. Best is trial 2 with value: 0.9666666388511658.\u001b[0m\n",
            "\u001b[32m[I 2021-08-25 14:04:10,944]\u001b[0m Trial 7 finished with value: 0.9333333373069763 and parameters: {'l1_neurons': 38, 'l1_activation': 'relu', 'l2_neurons': 14, 'l2_activation': 'relu', 'lr': 0.007072284847672051}. Best is trial 2 with value: 0.9666666388511658.\u001b[0m\n",
            "\u001b[32m[I 2021-08-25 14:04:13,087]\u001b[0m Trial 8 finished with value: 0.8999999761581421 and parameters: {'l1_neurons': 50, 'l1_activation': 'sigmoid', 'l2_neurons': 16, 'l2_activation': 'relu', 'lr': 0.00966978512319154}. Best is trial 2 with value: 0.9666666388511658.\u001b[0m\n",
            "\u001b[32m[I 2021-08-25 14:04:15,199]\u001b[0m Trial 9 finished with value: 0.8999999761581421 and parameters: {'l1_neurons': 20, 'l1_activation': 'relu', 'l2_neurons': 14, 'l2_activation': 'sigmoid', 'lr': 0.005288287059467553}. Best is trial 2 with value: 0.9666666388511658.\u001b[0m\n",
            "\u001b[32m[I 2021-08-25 14:04:17,379]\u001b[0m Trial 10 finished with value: 0.3333333432674408 and parameters: {'l1_neurons': 18, 'l1_activation': 'sigmoid', 'l2_neurons': 4, 'l2_activation': 'sigmoid', 'lr': 0.0012785473433735055}. Best is trial 2 with value: 0.9666666388511658.\u001b[0m\n",
            "\u001b[32m[I 2021-08-25 14:04:19,640]\u001b[0m Trial 11 finished with value: 0.8999999761581421 and parameters: {'l1_neurons': 27, 'l1_activation': 'sigmoid', 'l2_neurons': 9, 'l2_activation': 'sigmoid', 'lr': 0.008071554965744599}. Best is trial 2 with value: 0.9666666388511658.\u001b[0m\n",
            "\u001b[32m[I 2021-08-25 14:04:21,843]\u001b[0m Trial 12 finished with value: 0.8999999761581421 and parameters: {'l1_neurons': 16, 'l1_activation': 'relu', 'l2_neurons': 5, 'l2_activation': 'sigmoid', 'lr': 0.008207102900445228}. Best is trial 2 with value: 0.9666666388511658.\u001b[0m\n",
            "\u001b[32m[I 2021-08-25 14:04:24,421]\u001b[0m Trial 13 finished with value: 0.8999999761581421 and parameters: {'l1_neurons': 27, 'l1_activation': 'sigmoid', 'l2_neurons': 11, 'l2_activation': 'sigmoid', 'lr': 0.008121023906908015}. Best is trial 2 with value: 0.9666666388511658.\u001b[0m\n",
            "\u001b[32m[I 2021-08-25 14:04:26,807]\u001b[0m Trial 14 finished with value: 0.9333333373069763 and parameters: {'l1_neurons': 43, 'l1_activation': 'relu', 'l2_neurons': 11, 'l2_activation': 'sigmoid', 'lr': 0.009984105388298902}. Best is trial 2 with value: 0.9666666388511658.\u001b[0m\n",
            "\u001b[32m[I 2021-08-25 14:04:29,317]\u001b[0m Trial 15 finished with value: 0.8666666746139526 and parameters: {'l1_neurons': 23, 'l1_activation': 'sigmoid', 'l2_neurons': 7, 'l2_activation': 'sigmoid', 'lr': 0.006259509044385989}. Best is trial 2 with value: 0.9666666388511658.\u001b[0m\n",
            "\u001b[32m[I 2021-08-25 14:04:31,639]\u001b[0m Trial 16 finished with value: 0.9333333373069763 and parameters: {'l1_neurons': 31, 'l1_activation': 'sigmoid', 'l2_neurons': 7, 'l2_activation': 'sigmoid', 'lr': 0.008539141156988951}. Best is trial 2 with value: 0.9666666388511658.\u001b[0m\n",
            "\u001b[32m[I 2021-08-25 14:04:33,961]\u001b[0m Trial 17 finished with value: 0.699999988079071 and parameters: {'l1_neurons': 64, 'l1_activation': 'sigmoid', 'l2_neurons': 7, 'l2_activation': 'sigmoid', 'lr': 0.003954771475045945}. Best is trial 2 with value: 0.9666666388511658.\u001b[0m\n",
            "\u001b[32m[I 2021-08-25 14:04:36,506]\u001b[0m Trial 18 finished with value: 0.9333333373069763 and parameters: {'l1_neurons': 47, 'l1_activation': 'relu', 'l2_neurons': 11, 'l2_activation': 'sigmoid', 'lr': 0.00960504510619304}. Best is trial 2 with value: 0.9666666388511658.\u001b[0m\n",
            "\u001b[32m[I 2021-08-25 14:04:38,767]\u001b[0m Trial 19 finished with value: 0.9666666388511658 and parameters: {'l1_neurons': 51, 'l1_activation': 'relu', 'l2_neurons': 12, 'l2_activation': 'sigmoid', 'lr': 0.007145588093500925}. Best is trial 2 with value: 0.9666666388511658.\u001b[0m\n",
            "\u001b[32m[I 2021-08-25 14:04:41,009]\u001b[0m Trial 20 finished with value: 0.8999999761581421 and parameters: {'l1_neurons': 55, 'l1_activation': 'relu', 'l2_neurons': 9, 'l2_activation': 'sigmoid', 'lr': 0.007503587185478528}. Best is trial 2 with value: 0.9666666388511658.\u001b[0m\n",
            "\u001b[32m[I 2021-08-25 14:04:43,261]\u001b[0m Trial 21 finished with value: 0.9333333373069763 and parameters: {'l1_neurons': 50, 'l1_activation': 'relu', 'l2_neurons': 12, 'l2_activation': 'sigmoid', 'lr': 0.009102272144873089}. Best is trial 2 with value: 0.9666666388511658.\u001b[0m\n",
            "\u001b[32m[I 2021-08-25 14:04:45,604]\u001b[0m Trial 22 finished with value: 0.9333333373069763 and parameters: {'l1_neurons': 49, 'l1_activation': 'relu', 'l2_neurons': 12, 'l2_activation': 'sigmoid', 'lr': 0.008864313135704488}. Best is trial 2 with value: 0.9666666388511658.\u001b[0m\n",
            "\u001b[32m[I 2021-08-25 14:04:47,835]\u001b[0m Trial 23 finished with value: 0.9333333373069763 and parameters: {'l1_neurons': 55, 'l1_activation': 'relu', 'l2_neurons': 12, 'l2_activation': 'sigmoid', 'lr': 0.006141828277021393}. Best is trial 2 with value: 0.9666666388511658.\u001b[0m\n",
            "\u001b[32m[I 2021-08-25 14:04:50,507]\u001b[0m Trial 24 finished with value: 0.8999999761581421 and parameters: {'l1_neurons': 56, 'l1_activation': 'relu', 'l2_neurons': 10, 'l2_activation': 'sigmoid', 'lr': 0.006010179530218574}. Best is trial 2 with value: 0.9666666388511658.\u001b[0m\n",
            "\u001b[32m[I 2021-08-25 14:04:52,675]\u001b[0m Trial 25 finished with value: 0.9333333373069763 and parameters: {'l1_neurons': 46, 'l1_activation': 'relu', 'l2_neurons': 8, 'l2_activation': 'sigmoid', 'lr': 0.0074153760583262705}. Best is trial 2 with value: 0.9666666388511658.\u001b[0m\n",
            "\u001b[32m[I 2021-08-25 14:04:54,818]\u001b[0m Trial 26 finished with value: 0.8333333134651184 and parameters: {'l1_neurons': 46, 'l1_activation': 'sigmoid', 'l2_neurons': 8, 'l2_activation': 'sigmoid', 'lr': 0.007396969084023678}. Best is trial 2 with value: 0.9666666388511658.\u001b[0m\n",
            "\u001b[32m[I 2021-08-25 14:04:57,021]\u001b[0m Trial 27 finished with value: 0.9333333373069763 and parameters: {'l1_neurons': 53, 'l1_activation': 'relu', 'l2_neurons': 12, 'l2_activation': 'sigmoid', 'lr': 0.004591287564352488}. Best is trial 2 with value: 0.9666666388511658.\u001b[0m\n",
            "\u001b[32m[I 2021-08-25 14:04:59,321]\u001b[0m Trial 28 finished with value: 0.7666666507720947 and parameters: {'l1_neurons': 64, 'l1_activation': 'sigmoid', 'l2_neurons': 5, 'l2_activation': 'sigmoid', 'lr': 0.00461050390138885}. Best is trial 2 with value: 0.9666666388511658.\u001b[0m\n",
            "\u001b[32m[I 2021-08-25 14:05:01,516]\u001b[0m Trial 29 finished with value: 0.9666666388511658 and parameters: {'l1_neurons': 40, 'l1_activation': 'sigmoid', 'l2_neurons': 10, 'l2_activation': 'relu', 'lr': 0.009734290120572373}. Best is trial 2 with value: 0.9666666388511658.\u001b[0m\n"
          ]
        }
      ]
    },
    {
      "cell_type": "markdown",
      "metadata": {
        "id": "4b7abb70-6718-4b6b-a673-d46d48d73cc2"
      },
      "source": [
        "После этого в объекте study будет храниться информация о лучшей попытке и использованных параметрах. Мы можем выбрать эти параметры как оптимальные и использовать в дальнейшем для нашей модели."
      ],
      "id": "4b7abb70-6718-4b6b-a673-d46d48d73cc2"
    },
    {
      "cell_type": "code",
      "metadata": {
        "id": "3ceee2f6-d49d-4882-bf81-c2d93b620b82",
        "outputId": "efe305b0-42f6-4067-e293-eb960928317f"
      },
      "source": [
        "study.best_params"
      ],
      "id": "3ceee2f6-d49d-4882-bf81-c2d93b620b82",
      "execution_count": null,
      "outputs": [
        {
          "data": {
            "text/plain": [
              "{'l1_neurons': 18,\n",
              " 'l1_activation': 'sigmoid',\n",
              " 'l2_neurons': 7,\n",
              " 'l2_activation': 'sigmoid',\n",
              " 'lr': 0.00882599249157668}"
            ]
          },
          "execution_count": 9,
          "metadata": {},
          "output_type": "execute_result"
        }
      ]
    },
    {
      "cell_type": "markdown",
      "metadata": {
        "id": "e62a580d-28dc-4da3-a31e-902a4086532f"
      },
      "source": [
        "Фреймворк Optuna обладает достаточно большими возможностями, не рассмотренными в данной лекции, которые могут вам пригодиться. Возможно, самый нужный из них - это возможность использования внешнего хранилища данных, такого как база данных MySQL или SQLite, что позволит вам запустить несколько процессов оптимизации параллельно, а также останавливать и продолжать процесс поиска гиперпараметров."
      ],
      "id": "e62a580d-28dc-4da3-a31e-902a4086532f"
    }
  ]
}