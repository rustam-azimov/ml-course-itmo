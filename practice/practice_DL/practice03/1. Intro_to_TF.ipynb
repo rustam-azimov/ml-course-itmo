{
  "nbformat": 4,
  "nbformat_minor": 0,
  "metadata": {
    "colab": {
      "name": "Знакомство с TF.ipynb",
      "provenance": []
    },
    "kernelspec": {
      "name": "python3",
      "display_name": "Python 3"
    },
    "language_info": {
      "name": "python"
    }
  },
  "cells": [
    {
      "cell_type": "markdown",
      "metadata": {
        "id": "NCNbIq8WA0c_"
      },
      "source": [
        "В этом блокноте мы обучим простейшую модель линейной регрессии, используя TF"
      ]
    },
    {
      "cell_type": "code",
      "metadata": {
        "id": "1dyjL96nP5-Y"
      },
      "source": [
        "import tensorflow as tf\n",
        "import numpy as np\n",
        "import matplotlib.pyplot as plt"
      ],
      "execution_count": null,
      "outputs": []
    },
    {
      "cell_type": "markdown",
      "metadata": {
        "id": "WksJovBvA7tp"
      },
      "source": [
        "Зададим количество объектов, размер батча для шага оптимизатора, количество шагов"
      ]
    },
    {
      "cell_type": "code",
      "metadata": {
        "id": "-dxev6sTRFUn"
      },
      "source": [
        "n_samples, batch_size, num_steps = 1000, 100, 20000"
      ],
      "execution_count": null,
      "outputs": []
    },
    {
      "cell_type": "markdown",
      "metadata": {
        "id": "1CU-LW-hBFez"
      },
      "source": [
        "Сгенерируем набор данных по закону\n",
        "$$\n",
        "y = 2x + 1 + \\varepsilon, \\quad \\varepsilon \\sim \\mathsf N_{0, 2}, \\quad x \\in \\mathsf U_{1, 10}.\n",
        "$$\n",
        "Последние переменные детерменированы, но сгенерированы случайным образом"
      ]
    },
    {
      "cell_type": "code",
      "metadata": {
        "id": "3qEkV3F7RZrY"
      },
      "source": [
        "X_data = np.random.uniform(1, 10, (n_samples, 1))\n",
        "y_data = 2 * X_data + 1 + np.random.normal(0, 2, (n_samples, 1))"
      ],
      "execution_count": null,
      "outputs": []
    },
    {
      "cell_type": "code",
      "metadata": {
        "colab": {
          "base_uri": "https://localhost:8080/",
          "height": 282
        },
        "id": "C9rM1ONW94gR",
        "outputId": "27346ee3-4837-4b89-df07-85877495f8d4"
      },
      "source": [
        "plt.scatter(X_data, y_data)"
      ],
      "execution_count": null,
      "outputs": [
        {
          "output_type": "execute_result",
          "data": {
            "text/plain": [
              "<matplotlib.collections.PathCollection at 0x7fc62113ec10>"
            ]
          },
          "metadata": {},
          "execution_count": 4
        },
        {
          "output_type": "display_data",
          "data": {
            "image/png": "[encoded data removed]",
            "text/plain": [
              "<Figure size 432x288 with 1 Axes>"
            ]
          },
          "metadata": {
            "needs_background": "light"
          }
        }
      ]
    },
    {
      "cell_type": "markdown",
      "metadata": {
        "id": "XOQIFDCWBjGj"
      },
      "source": [
        "Определим случайным образом оцениваемы параметры $k, b$ линии регрессии\n",
        "$$\n",
        "y = kx + b\n",
        "$$"
      ]
    },
    {
      "cell_type": "code",
      "metadata": {
        "id": "IWEvDJBRU9LF"
      },
      "source": [
        "k = tf.Variable(tf.random.normal([1, 1], mean = 0, stddev = 1), name = 'slope')\n",
        "b = tf.Variable(tf.random.normal([1, 1], mean = 0, stddev = 1), name = 'biases')\n",
        "# Создаем тензоры для дальнейшей работы с tf\n",
        "X_data = tf.constant(X_data, dtype = tf.float32)\n",
        "y_data = tf.constant(y_data, dtype = tf.float32)\n",
        "# Сформируем выборки для обучения\n",
        "indices = tf.constant(np.random.choice(n_samples, batch_size), shape = (batch_size, 1))\n",
        "X_batch, y_batch = tf.gather_nd(X_data, indices), tf.gather_nd(y_data, indices)"
      ],
      "execution_count": null,
      "outputs": []
    },
    {
      "cell_type": "markdown",
      "metadata": {
        "id": "g_lyjtpHCHaS"
      },
      "source": [
        "Определим функцию для предсказания"
      ]
    },
    {
      "cell_type": "code",
      "metadata": {
        "id": "Z7ryM7O6dZtU"
      },
      "source": [
        "@tf.function\n",
        "def y_pred(X):\n",
        "  return tf.add(tf.matmul(X, k), b)"
      ],
      "execution_count": null,
      "outputs": []
    },
    {
      "cell_type": "markdown",
      "metadata": {
        "id": "qIhKcqEpCLQ-"
      },
      "source": [
        "Определим функцию потерь: МНК"
      ]
    },
    {
      "cell_type": "code",
      "metadata": {
        "id": "cQZDGpyl7idF"
      },
      "source": [
        "@tf.function\n",
        "def loss():\n",
        "  return tf.reduce_sum(tf.square(y_batch - y_pred(X_batch)))"
      ],
      "execution_count": null,
      "outputs": []
    },
    {
      "cell_type": "markdown",
      "metadata": {
        "id": "Q5ghWhBwCWpS"
      },
      "source": [
        "Выберем некий оптимизатор, определим переменные, которые будем обучать"
      ]
    },
    {
      "cell_type": "code",
      "metadata": {
        "id": "5M0gu_TR7381"
      },
      "source": [
        "optimizer = tf.optimizers.Adam(0.01)\n",
        "trainable_vars = [k, b]"
      ],
      "execution_count": null,
      "outputs": []
    },
    {
      "cell_type": "markdown",
      "metadata": {
        "id": "mfnpVSCCCe37"
      },
      "source": [
        "Обучим модель"
      ]
    },
    {
      "cell_type": "code",
      "metadata": {
        "colab": {
          "base_uri": "https://localhost:8080/"
        },
        "id": "e03qxgfXAL8f",
        "outputId": "d0ddc7e9-a9d0-4030-82a9-0098c9535d29"
      },
      "source": [
        "display_step = 100\n",
        "for i in range(num_steps):\n",
        "  indices = tf.constant(np.random.choice(n_samples, batch_size), shape = (batch_size, 1))\n",
        "  X_batch, y_batch = tf.gather_nd(X_data, indices), tf.gather_nd(y_data, indices)\n",
        "  optimizer.minimize(loss, trainable_vars)\n",
        "  if ((i + 1) % display_step == 0):\n",
        "    print('Epoch: ' + str(i) + ' k: ' + str(k) + ' b: ' + str(b))"
      ],
      "execution_count": null,
      "outputs": [
        {
          "output_type": "stream",
          "name": "stdout",
          "text": [
            "Epoch: 99 k: <tf.Variable 'slope:0' shape=(1, 1) dtype=float32, numpy=array([[1.7583927]], dtype=float32)> b: <tf.Variable 'biases:0' shape=(1, 1) dtype=float32, numpy=array([[1.0560147]], dtype=float32)>\n",
            "Epoch: 199 k: <tf.Variable 'slope:0' shape=(1, 1) dtype=float32, numpy=array([[2.0216188]], dtype=float32)> b: <tf.Variable 'biases:0' shape=(1, 1) dtype=float32, numpy=array([[1.3170702]], dtype=float32)>\n",
            "Epoch: 299 k: <tf.Variable 'slope:0' shape=(1, 1) dtype=float32, numpy=array([[2.0534358]], dtype=float32)> b: <tf.Variable 'biases:0' shape=(1, 1) dtype=float32, numpy=array([[1.345447]], dtype=float32)>\n",
            "Epoch: 399 k: <tf.Variable 'slope:0' shape=(1, 1) dtype=float32, numpy=array([[2.055097]], dtype=float32)> b: <tf.Variable 'biases:0' shape=(1, 1) dtype=float32, numpy=array([[1.3431095]], dtype=float32)>\n",
            "Epoch: 499 k: <tf.Variable 'slope:0' shape=(1, 1) dtype=float32, numpy=array([[2.0556695]], dtype=float32)> b: <tf.Variable 'biases:0' shape=(1, 1) dtype=float32, numpy=array([[1.3393779]], dtype=float32)>\n",
            "Epoch: 599 k: <tf.Variable 'slope:0' shape=(1, 1) dtype=float32, numpy=array([[2.056254]], dtype=float32)> b: <tf.Variable 'biases:0' shape=(1, 1) dtype=float32, numpy=array([[1.3355144]], dtype=float32)>\n",
            "Epoch: 699 k: <tf.Variable 'slope:0' shape=(1, 1) dtype=float32, numpy=array([[2.0568407]], dtype=float32)> b: <tf.Variable 'biases:0' shape=(1, 1) dtype=float32, numpy=array([[1.3316272]], dtype=float32)>\n",
            "Epoch: 799 k: <tf.Variable 'slope:0' shape=(1, 1) dtype=float32, numpy=array([[2.0574152]], dtype=float32)> b: <tf.Variable 'biases:0' shape=(1, 1) dtype=float32, numpy=array([[1.3278189]], dtype=float32)>\n",
            "Epoch: 899 k: <tf.Variable 'slope:0' shape=(1, 1) dtype=float32, numpy=array([[2.0579712]], dtype=float32)> b: <tf.Variable 'biases:0' shape=(1, 1) dtype=float32, numpy=array([[1.3241525]], dtype=float32)>\n",
            "Epoch: 999 k: <tf.Variable 'slope:0' shape=(1, 1) dtype=float32, numpy=array([[2.0584955]], dtype=float32)> b: <tf.Variable 'biases:0' shape=(1, 1) dtype=float32, numpy=array([[1.3206872]], dtype=float32)>\n",
            "Epoch: 1099 k: <tf.Variable 'slope:0' shape=(1, 1) dtype=float32, numpy=array([[2.0589833]], dtype=float32)> b: <tf.Variable 'biases:0' shape=(1, 1) dtype=float32, numpy=array([[1.3174717]], dtype=float32)>\n",
            "Epoch: 1199 k: <tf.Variable 'slope:0' shape=(1, 1) dtype=float32, numpy=array([[2.059427]], dtype=float32)> b: <tf.Variable 'biases:0' shape=(1, 1) dtype=float32, numpy=array([[1.3145356]], dtype=float32)>\n",
            "Epoch: 1299 k: <tf.Variable 'slope:0' shape=(1, 1) dtype=float32, numpy=array([[2.059826]], dtype=float32)> b: <tf.Variable 'biases:0' shape=(1, 1) dtype=float32, numpy=array([[1.3118984]], dtype=float32)>\n",
            "Epoch: 1399 k: <tf.Variable 'slope:0' shape=(1, 1) dtype=float32, numpy=array([[2.0601785]], dtype=float32)> b: <tf.Variable 'biases:0' shape=(1, 1) dtype=float32, numpy=array([[1.309568]], dtype=float32)>\n",
            "Epoch: 1499 k: <tf.Variable 'slope:0' shape=(1, 1) dtype=float32, numpy=array([[2.060485]], dtype=float32)> b: <tf.Variable 'biases:0' shape=(1, 1) dtype=float32, numpy=array([[1.307542]], dtype=float32)>\n",
            "Epoch: 1599 k: <tf.Variable 'slope:0' shape=(1, 1) dtype=float32, numpy=array([[2.0607471]], dtype=float32)> b: <tf.Variable 'biases:0' shape=(1, 1) dtype=float32, numpy=array([[1.3058088]], dtype=float32)>\n",
            "Epoch: 1699 k: <tf.Variable 'slope:0' shape=(1, 1) dtype=float32, numpy=array([[2.0609689]], dtype=float32)> b: <tf.Variable 'biases:0' shape=(1, 1) dtype=float32, numpy=array([[1.3043519]], dtype=float32)>\n",
            "Epoch: 1799 k: <tf.Variable 'slope:0' shape=(1, 1) dtype=float32, numpy=array([[2.0611496]], dtype=float32)> b: <tf.Variable 'biases:0' shape=(1, 1) dtype=float32, numpy=array([[1.3031464]], dtype=float32)>\n",
            "Epoch: 1899 k: <tf.Variable 'slope:0' shape=(1, 1) dtype=float32, numpy=array([[2.0612996]], dtype=float32)> b: <tf.Variable 'biases:0' shape=(1, 1) dtype=float32, numpy=array([[1.3021679]], dtype=float32)>\n",
            "Epoch: 1999 k: <tf.Variable 'slope:0' shape=(1, 1) dtype=float32, numpy=array([[2.061417]], dtype=float32)> b: <tf.Variable 'biases:0' shape=(1, 1) dtype=float32, numpy=array([[1.3013834]], dtype=float32)>\n",
            "Epoch: 2099 k: <tf.Variable 'slope:0' shape=(1, 1) dtype=float32, numpy=array([[2.0615106]], dtype=float32)> b: <tf.Variable 'biases:0' shape=(1, 1) dtype=float32, numpy=array([[1.3007694]], dtype=float32)>\n",
            "Epoch: 2199 k: <tf.Variable 'slope:0' shape=(1, 1) dtype=float32, numpy=array([[2.0615819]], dtype=float32)> b: <tf.Variable 'biases:0' shape=(1, 1) dtype=float32, numpy=array([[1.3002973]], dtype=float32)>\n",
            "Epoch: 2299 k: <tf.Variable 'slope:0' shape=(1, 1) dtype=float32, numpy=array([[2.0616353]], dtype=float32)> b: <tf.Variable 'biases:0' shape=(1, 1) dtype=float32, numpy=array([[1.2999414]], dtype=float32)>\n",
            "Epoch: 2399 k: <tf.Variable 'slope:0' shape=(1, 1) dtype=float32, numpy=array([[2.0616763]], dtype=float32)> b: <tf.Variable 'biases:0' shape=(1, 1) dtype=float32, numpy=array([[1.2996738]], dtype=float32)>\n",
            "Epoch: 2499 k: <tf.Variable 'slope:0' shape=(1, 1) dtype=float32, numpy=array([[2.0617042]], dtype=float32)> b: <tf.Variable 'biases:0' shape=(1, 1) dtype=float32, numpy=array([[1.2994858]], dtype=float32)>\n",
            "Epoch: 2599 k: <tf.Variable 'slope:0' shape=(1, 1) dtype=float32, numpy=array([[2.061726]], dtype=float32)> b: <tf.Variable 'biases:0' shape=(1, 1) dtype=float32, numpy=array([[1.2993479]], dtype=float32)>\n",
            "Epoch: 2699 k: <tf.Variable 'slope:0' shape=(1, 1) dtype=float32, numpy=array([[2.0617406]], dtype=float32)> b: <tf.Variable 'biases:0' shape=(1, 1) dtype=float32, numpy=array([[1.2992507]], dtype=float32)>\n",
            "Epoch: 2799 k: <tf.Variable 'slope:0' shape=(1, 1) dtype=float32, numpy=array([[2.0617495]], dtype=float32)> b: <tf.Variable 'biases:0' shape=(1, 1) dtype=float32, numpy=array([[1.2991899]], dtype=float32)>\n",
            "Epoch: 2899 k: <tf.Variable 'slope:0' shape=(1, 1) dtype=float32, numpy=array([[2.0617552]], dtype=float32)> b: <tf.Variable 'biases:0' shape=(1, 1) dtype=float32, numpy=array([[1.2991511]], dtype=float32)>\n",
            "Epoch: 2999 k: <tf.Variable 'slope:0' shape=(1, 1) dtype=float32, numpy=array([[2.0617585]], dtype=float32)> b: <tf.Variable 'biases:0' shape=(1, 1) dtype=float32, numpy=array([[1.2991275]], dtype=float32)>\n",
            "Epoch: 3099 k: <tf.Variable 'slope:0' shape=(1, 1) dtype=float32, numpy=array([[2.0617604]], dtype=float32)> b: <tf.Variable 'biases:0' shape=(1, 1) dtype=float32, numpy=array([[1.2991155]], dtype=float32)>\n",
            "Epoch: 3199 k: <tf.Variable 'slope:0' shape=(1, 1) dtype=float32, numpy=array([[2.061762]], dtype=float32)> b: <tf.Variable 'biases:0' shape=(1, 1) dtype=float32, numpy=array([[1.2991054]], dtype=float32)>\n",
            "Epoch: 3299 k: <tf.Variable 'slope:0' shape=(1, 1) dtype=float32, numpy=array([[2.061762]], dtype=float32)> b: <tf.Variable 'biases:0' shape=(1, 1) dtype=float32, numpy=array([[1.2991045]], dtype=float32)>\n",
            "Epoch: 3399 k: <tf.Variable 'slope:0' shape=(1, 1) dtype=float32, numpy=array([[2.061762]], dtype=float32)> b: <tf.Variable 'biases:0' shape=(1, 1) dtype=float32, numpy=array([[1.2991045]], dtype=float32)>\n",
            "Epoch: 3499 k: <tf.Variable 'slope:0' shape=(1, 1) dtype=float32, numpy=array([[2.0617628]], dtype=float32)> b: <tf.Variable 'biases:0' shape=(1, 1) dtype=float32, numpy=array([[1.2991002]], dtype=float32)>\n",
            "Epoch: 3599 k: <tf.Variable 'slope:0' shape=(1, 1) dtype=float32, numpy=array([[2.0617628]], dtype=float32)> b: <tf.Variable 'biases:0' shape=(1, 1) dtype=float32, numpy=array([[1.2991002]], dtype=float32)>\n",
            "Epoch: 3699 k: <tf.Variable 'slope:0' shape=(1, 1) dtype=float32, numpy=array([[2.0617628]], dtype=float32)> b: <tf.Variable 'biases:0' shape=(1, 1) dtype=float32, numpy=array([[1.2991002]], dtype=float32)>\n",
            "Epoch: 3799 k: <tf.Variable 'slope:0' shape=(1, 1) dtype=float32, numpy=array([[2.061763]], dtype=float32)> b: <tf.Variable 'biases:0' shape=(1, 1) dtype=float32, numpy=array([[1.2990991]], dtype=float32)>\n",
            "Epoch: 3899 k: <tf.Variable 'slope:0' shape=(1, 1) dtype=float32, numpy=array([[2.0617635]], dtype=float32)> b: <tf.Variable 'biases:0' shape=(1, 1) dtype=float32, numpy=array([[1.2990973]], dtype=float32)>\n",
            "Epoch: 3999 k: <tf.Variable 'slope:0' shape=(1, 1) dtype=float32, numpy=array([[2.0617638]], dtype=float32)> b: <tf.Variable 'biases:0' shape=(1, 1) dtype=float32, numpy=array([[1.2990947]], dtype=float32)>\n",
            "Epoch: 4099 k: <tf.Variable 'slope:0' shape=(1, 1) dtype=float32, numpy=array([[2.0617638]], dtype=float32)> b: <tf.Variable 'biases:0' shape=(1, 1) dtype=float32, numpy=array([[1.2990947]], dtype=float32)>\n",
            "Epoch: 4199 k: <tf.Variable 'slope:0' shape=(1, 1) dtype=float32, numpy=array([[2.0617638]], dtype=float32)> b: <tf.Variable 'biases:0' shape=(1, 1) dtype=float32, numpy=array([[1.2990947]], dtype=float32)>\n",
            "Epoch: 4299 k: <tf.Variable 'slope:0' shape=(1, 1) dtype=float32, numpy=array([[2.0617638]], dtype=float32)> b: <tf.Variable 'biases:0' shape=(1, 1) dtype=float32, numpy=array([[1.2990947]], dtype=float32)>\n",
            "Epoch: 4399 k: <tf.Variable 'slope:0' shape=(1, 1) dtype=float32, numpy=array([[2.0617638]], dtype=float32)> b: <tf.Variable 'biases:0' shape=(1, 1) dtype=float32, numpy=array([[1.2990947]], dtype=float32)>\n",
            "Epoch: 4499 k: <tf.Variable 'slope:0' shape=(1, 1) dtype=float32, numpy=array([[2.0617638]], dtype=float32)> b: <tf.Variable 'biases:0' shape=(1, 1) dtype=float32, numpy=array([[1.2990947]], dtype=float32)>\n",
            "Epoch: 4599 k: <tf.Variable 'slope:0' shape=(1, 1) dtype=float32, numpy=array([[2.0617647]], dtype=float32)> b: <tf.Variable 'biases:0' shape=(1, 1) dtype=float32, numpy=array([[1.2990901]], dtype=float32)>\n",
            "Epoch: 4699 k: <tf.Variable 'slope:0' shape=(1, 1) dtype=float32, numpy=array([[2.0617647]], dtype=float32)> b: <tf.Variable 'biases:0' shape=(1, 1) dtype=float32, numpy=array([[1.2990891]], dtype=float32)>\n",
            "Epoch: 4799 k: <tf.Variable 'slope:0' shape=(1, 1) dtype=float32, numpy=array([[2.0617647]], dtype=float32)> b: <tf.Variable 'biases:0' shape=(1, 1) dtype=float32, numpy=array([[1.2990891]], dtype=float32)>\n",
            "Epoch: 4899 k: <tf.Variable 'slope:0' shape=(1, 1) dtype=float32, numpy=array([[2.0617647]], dtype=float32)> b: <tf.Variable 'biases:0' shape=(1, 1) dtype=float32, numpy=array([[1.2990891]], dtype=float32)>\n",
            "Epoch: 4999 k: <tf.Variable 'slope:0' shape=(1, 1) dtype=float32, numpy=array([[2.0617647]], dtype=float32)> b: <tf.Variable 'biases:0' shape=(1, 1) dtype=float32, numpy=array([[1.2990891]], dtype=float32)>\n",
            "Epoch: 5099 k: <tf.Variable 'slope:0' shape=(1, 1) dtype=float32, numpy=array([[2.0617647]], dtype=float32)> b: <tf.Variable 'biases:0' shape=(1, 1) dtype=float32, numpy=array([[1.2990891]], dtype=float32)>\n",
            "Epoch: 5199 k: <tf.Variable 'slope:0' shape=(1, 1) dtype=float32, numpy=array([[2.0617647]], dtype=float32)> b: <tf.Variable 'biases:0' shape=(1, 1) dtype=float32, numpy=array([[1.2990891]], dtype=float32)>\n",
            "Epoch: 5299 k: <tf.Variable 'slope:0' shape=(1, 1) dtype=float32, numpy=array([[2.0617647]], dtype=float32)> b: <tf.Variable 'biases:0' shape=(1, 1) dtype=float32, numpy=array([[1.2990891]], dtype=float32)>\n",
            "Epoch: 5399 k: <tf.Variable 'slope:0' shape=(1, 1) dtype=float32, numpy=array([[2.0617647]], dtype=float32)> b: <tf.Variable 'biases:0' shape=(1, 1) dtype=float32, numpy=array([[1.2990891]], dtype=float32)>\n",
            "Epoch: 5499 k: <tf.Variable 'slope:0' shape=(1, 1) dtype=float32, numpy=array([[2.0617652]], dtype=float32)> b: <tf.Variable 'biases:0' shape=(1, 1) dtype=float32, numpy=array([[1.2990861]], dtype=float32)>\n",
            "Epoch: 5599 k: <tf.Variable 'slope:0' shape=(1, 1) dtype=float32, numpy=array([[2.0617654]], dtype=float32)> b: <tf.Variable 'biases:0' shape=(1, 1) dtype=float32, numpy=array([[1.2990848]], dtype=float32)>\n",
            "Epoch: 5699 k: <tf.Variable 'slope:0' shape=(1, 1) dtype=float32, numpy=array([[2.0617654]], dtype=float32)> b: <tf.Variable 'biases:0' shape=(1, 1) dtype=float32, numpy=array([[1.2990848]], dtype=float32)>\n",
            "Epoch: 5799 k: <tf.Variable 'slope:0' shape=(1, 1) dtype=float32, numpy=array([[2.0617654]], dtype=float32)> b: <tf.Variable 'biases:0' shape=(1, 1) dtype=float32, numpy=array([[1.2990848]], dtype=float32)>\n",
            "Epoch: 5899 k: <tf.Variable 'slope:0' shape=(1, 1) dtype=float32, numpy=array([[2.0617654]], dtype=float32)> b: <tf.Variable 'biases:0' shape=(1, 1) dtype=float32, numpy=array([[1.2990848]], dtype=float32)>\n",
            "Epoch: 5999 k: <tf.Variable 'slope:0' shape=(1, 1) dtype=float32, numpy=array([[2.0617654]], dtype=float32)> b: <tf.Variable 'biases:0' shape=(1, 1) dtype=float32, numpy=array([[1.2990848]], dtype=float32)>\n",
            "Epoch: 6099 k: <tf.Variable 'slope:0' shape=(1, 1) dtype=float32, numpy=array([[2.0617654]], dtype=float32)> b: <tf.Variable 'biases:0' shape=(1, 1) dtype=float32, numpy=array([[1.2990848]], dtype=float32)>\n",
            "Epoch: 6199 k: <tf.Variable 'slope:0' shape=(1, 1) dtype=float32, numpy=array([[2.0617654]], dtype=float32)> b: <tf.Variable 'biases:0' shape=(1, 1) dtype=float32, numpy=array([[1.2990848]], dtype=float32)>\n",
            "Epoch: 6299 k: <tf.Variable 'slope:0' shape=(1, 1) dtype=float32, numpy=array([[2.0617654]], dtype=float32)> b: <tf.Variable 'biases:0' shape=(1, 1) dtype=float32, numpy=array([[1.2990848]], dtype=float32)>\n",
            "Epoch: 6399 k: <tf.Variable 'slope:0' shape=(1, 1) dtype=float32, numpy=array([[2.0617654]], dtype=float32)> b: <tf.Variable 'biases:0' shape=(1, 1) dtype=float32, numpy=array([[1.2990848]], dtype=float32)>\n",
            "Epoch: 6499 k: <tf.Variable 'slope:0' shape=(1, 1) dtype=float32, numpy=array([[2.0617654]], dtype=float32)> b: <tf.Variable 'biases:0' shape=(1, 1) dtype=float32, numpy=array([[1.2990848]], dtype=float32)>\n",
            "Epoch: 6599 k: <tf.Variable 'slope:0' shape=(1, 1) dtype=float32, numpy=array([[2.0617654]], dtype=float32)> b: <tf.Variable 'biases:0' shape=(1, 1) dtype=float32, numpy=array([[1.2990848]], dtype=float32)>\n",
            "Epoch: 6699 k: <tf.Variable 'slope:0' shape=(1, 1) dtype=float32, numpy=array([[2.0617654]], dtype=float32)> b: <tf.Variable 'biases:0' shape=(1, 1) dtype=float32, numpy=array([[1.2990848]], dtype=float32)>\n",
            "Epoch: 6799 k: <tf.Variable 'slope:0' shape=(1, 1) dtype=float32, numpy=array([[2.0617654]], dtype=float32)> b: <tf.Variable 'biases:0' shape=(1, 1) dtype=float32, numpy=array([[1.2990848]], dtype=float32)>\n",
            "Epoch: 6899 k: <tf.Variable 'slope:0' shape=(1, 1) dtype=float32, numpy=array([[2.0617654]], dtype=float32)> b: <tf.Variable 'biases:0' shape=(1, 1) dtype=float32, numpy=array([[1.2990848]], dtype=float32)>\n",
            "Epoch: 6999 k: <tf.Variable 'slope:0' shape=(1, 1) dtype=float32, numpy=array([[2.0617654]], dtype=float32)> b: <tf.Variable 'biases:0' shape=(1, 1) dtype=float32, numpy=array([[1.2990848]], dtype=float32)>\n",
            "Epoch: 7099 k: <tf.Variable 'slope:0' shape=(1, 1) dtype=float32, numpy=array([[2.0617657]], dtype=float32)> b: <tf.Variable 'biases:0' shape=(1, 1) dtype=float32, numpy=array([[1.2990832]], dtype=float32)>\n",
            "Epoch: 7199 k: <tf.Variable 'slope:0' shape=(1, 1) dtype=float32, numpy=array([[2.0617661]], dtype=float32)> b: <tf.Variable 'biases:0' shape=(1, 1) dtype=float32, numpy=array([[1.2990808]], dtype=float32)>\n",
            "Epoch: 7299 k: <tf.Variable 'slope:0' shape=(1, 1) dtype=float32, numpy=array([[2.0617661]], dtype=float32)> b: <tf.Variable 'biases:0' shape=(1, 1) dtype=float32, numpy=array([[1.2990808]], dtype=float32)>\n",
            "Epoch: 7399 k: <tf.Variable 'slope:0' shape=(1, 1) dtype=float32, numpy=array([[2.0617661]], dtype=float32)> b: <tf.Variable 'biases:0' shape=(1, 1) dtype=float32, numpy=array([[1.2990808]], dtype=float32)>\n",
            "Epoch: 7499 k: <tf.Variable 'slope:0' shape=(1, 1) dtype=float32, numpy=array([[2.0617661]], dtype=float32)> b: <tf.Variable 'biases:0' shape=(1, 1) dtype=float32, numpy=array([[1.2990808]], dtype=float32)>\n",
            "Epoch: 7599 k: <tf.Variable 'slope:0' shape=(1, 1) dtype=float32, numpy=array([[2.0617661]], dtype=float32)> b: <tf.Variable 'biases:0' shape=(1, 1) dtype=float32, numpy=array([[1.2990808]], dtype=float32)>\n",
            "Epoch: 7699 k: <tf.Variable 'slope:0' shape=(1, 1) dtype=float32, numpy=array([[2.0617661]], dtype=float32)> b: <tf.Variable 'biases:0' shape=(1, 1) dtype=float32, numpy=array([[1.2990808]], dtype=float32)>\n",
            "Epoch: 7799 k: <tf.Variable 'slope:0' shape=(1, 1) dtype=float32, numpy=array([[2.0617661]], dtype=float32)> b: <tf.Variable 'biases:0' shape=(1, 1) dtype=float32, numpy=array([[1.2990808]], dtype=float32)>\n",
            "Epoch: 7899 k: <tf.Variable 'slope:0' shape=(1, 1) dtype=float32, numpy=array([[2.0617661]], dtype=float32)> b: <tf.Variable 'biases:0' shape=(1, 1) dtype=float32, numpy=array([[1.2990808]], dtype=float32)>\n",
            "Epoch: 7999 k: <tf.Variable 'slope:0' shape=(1, 1) dtype=float32, numpy=array([[2.0617661]], dtype=float32)> b: <tf.Variable 'biases:0' shape=(1, 1) dtype=float32, numpy=array([[1.2990808]], dtype=float32)>\n",
            "Epoch: 8099 k: <tf.Variable 'slope:0' shape=(1, 1) dtype=float32, numpy=array([[2.0617661]], dtype=float32)> b: <tf.Variable 'biases:0' shape=(1, 1) dtype=float32, numpy=array([[1.2990808]], dtype=float32)>\n",
            "Epoch: 8199 k: <tf.Variable 'slope:0' shape=(1, 1) dtype=float32, numpy=array([[2.0617661]], dtype=float32)> b: <tf.Variable 'biases:0' shape=(1, 1) dtype=float32, numpy=array([[1.2990808]], dtype=float32)>\n",
            "Epoch: 8299 k: <tf.Variable 'slope:0' shape=(1, 1) dtype=float32, numpy=array([[2.0617661]], dtype=float32)> b: <tf.Variable 'biases:0' shape=(1, 1) dtype=float32, numpy=array([[1.2990808]], dtype=float32)>\n",
            "Epoch: 8399 k: <tf.Variable 'slope:0' shape=(1, 1) dtype=float32, numpy=array([[2.0617661]], dtype=float32)> b: <tf.Variable 'biases:0' shape=(1, 1) dtype=float32, numpy=array([[1.2990808]], dtype=float32)>\n",
            "Epoch: 8499 k: <tf.Variable 'slope:0' shape=(1, 1) dtype=float32, numpy=array([[2.0617661]], dtype=float32)> b: <tf.Variable 'biases:0' shape=(1, 1) dtype=float32, numpy=array([[1.2990808]], dtype=float32)>\n",
            "Epoch: 8599 k: <tf.Variable 'slope:0' shape=(1, 1) dtype=float32, numpy=array([[2.0617661]], dtype=float32)> b: <tf.Variable 'biases:0' shape=(1, 1) dtype=float32, numpy=array([[1.2990808]], dtype=float32)>\n",
            "Epoch: 8699 k: <tf.Variable 'slope:0' shape=(1, 1) dtype=float32, numpy=array([[2.0617661]], dtype=float32)> b: <tf.Variable 'biases:0' shape=(1, 1) dtype=float32, numpy=array([[1.2990808]], dtype=float32)>\n",
            "Epoch: 8799 k: <tf.Variable 'slope:0' shape=(1, 1) dtype=float32, numpy=array([[2.0617661]], dtype=float32)> b: <tf.Variable 'biases:0' shape=(1, 1) dtype=float32, numpy=array([[1.2990808]], dtype=float32)>\n",
            "Epoch: 8899 k: <tf.Variable 'slope:0' shape=(1, 1) dtype=float32, numpy=array([[2.0617661]], dtype=float32)> b: <tf.Variable 'biases:0' shape=(1, 1) dtype=float32, numpy=array([[1.2990808]], dtype=float32)>\n",
            "Epoch: 8999 k: <tf.Variable 'slope:0' shape=(1, 1) dtype=float32, numpy=array([[2.0617661]], dtype=float32)> b: <tf.Variable 'biases:0' shape=(1, 1) dtype=float32, numpy=array([[1.2990808]], dtype=float32)>\n",
            "Epoch: 9099 k: <tf.Variable 'slope:0' shape=(1, 1) dtype=float32, numpy=array([[2.0617661]], dtype=float32)> b: <tf.Variable 'biases:0' shape=(1, 1) dtype=float32, numpy=array([[1.2990808]], dtype=float32)>\n",
            "Epoch: 9199 k: <tf.Variable 'slope:0' shape=(1, 1) dtype=float32, numpy=array([[2.0617661]], dtype=float32)> b: <tf.Variable 'biases:0' shape=(1, 1) dtype=float32, numpy=array([[1.2990808]], dtype=float32)>\n",
            "Epoch: 9299 k: <tf.Variable 'slope:0' shape=(1, 1) dtype=float32, numpy=array([[2.0617661]], dtype=float32)> b: <tf.Variable 'biases:0' shape=(1, 1) dtype=float32, numpy=array([[1.2990808]], dtype=float32)>\n",
            "Epoch: 9399 k: <tf.Variable 'slope:0' shape=(1, 1) dtype=float32, numpy=array([[2.0617661]], dtype=float32)> b: <tf.Variable 'biases:0' shape=(1, 1) dtype=float32, numpy=array([[1.2990808]], dtype=float32)>\n",
            "Epoch: 9499 k: <tf.Variable 'slope:0' shape=(1, 1) dtype=float32, numpy=array([[2.0617661]], dtype=float32)> b: <tf.Variable 'biases:0' shape=(1, 1) dtype=float32, numpy=array([[1.2990808]], dtype=float32)>\n",
            "Epoch: 9599 k: <tf.Variable 'slope:0' shape=(1, 1) dtype=float32, numpy=array([[2.0617661]], dtype=float32)> b: <tf.Variable 'biases:0' shape=(1, 1) dtype=float32, numpy=array([[1.2990808]], dtype=float32)>\n",
            "Epoch: 9699 k: <tf.Variable 'slope:0' shape=(1, 1) dtype=float32, numpy=array([[2.0617661]], dtype=float32)> b: <tf.Variable 'biases:0' shape=(1, 1) dtype=float32, numpy=array([[1.2990808]], dtype=float32)>\n",
            "Epoch: 9799 k: <tf.Variable 'slope:0' shape=(1, 1) dtype=float32, numpy=array([[2.0617661]], dtype=float32)> b: <tf.Variable 'biases:0' shape=(1, 1) dtype=float32, numpy=array([[1.2990808]], dtype=float32)>\n",
            "Epoch: 9899 k: <tf.Variable 'slope:0' shape=(1, 1) dtype=float32, numpy=array([[2.0617661]], dtype=float32)> b: <tf.Variable 'biases:0' shape=(1, 1) dtype=float32, numpy=array([[1.2990808]], dtype=float32)>\n",
            "Epoch: 9999 k: <tf.Variable 'slope:0' shape=(1, 1) dtype=float32, numpy=array([[2.0617661]], dtype=float32)> b: <tf.Variable 'biases:0' shape=(1, 1) dtype=float32, numpy=array([[1.2990808]], dtype=float32)>\n",
            "Epoch: 10099 k: <tf.Variable 'slope:0' shape=(1, 1) dtype=float32, numpy=array([[2.0617661]], dtype=float32)> b: <tf.Variable 'biases:0' shape=(1, 1) dtype=float32, numpy=array([[1.2990808]], dtype=float32)>\n",
            "Epoch: 10199 k: <tf.Variable 'slope:0' shape=(1, 1) dtype=float32, numpy=array([[2.0617661]], dtype=float32)> b: <tf.Variable 'biases:0' shape=(1, 1) dtype=float32, numpy=array([[1.2990808]], dtype=float32)>\n",
            "Epoch: 10299 k: <tf.Variable 'slope:0' shape=(1, 1) dtype=float32, numpy=array([[2.0617661]], dtype=float32)> b: <tf.Variable 'biases:0' shape=(1, 1) dtype=float32, numpy=array([[1.2990808]], dtype=float32)>\n",
            "Epoch: 10399 k: <tf.Variable 'slope:0' shape=(1, 1) dtype=float32, numpy=array([[2.0617661]], dtype=float32)> b: <tf.Variable 'biases:0' shape=(1, 1) dtype=float32, numpy=array([[1.2990808]], dtype=float32)>\n",
            "Epoch: 10499 k: <tf.Variable 'slope:0' shape=(1, 1) dtype=float32, numpy=array([[2.0617661]], dtype=float32)> b: <tf.Variable 'biases:0' shape=(1, 1) dtype=float32, numpy=array([[1.2990808]], dtype=float32)>\n",
            "Epoch: 10599 k: <tf.Variable 'slope:0' shape=(1, 1) dtype=float32, numpy=array([[2.0617661]], dtype=float32)> b: <tf.Variable 'biases:0' shape=(1, 1) dtype=float32, numpy=array([[1.2990807]], dtype=float32)>\n",
            "Epoch: 10699 k: <tf.Variable 'slope:0' shape=(1, 1) dtype=float32, numpy=array([[2.0617661]], dtype=float32)> b: <tf.Variable 'biases:0' shape=(1, 1) dtype=float32, numpy=array([[1.299081]], dtype=float32)>\n",
            "Epoch: 10799 k: <tf.Variable 'slope:0' shape=(1, 1) dtype=float32, numpy=array([[2.0617661]], dtype=float32)> b: <tf.Variable 'biases:0' shape=(1, 1) dtype=float32, numpy=array([[1.2990807]], dtype=float32)>\n",
            "Epoch: 10899 k: <tf.Variable 'slope:0' shape=(1, 1) dtype=float32, numpy=array([[2.0617661]], dtype=float32)> b: <tf.Variable 'biases:0' shape=(1, 1) dtype=float32, numpy=array([[1.2990812]], dtype=float32)>\n",
            "Epoch: 10999 k: <tf.Variable 'slope:0' shape=(1, 1) dtype=float32, numpy=array([[2.061766]], dtype=float32)> b: <tf.Variable 'biases:0' shape=(1, 1) dtype=float32, numpy=array([[1.2990808]], dtype=float32)>\n",
            "Epoch: 11099 k: <tf.Variable 'slope:0' shape=(1, 1) dtype=float32, numpy=array([[2.0617661]], dtype=float32)> b: <tf.Variable 'biases:0' shape=(1, 1) dtype=float32, numpy=array([[1.2990807]], dtype=float32)>\n",
            "Epoch: 11199 k: <tf.Variable 'slope:0' shape=(1, 1) dtype=float32, numpy=array([[2.0617661]], dtype=float32)> b: <tf.Variable 'biases:0' shape=(1, 1) dtype=float32, numpy=array([[1.2990807]], dtype=float32)>\n",
            "Epoch: 11299 k: <tf.Variable 'slope:0' shape=(1, 1) dtype=float32, numpy=array([[2.0617661]], dtype=float32)> b: <tf.Variable 'biases:0' shape=(1, 1) dtype=float32, numpy=array([[1.2990808]], dtype=float32)>\n",
            "Epoch: 11399 k: <tf.Variable 'slope:0' shape=(1, 1) dtype=float32, numpy=array([[2.0617661]], dtype=float32)> b: <tf.Variable 'biases:0' shape=(1, 1) dtype=float32, numpy=array([[1.2990808]], dtype=float32)>\n",
            "Epoch: 11499 k: <tf.Variable 'slope:0' shape=(1, 1) dtype=float32, numpy=array([[2.0617664]], dtype=float32)> b: <tf.Variable 'biases:0' shape=(1, 1) dtype=float32, numpy=array([[1.299081]], dtype=float32)>\n",
            "Epoch: 11599 k: <tf.Variable 'slope:0' shape=(1, 1) dtype=float32, numpy=array([[2.061766]], dtype=float32)> b: <tf.Variable 'biases:0' shape=(1, 1) dtype=float32, numpy=array([[1.2990808]], dtype=float32)>\n",
            "Epoch: 11699 k: <tf.Variable 'slope:0' shape=(1, 1) dtype=float32, numpy=array([[2.0617664]], dtype=float32)> b: <tf.Variable 'biases:0' shape=(1, 1) dtype=float32, numpy=array([[1.2990807]], dtype=float32)>\n",
            "Epoch: 11799 k: <tf.Variable 'slope:0' shape=(1, 1) dtype=float32, numpy=array([[2.0617661]], dtype=float32)> b: <tf.Variable 'biases:0' shape=(1, 1) dtype=float32, numpy=array([[1.2990812]], dtype=float32)>\n",
            "Epoch: 11899 k: <tf.Variable 'slope:0' shape=(1, 1) dtype=float32, numpy=array([[2.0617664]], dtype=float32)> b: <tf.Variable 'biases:0' shape=(1, 1) dtype=float32, numpy=array([[1.2990814]], dtype=float32)>\n",
            "Epoch: 11999 k: <tf.Variable 'slope:0' shape=(1, 1) dtype=float32, numpy=array([[2.0617661]], dtype=float32)> b: <tf.Variable 'biases:0' shape=(1, 1) dtype=float32, numpy=array([[1.2990812]], dtype=float32)>\n",
            "Epoch: 12099 k: <tf.Variable 'slope:0' shape=(1, 1) dtype=float32, numpy=array([[2.061766]], dtype=float32)> b: <tf.Variable 'biases:0' shape=(1, 1) dtype=float32, numpy=array([[1.2990804]], dtype=float32)>\n",
            "Epoch: 12199 k: <tf.Variable 'slope:0' shape=(1, 1) dtype=float32, numpy=array([[2.061766]], dtype=float32)> b: <tf.Variable 'biases:0' shape=(1, 1) dtype=float32, numpy=array([[1.2990807]], dtype=float32)>\n",
            "Epoch: 12299 k: <tf.Variable 'slope:0' shape=(1, 1) dtype=float32, numpy=array([[2.061766]], dtype=float32)> b: <tf.Variable 'biases:0' shape=(1, 1) dtype=float32, numpy=array([[1.2990811]], dtype=float32)>\n",
            "Epoch: 12399 k: <tf.Variable 'slope:0' shape=(1, 1) dtype=float32, numpy=array([[2.0617661]], dtype=float32)> b: <tf.Variable 'biases:0' shape=(1, 1) dtype=float32, numpy=array([[1.2990807]], dtype=float32)>\n",
            "Epoch: 12499 k: <tf.Variable 'slope:0' shape=(1, 1) dtype=float32, numpy=array([[2.0617661]], dtype=float32)> b: <tf.Variable 'biases:0' shape=(1, 1) dtype=float32, numpy=array([[1.2990805]], dtype=float32)>\n",
            "Epoch: 12599 k: <tf.Variable 'slope:0' shape=(1, 1) dtype=float32, numpy=array([[2.061766]], dtype=float32)> b: <tf.Variable 'biases:0' shape=(1, 1) dtype=float32, numpy=array([[1.2990808]], dtype=float32)>\n",
            "Epoch: 12699 k: <tf.Variable 'slope:0' shape=(1, 1) dtype=float32, numpy=array([[2.061766]], dtype=float32)> b: <tf.Variable 'biases:0' shape=(1, 1) dtype=float32, numpy=array([[1.2990806]], dtype=float32)>\n",
            "Epoch: 12799 k: <tf.Variable 'slope:0' shape=(1, 1) dtype=float32, numpy=array([[2.061766]], dtype=float32)> b: <tf.Variable 'biases:0' shape=(1, 1) dtype=float32, numpy=array([[1.2990808]], dtype=float32)>\n",
            "Epoch: 12899 k: <tf.Variable 'slope:0' shape=(1, 1) dtype=float32, numpy=array([[2.061766]], dtype=float32)> b: <tf.Variable 'biases:0' shape=(1, 1) dtype=float32, numpy=array([[1.299081]], dtype=float32)>\n",
            "Epoch: 12999 k: <tf.Variable 'slope:0' shape=(1, 1) dtype=float32, numpy=array([[2.0617666]], dtype=float32)> b: <tf.Variable 'biases:0' shape=(1, 1) dtype=float32, numpy=array([[1.2990814]], dtype=float32)>\n",
            "Epoch: 13099 k: <tf.Variable 'slope:0' shape=(1, 1) dtype=float32, numpy=array([[2.0617652]], dtype=float32)> b: <tf.Variable 'biases:0' shape=(1, 1) dtype=float32, numpy=array([[1.2990798]], dtype=float32)>\n",
            "Epoch: 13199 k: <tf.Variable 'slope:0' shape=(1, 1) dtype=float32, numpy=array([[2.0617661]], dtype=float32)> b: <tf.Variable 'biases:0' shape=(1, 1) dtype=float32, numpy=array([[1.2990812]], dtype=float32)>\n",
            "Epoch: 13299 k: <tf.Variable 'slope:0' shape=(1, 1) dtype=float32, numpy=array([[2.061766]], dtype=float32)> b: <tf.Variable 'biases:0' shape=(1, 1) dtype=float32, numpy=array([[1.299081]], dtype=float32)>\n",
            "Epoch: 13399 k: <tf.Variable 'slope:0' shape=(1, 1) dtype=float32, numpy=array([[2.0617666]], dtype=float32)> b: <tf.Variable 'biases:0' shape=(1, 1) dtype=float32, numpy=array([[1.2990811]], dtype=float32)>\n",
            "Epoch: 13499 k: <tf.Variable 'slope:0' shape=(1, 1) dtype=float32, numpy=array([[2.061766]], dtype=float32)> b: <tf.Variable 'biases:0' shape=(1, 1) dtype=float32, numpy=array([[1.2990803]], dtype=float32)>\n",
            "Epoch: 13599 k: <tf.Variable 'slope:0' shape=(1, 1) dtype=float32, numpy=array([[2.0615654]], dtype=float32)> b: <tf.Variable 'biases:0' shape=(1, 1) dtype=float32, numpy=array([[1.2988794]], dtype=float32)>\n",
            "Epoch: 13699 k: <tf.Variable 'slope:0' shape=(1, 1) dtype=float32, numpy=array([[2.0617695]], dtype=float32)> b: <tf.Variable 'biases:0' shape=(1, 1) dtype=float32, numpy=array([[1.2990842]], dtype=float32)>\n",
            "Epoch: 13799 k: <tf.Variable 'slope:0' shape=(1, 1) dtype=float32, numpy=array([[2.0618756]], dtype=float32)> b: <tf.Variable 'biases:0' shape=(1, 1) dtype=float32, numpy=array([[1.2991908]], dtype=float32)>\n",
            "Epoch: 13899 k: <tf.Variable 'slope:0' shape=(1, 1) dtype=float32, numpy=array([[2.0617797]], dtype=float32)> b: <tf.Variable 'biases:0' shape=(1, 1) dtype=float32, numpy=array([[1.2990941]], dtype=float32)>\n",
            "Epoch: 13999 k: <tf.Variable 'slope:0' shape=(1, 1) dtype=float32, numpy=array([[2.061743]], dtype=float32)> b: <tf.Variable 'biases:0' shape=(1, 1) dtype=float32, numpy=array([[1.2990574]], dtype=float32)>\n",
            "Epoch: 14099 k: <tf.Variable 'slope:0' shape=(1, 1) dtype=float32, numpy=array([[2.0614383]], dtype=float32)> b: <tf.Variable 'biases:0' shape=(1, 1) dtype=float32, numpy=array([[1.2987525]], dtype=float32)>\n",
            "Epoch: 14199 k: <tf.Variable 'slope:0' shape=(1, 1) dtype=float32, numpy=array([[2.0617793]], dtype=float32)> b: <tf.Variable 'biases:0' shape=(1, 1) dtype=float32, numpy=array([[1.299094]], dtype=float32)>\n",
            "Epoch: 14299 k: <tf.Variable 'slope:0' shape=(1, 1) dtype=float32, numpy=array([[2.0614865]], dtype=float32)> b: <tf.Variable 'biases:0' shape=(1, 1) dtype=float32, numpy=array([[1.2988014]], dtype=float32)>\n",
            "Epoch: 14399 k: <tf.Variable 'slope:0' shape=(1, 1) dtype=float32, numpy=array([[2.0617669]], dtype=float32)> b: <tf.Variable 'biases:0' shape=(1, 1) dtype=float32, numpy=array([[1.2990819]], dtype=float32)>\n",
            "Epoch: 14499 k: <tf.Variable 'slope:0' shape=(1, 1) dtype=float32, numpy=array([[2.061975]], dtype=float32)> b: <tf.Variable 'biases:0' shape=(1, 1) dtype=float32, numpy=array([[1.2992904]], dtype=float32)>\n",
            "Epoch: 14599 k: <tf.Variable 'slope:0' shape=(1, 1) dtype=float32, numpy=array([[2.0617704]], dtype=float32)> b: <tf.Variable 'biases:0' shape=(1, 1) dtype=float32, numpy=array([[1.2990853]], dtype=float32)>\n",
            "Epoch: 14699 k: <tf.Variable 'slope:0' shape=(1, 1) dtype=float32, numpy=array([[2.0626786]], dtype=float32)> b: <tf.Variable 'biases:0' shape=(1, 1) dtype=float32, numpy=array([[1.2999938]], dtype=float32)>\n",
            "Epoch: 14799 k: <tf.Variable 'slope:0' shape=(1, 1) dtype=float32, numpy=array([[2.0617678]], dtype=float32)> b: <tf.Variable 'biases:0' shape=(1, 1) dtype=float32, numpy=array([[1.2990825]], dtype=float32)>\n",
            "Epoch: 14899 k: <tf.Variable 'slope:0' shape=(1, 1) dtype=float32, numpy=array([[2.061766]], dtype=float32)> b: <tf.Variable 'biases:0' shape=(1, 1) dtype=float32, numpy=array([[1.2990808]], dtype=float32)>\n",
            "Epoch: 14999 k: <tf.Variable 'slope:0' shape=(1, 1) dtype=float32, numpy=array([[2.0624065]], dtype=float32)> b: <tf.Variable 'biases:0' shape=(1, 1) dtype=float32, numpy=array([[1.2997212]], dtype=float32)>\n",
            "Epoch: 15099 k: <tf.Variable 'slope:0' shape=(1, 1) dtype=float32, numpy=array([[2.0617793]], dtype=float32)> b: <tf.Variable 'biases:0' shape=(1, 1) dtype=float32, numpy=array([[1.2990937]], dtype=float32)>\n",
            "Epoch: 15199 k: <tf.Variable 'slope:0' shape=(1, 1) dtype=float32, numpy=array([[2.0617652]], dtype=float32)> b: <tf.Variable 'biases:0' shape=(1, 1) dtype=float32, numpy=array([[1.29908]], dtype=float32)>\n",
            "Epoch: 15299 k: <tf.Variable 'slope:0' shape=(1, 1) dtype=float32, numpy=array([[2.0615714]], dtype=float32)> b: <tf.Variable 'biases:0' shape=(1, 1) dtype=float32, numpy=array([[1.2988858]], dtype=float32)>\n",
            "Epoch: 15399 k: <tf.Variable 'slope:0' shape=(1, 1) dtype=float32, numpy=array([[2.0617666]], dtype=float32)> b: <tf.Variable 'biases:0' shape=(1, 1) dtype=float32, numpy=array([[1.2990812]], dtype=float32)>\n",
            "Epoch: 15499 k: <tf.Variable 'slope:0' shape=(1, 1) dtype=float32, numpy=array([[2.0609524]], dtype=float32)> b: <tf.Variable 'biases:0' shape=(1, 1) dtype=float32, numpy=array([[1.2982672]], dtype=float32)>\n",
            "Epoch: 15599 k: <tf.Variable 'slope:0' shape=(1, 1) dtype=float32, numpy=array([[2.0617716]], dtype=float32)> b: <tf.Variable 'biases:0' shape=(1, 1) dtype=float32, numpy=array([[1.2990865]], dtype=float32)>\n",
            "Epoch: 15699 k: <tf.Variable 'slope:0' shape=(1, 1) dtype=float32, numpy=array([[2.061426]], dtype=float32)> b: <tf.Variable 'biases:0' shape=(1, 1) dtype=float32, numpy=array([[1.2987405]], dtype=float32)>\n",
            "Epoch: 15799 k: <tf.Variable 'slope:0' shape=(1, 1) dtype=float32, numpy=array([[2.0617542]], dtype=float32)> b: <tf.Variable 'biases:0' shape=(1, 1) dtype=float32, numpy=array([[1.2990688]], dtype=float32)>\n",
            "Epoch: 15899 k: <tf.Variable 'slope:0' shape=(1, 1) dtype=float32, numpy=array([[2.0610552]], dtype=float32)> b: <tf.Variable 'biases:0' shape=(1, 1) dtype=float32, numpy=array([[1.2983695]], dtype=float32)>\n",
            "Epoch: 15999 k: <tf.Variable 'slope:0' shape=(1, 1) dtype=float32, numpy=array([[2.0617657]], dtype=float32)> b: <tf.Variable 'biases:0' shape=(1, 1) dtype=float32, numpy=array([[1.2990807]], dtype=float32)>\n",
            "Epoch: 16099 k: <tf.Variable 'slope:0' shape=(1, 1) dtype=float32, numpy=array([[2.0614634]], dtype=float32)> b: <tf.Variable 'biases:0' shape=(1, 1) dtype=float32, numpy=array([[1.2987782]], dtype=float32)>\n",
            "Epoch: 16199 k: <tf.Variable 'slope:0' shape=(1, 1) dtype=float32, numpy=array([[2.0617683]], dtype=float32)> b: <tf.Variable 'biases:0' shape=(1, 1) dtype=float32, numpy=array([[1.299083]], dtype=float32)>\n",
            "Epoch: 16299 k: <tf.Variable 'slope:0' shape=(1, 1) dtype=float32, numpy=array([[2.0613213]], dtype=float32)> b: <tf.Variable 'biases:0' shape=(1, 1) dtype=float32, numpy=array([[1.2986358]], dtype=float32)>\n",
            "Epoch: 16399 k: <tf.Variable 'slope:0' shape=(1, 1) dtype=float32, numpy=array([[2.061761]], dtype=float32)> b: <tf.Variable 'biases:0' shape=(1, 1) dtype=float32, numpy=array([[1.2990756]], dtype=float32)>\n",
            "Epoch: 16499 k: <tf.Variable 'slope:0' shape=(1, 1) dtype=float32, numpy=array([[2.0618825]], dtype=float32)> b: <tf.Variable 'biases:0' shape=(1, 1) dtype=float32, numpy=array([[1.2991972]], dtype=float32)>\n",
            "Epoch: 16599 k: <tf.Variable 'slope:0' shape=(1, 1) dtype=float32, numpy=array([[2.0617673]], dtype=float32)> b: <tf.Variable 'biases:0' shape=(1, 1) dtype=float32, numpy=array([[1.2990822]], dtype=float32)>\n",
            "Epoch: 16699 k: <tf.Variable 'slope:0' shape=(1, 1) dtype=float32, numpy=array([[2.0622177]], dtype=float32)> b: <tf.Variable 'biases:0' shape=(1, 1) dtype=float32, numpy=array([[1.299533]], dtype=float32)>\n",
            "Epoch: 16799 k: <tf.Variable 'slope:0' shape=(1, 1) dtype=float32, numpy=array([[2.0617676]], dtype=float32)> b: <tf.Variable 'biases:0' shape=(1, 1) dtype=float32, numpy=array([[1.2990822]], dtype=float32)>\n",
            "Epoch: 16899 k: <tf.Variable 'slope:0' shape=(1, 1) dtype=float32, numpy=array([[2.0625184]], dtype=float32)> b: <tf.Variable 'biases:0' shape=(1, 1) dtype=float32, numpy=array([[1.2998332]], dtype=float32)>\n",
            "Epoch: 16999 k: <tf.Variable 'slope:0' shape=(1, 1) dtype=float32, numpy=array([[2.061772]], dtype=float32)> b: <tf.Variable 'biases:0' shape=(1, 1) dtype=float32, numpy=array([[1.2990868]], dtype=float32)>\n",
            "Epoch: 17099 k: <tf.Variable 'slope:0' shape=(1, 1) dtype=float32, numpy=array([[2.0626645]], dtype=float32)> b: <tf.Variable 'biases:0' shape=(1, 1) dtype=float32, numpy=array([[1.2999796]], dtype=float32)>\n",
            "Epoch: 17199 k: <tf.Variable 'slope:0' shape=(1, 1) dtype=float32, numpy=array([[2.0617704]], dtype=float32)> b: <tf.Variable 'biases:0' shape=(1, 1) dtype=float32, numpy=array([[1.299085]], dtype=float32)>\n",
            "Epoch: 17299 k: <tf.Variable 'slope:0' shape=(1, 1) dtype=float32, numpy=array([[2.0624619]], dtype=float32)> b: <tf.Variable 'biases:0' shape=(1, 1) dtype=float32, numpy=array([[1.2997763]], dtype=float32)>\n",
            "Epoch: 17399 k: <tf.Variable 'slope:0' shape=(1, 1) dtype=float32, numpy=array([[2.0617716]], dtype=float32)> b: <tf.Variable 'biases:0' shape=(1, 1) dtype=float32, numpy=array([[1.2990867]], dtype=float32)>\n",
            "Epoch: 17499 k: <tf.Variable 'slope:0' shape=(1, 1) dtype=float32, numpy=array([[2.0627306]], dtype=float32)> b: <tf.Variable 'biases:0' shape=(1, 1) dtype=float32, numpy=array([[1.3000455]], dtype=float32)>\n",
            "Epoch: 17599 k: <tf.Variable 'slope:0' shape=(1, 1) dtype=float32, numpy=array([[2.0617716]], dtype=float32)> b: <tf.Variable 'biases:0' shape=(1, 1) dtype=float32, numpy=array([[1.2990863]], dtype=float32)>\n",
            "Epoch: 17699 k: <tf.Variable 'slope:0' shape=(1, 1) dtype=float32, numpy=array([[2.0617673]], dtype=float32)> b: <tf.Variable 'biases:0' shape=(1, 1) dtype=float32, numpy=array([[1.2990823]], dtype=float32)>\n",
            "Epoch: 17799 k: <tf.Variable 'slope:0' shape=(1, 1) dtype=float32, numpy=array([[2.0616786]], dtype=float32)> b: <tf.Variable 'biases:0' shape=(1, 1) dtype=float32, numpy=array([[1.298994]], dtype=float32)>\n",
            "Epoch: 17899 k: <tf.Variable 'slope:0' shape=(1, 1) dtype=float32, numpy=array([[2.0617652]], dtype=float32)> b: <tf.Variable 'biases:0' shape=(1, 1) dtype=float32, numpy=array([[1.2990797]], dtype=float32)>\n",
            "Epoch: 17999 k: <tf.Variable 'slope:0' shape=(1, 1) dtype=float32, numpy=array([[2.0617657]], dtype=float32)> b: <tf.Variable 'biases:0' shape=(1, 1) dtype=float32, numpy=array([[1.2990805]], dtype=float32)>\n",
            "Epoch: 18099 k: <tf.Variable 'slope:0' shape=(1, 1) dtype=float32, numpy=array([[2.0623035]], dtype=float32)> b: <tf.Variable 'biases:0' shape=(1, 1) dtype=float32, numpy=array([[1.2996176]], dtype=float32)>\n",
            "Epoch: 18199 k: <tf.Variable 'slope:0' shape=(1, 1) dtype=float32, numpy=array([[2.061756]], dtype=float32)> b: <tf.Variable 'biases:0' shape=(1, 1) dtype=float32, numpy=array([[1.2990704]], dtype=float32)>\n",
            "Epoch: 18299 k: <tf.Variable 'slope:0' shape=(1, 1) dtype=float32, numpy=array([[2.061775]], dtype=float32)> b: <tf.Variable 'biases:0' shape=(1, 1) dtype=float32, numpy=array([[1.2990893]], dtype=float32)>\n",
            "Epoch: 18399 k: <tf.Variable 'slope:0' shape=(1, 1) dtype=float32, numpy=array([[2.0617738]], dtype=float32)> b: <tf.Variable 'biases:0' shape=(1, 1) dtype=float32, numpy=array([[1.2990887]], dtype=float32)>\n",
            "Epoch: 18499 k: <tf.Variable 'slope:0' shape=(1, 1) dtype=float32, numpy=array([[2.0617676]], dtype=float32)> b: <tf.Variable 'biases:0' shape=(1, 1) dtype=float32, numpy=array([[1.2990829]], dtype=float32)>\n",
            "Epoch: 18599 k: <tf.Variable 'slope:0' shape=(1, 1) dtype=float32, numpy=array([[2.0609388]], dtype=float32)> b: <tf.Variable 'biases:0' shape=(1, 1) dtype=float32, numpy=array([[1.2982537]], dtype=float32)>\n",
            "Epoch: 18699 k: <tf.Variable 'slope:0' shape=(1, 1) dtype=float32, numpy=array([[2.0617652]], dtype=float32)> b: <tf.Variable 'biases:0' shape=(1, 1) dtype=float32, numpy=array([[1.2990798]], dtype=float32)>\n",
            "Epoch: 18799 k: <tf.Variable 'slope:0' shape=(1, 1) dtype=float32, numpy=array([[2.06173]], dtype=float32)> b: <tf.Variable 'biases:0' shape=(1, 1) dtype=float32, numpy=array([[1.2990448]], dtype=float32)>\n",
            "Epoch: 18899 k: <tf.Variable 'slope:0' shape=(1, 1) dtype=float32, numpy=array([[2.0617461]], dtype=float32)> b: <tf.Variable 'biases:0' shape=(1, 1) dtype=float32, numpy=array([[1.2990606]], dtype=float32)>\n",
            "Epoch: 18999 k: <tf.Variable 'slope:0' shape=(1, 1) dtype=float32, numpy=array([[2.0617645]], dtype=float32)> b: <tf.Variable 'biases:0' shape=(1, 1) dtype=float32, numpy=array([[1.2990794]], dtype=float32)>\n",
            "Epoch: 19099 k: <tf.Variable 'slope:0' shape=(1, 1) dtype=float32, numpy=array([[2.0617406]], dtype=float32)> b: <tf.Variable 'biases:0' shape=(1, 1) dtype=float32, numpy=array([[1.2990551]], dtype=float32)>\n",
            "Epoch: 19199 k: <tf.Variable 'slope:0' shape=(1, 1) dtype=float32, numpy=array([[2.0617657]], dtype=float32)> b: <tf.Variable 'biases:0' shape=(1, 1) dtype=float32, numpy=array([[1.2990803]], dtype=float32)>\n",
            "Epoch: 19299 k: <tf.Variable 'slope:0' shape=(1, 1) dtype=float32, numpy=array([[2.0617666]], dtype=float32)> b: <tf.Variable 'biases:0' shape=(1, 1) dtype=float32, numpy=array([[1.2990812]], dtype=float32)>\n",
            "Epoch: 19399 k: <tf.Variable 'slope:0' shape=(1, 1) dtype=float32, numpy=array([[2.0618138]], dtype=float32)> b: <tf.Variable 'biases:0' shape=(1, 1) dtype=float32, numpy=array([[1.2991287]], dtype=float32)>\n",
            "Epoch: 19499 k: <tf.Variable 'slope:0' shape=(1, 1) dtype=float32, numpy=array([[2.0617697]], dtype=float32)> b: <tf.Variable 'biases:0' shape=(1, 1) dtype=float32, numpy=array([[1.2990844]], dtype=float32)>\n",
            "Epoch: 19599 k: <tf.Variable 'slope:0' shape=(1, 1) dtype=float32, numpy=array([[2.0617785]], dtype=float32)> b: <tf.Variable 'biases:0' shape=(1, 1) dtype=float32, numpy=array([[1.2990935]], dtype=float32)>\n",
            "Epoch: 19699 k: <tf.Variable 'slope:0' shape=(1, 1) dtype=float32, numpy=array([[2.0617578]], dtype=float32)> b: <tf.Variable 'biases:0' shape=(1, 1) dtype=float32, numpy=array([[1.2990726]], dtype=float32)>\n",
            "Epoch: 19799 k: <tf.Variable 'slope:0' shape=(1, 1) dtype=float32, numpy=array([[2.061747]], dtype=float32)> b: <tf.Variable 'biases:0' shape=(1, 1) dtype=float32, numpy=array([[1.2990618]], dtype=float32)>\n",
            "Epoch: 19899 k: <tf.Variable 'slope:0' shape=(1, 1) dtype=float32, numpy=array([[2.0617645]], dtype=float32)> b: <tf.Variable 'biases:0' shape=(1, 1) dtype=float32, numpy=array([[1.2990792]], dtype=float32)>\n",
            "Epoch: 19999 k: <tf.Variable 'slope:0' shape=(1, 1) dtype=float32, numpy=array([[2.0617993]], dtype=float32)> b: <tf.Variable 'biases:0' shape=(1, 1) dtype=float32, numpy=array([[1.2991139]], dtype=float32)>\n"
          ]
        }
      ]
    }
  ]
}